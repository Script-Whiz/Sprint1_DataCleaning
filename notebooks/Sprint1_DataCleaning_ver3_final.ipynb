{
 "cells": [
  {
   "cell_type": "markdown",
   "id": "502256ee-e1d2-4e25-ab22-f636c81ca69c",
   "metadata": {},
   "source": [
    "## Sprint 1 Data Cleaning - Basic Python Project"
   ]
  },
  {
   "cell_type": "markdown",
   "id": "4bb2a07c-96ef-49a9-875d-f4c8efc0dd8d",
   "metadata": {},
   "source": [
    "## Introduction <a id='intro'></a>\n",
    "In this project, I will work with data from the entertainment industry. I will study a dataset with records on movies and shows. The research will focus on the \"Golden Age\" of television, which began in 1999 with the release of *The Sopranos* and is still ongoing.\n",
    "\n",
    "The aim of this project is to investigate how the number of votes a title receives impacts its ratings. The assumption is that highly-rated shows (we will focus on TV shows, ignoring movies) released during the \"Golden Age\" of television also have the most votes.\n",
    "\n",
    "### Stages \n",
    "Data on movies and shows is stored in the `/datasets/movies_and_shows.csv` file. There is no information about the quality of the data, so I will need to explore it before doing the analysis.\n",
    "\n",
    "First, I will evaluate the quality of the data and see whether its issues are significant. Then, during data preprocessing, you will try to account for the most critical problems.\n",
    " \n",
    "Your project will consist of three stages:\n",
    " 1. Data overview\n",
    " 2. Data preprocessing\n",
    " 3. Data analysis"
   ]
  },
  {
   "cell_type": "markdown",
   "id": "ac0593ac",
   "metadata": {},
   "source": [
    "## Stage 1. Data overview <a id='data_review'></a>\n",
    "\n",
    "Open and explore the data."
   ]
  },
  {
   "cell_type": "code",
   "execution_count": 81,
   "id": "1727d3f8",
   "metadata": {},
   "outputs": [],
   "source": [
    "# importing pandas\n",
    "import pandas as pd"
   ]
  },
  {
   "cell_type": "markdown",
   "id": "9821beeb",
   "metadata": {},
   "source": [
    "Read the `movies_and_shows.csv` file from the `datasets` folder and save it in the `df` variable:"
   ]
  },
  {
   "cell_type": "code",
   "execution_count": 83,
   "id": "fc5a1402",
   "metadata": {},
   "outputs": [],
   "source": [
    "# reading the files and storing them to df\n",
    "df = pd.read_csv('../datasets/movies_and_shows.csv')\n",
    "#print(df['  Type'].sort_values(ascending=True).unique())"
   ]
  },
  {
   "cell_type": "markdown",
   "id": "1cd0a96d",
   "metadata": {},
   "source": [
    "Print the first 10 table rows:"
   ]
  },
  {
   "cell_type": "code",
   "execution_count": 85,
   "id": "acd92001",
   "metadata": {},
   "outputs": [
    {
     "data": {
      "text/html": [
       "<div>\n",
       "<style scoped>\n",
       "    .dataframe tbody tr th:only-of-type {\n",
       "        vertical-align: middle;\n",
       "    }\n",
       "\n",
       "    .dataframe tbody tr th {\n",
       "        vertical-align: top;\n",
       "    }\n",
       "\n",
       "    .dataframe thead th {\n",
       "        text-align: right;\n",
       "    }\n",
       "</style>\n",
       "<table border=\"1\" class=\"dataframe\">\n",
       "  <thead>\n",
       "    <tr style=\"text-align: right;\">\n",
       "      <th></th>\n",
       "      <th>name</th>\n",
       "      <th>Character</th>\n",
       "      <th>r0le</th>\n",
       "      <th>TITLE</th>\n",
       "      <th>Type</th>\n",
       "      <th>release Year</th>\n",
       "      <th>genres</th>\n",
       "      <th>imdb sc0re</th>\n",
       "      <th>imdb v0tes</th>\n",
       "    </tr>\n",
       "  </thead>\n",
       "  <tbody>\n",
       "    <tr>\n",
       "      <th>0</th>\n",
       "      <td>Robert De Niro</td>\n",
       "      <td>Travis Bickle</td>\n",
       "      <td>ACTOR</td>\n",
       "      <td>Taxi Driver</td>\n",
       "      <td>MOVIE</td>\n",
       "      <td>1976</td>\n",
       "      <td>['drama', 'crime']</td>\n",
       "      <td>8.2</td>\n",
       "      <td>808582.0</td>\n",
       "    </tr>\n",
       "    <tr>\n",
       "      <th>1</th>\n",
       "      <td>Jodie Foster</td>\n",
       "      <td>Iris Steensma</td>\n",
       "      <td>ACTOR</td>\n",
       "      <td>Taxi Driver</td>\n",
       "      <td>MOVIE</td>\n",
       "      <td>1976</td>\n",
       "      <td>['drama', 'crime']</td>\n",
       "      <td>8.2</td>\n",
       "      <td>808582.0</td>\n",
       "    </tr>\n",
       "    <tr>\n",
       "      <th>2</th>\n",
       "      <td>Albert Brooks</td>\n",
       "      <td>Tom</td>\n",
       "      <td>ACTOR</td>\n",
       "      <td>Taxi Driver</td>\n",
       "      <td>MOVIE</td>\n",
       "      <td>1976</td>\n",
       "      <td>['drama', 'crime']</td>\n",
       "      <td>8.2</td>\n",
       "      <td>808582.0</td>\n",
       "    </tr>\n",
       "    <tr>\n",
       "      <th>3</th>\n",
       "      <td>Harvey Keitel</td>\n",
       "      <td>Matthew 'Sport' Higgins</td>\n",
       "      <td>ACTOR</td>\n",
       "      <td>Taxi Driver</td>\n",
       "      <td>MOVIE</td>\n",
       "      <td>1976</td>\n",
       "      <td>['drama', 'crime']</td>\n",
       "      <td>8.2</td>\n",
       "      <td>808582.0</td>\n",
       "    </tr>\n",
       "    <tr>\n",
       "      <th>4</th>\n",
       "      <td>Cybill Shepherd</td>\n",
       "      <td>Betsy</td>\n",
       "      <td>ACTOR</td>\n",
       "      <td>Taxi Driver</td>\n",
       "      <td>MOVIE</td>\n",
       "      <td>1976</td>\n",
       "      <td>['drama', 'crime']</td>\n",
       "      <td>8.2</td>\n",
       "      <td>808582.0</td>\n",
       "    </tr>\n",
       "    <tr>\n",
       "      <th>5</th>\n",
       "      <td>Peter Boyle</td>\n",
       "      <td>Wizard</td>\n",
       "      <td>ACTOR</td>\n",
       "      <td>Taxi Driver</td>\n",
       "      <td>MOVIE</td>\n",
       "      <td>1976</td>\n",
       "      <td>['drama', 'crime']</td>\n",
       "      <td>8.2</td>\n",
       "      <td>808582.0</td>\n",
       "    </tr>\n",
       "    <tr>\n",
       "      <th>6</th>\n",
       "      <td>Leonard Harris</td>\n",
       "      <td>Senator Charles Palantine</td>\n",
       "      <td>ACTOR</td>\n",
       "      <td>Taxi Driver</td>\n",
       "      <td>MOVIE</td>\n",
       "      <td>1976</td>\n",
       "      <td>['drama', 'crime']</td>\n",
       "      <td>8.2</td>\n",
       "      <td>808582.0</td>\n",
       "    </tr>\n",
       "    <tr>\n",
       "      <th>7</th>\n",
       "      <td>Diahnne Abbott</td>\n",
       "      <td>Concession Girl</td>\n",
       "      <td>ACTOR</td>\n",
       "      <td>Taxi Driver</td>\n",
       "      <td>MOVIE</td>\n",
       "      <td>1976</td>\n",
       "      <td>['drama', 'crime']</td>\n",
       "      <td>8.2</td>\n",
       "      <td>808582.0</td>\n",
       "    </tr>\n",
       "    <tr>\n",
       "      <th>8</th>\n",
       "      <td>Gino Ardito</td>\n",
       "      <td>Policeman at Rally</td>\n",
       "      <td>ACTOR</td>\n",
       "      <td>Taxi Driver</td>\n",
       "      <td>MOVIE</td>\n",
       "      <td>1976</td>\n",
       "      <td>['drama', 'crime']</td>\n",
       "      <td>8.2</td>\n",
       "      <td>808582.0</td>\n",
       "    </tr>\n",
       "    <tr>\n",
       "      <th>9</th>\n",
       "      <td>Martin Scorsese</td>\n",
       "      <td>Passenger Watching Silhouette</td>\n",
       "      <td>ACTOR</td>\n",
       "      <td>Taxi Driver</td>\n",
       "      <td>MOVIE</td>\n",
       "      <td>1976</td>\n",
       "      <td>['drama', 'crime']</td>\n",
       "      <td>8.2</td>\n",
       "      <td>808582.0</td>\n",
       "    </tr>\n",
       "  </tbody>\n",
       "</table>\n",
       "</div>"
      ],
      "text/plain": [
       "              name                      Character   r0le        TITLE   Type  \\\n",
       "0   Robert De Niro                  Travis Bickle  ACTOR  Taxi Driver  MOVIE   \n",
       "1     Jodie Foster                  Iris Steensma  ACTOR  Taxi Driver  MOVIE   \n",
       "2    Albert Brooks                            Tom  ACTOR  Taxi Driver  MOVIE   \n",
       "3    Harvey Keitel        Matthew 'Sport' Higgins  ACTOR  Taxi Driver  MOVIE   \n",
       "4  Cybill Shepherd                          Betsy  ACTOR  Taxi Driver  MOVIE   \n",
       "5      Peter Boyle                         Wizard  ACTOR  Taxi Driver  MOVIE   \n",
       "6   Leonard Harris      Senator Charles Palantine  ACTOR  Taxi Driver  MOVIE   \n",
       "7   Diahnne Abbott                Concession Girl  ACTOR  Taxi Driver  MOVIE   \n",
       "8      Gino Ardito             Policeman at Rally  ACTOR  Taxi Driver  MOVIE   \n",
       "9  Martin Scorsese  Passenger Watching Silhouette  ACTOR  Taxi Driver  MOVIE   \n",
       "\n",
       "   release Year              genres  imdb sc0re  imdb v0tes  \n",
       "0          1976  ['drama', 'crime']         8.2    808582.0  \n",
       "1          1976  ['drama', 'crime']         8.2    808582.0  \n",
       "2          1976  ['drama', 'crime']         8.2    808582.0  \n",
       "3          1976  ['drama', 'crime']         8.2    808582.0  \n",
       "4          1976  ['drama', 'crime']         8.2    808582.0  \n",
       "5          1976  ['drama', 'crime']         8.2    808582.0  \n",
       "6          1976  ['drama', 'crime']         8.2    808582.0  \n",
       "7          1976  ['drama', 'crime']         8.2    808582.0  \n",
       "8          1976  ['drama', 'crime']         8.2    808582.0  \n",
       "9          1976  ['drama', 'crime']         8.2    808582.0  "
      ]
     },
     "metadata": {},
     "output_type": "display_data"
    }
   ],
   "source": [
    "# obtaining the first 10 rows from the df table\n",
    "# hint: you can use head() and tail() in Jupyter Notebook without wrapping them into print()\n",
    "display(df.head(10))"
   ]
  },
  {
   "cell_type": "markdown",
   "id": "e579aa91",
   "metadata": {},
   "source": [
    "Obtain the general information about the table with one command:"
   ]
  },
  {
   "cell_type": "code",
   "execution_count": 87,
   "id": "7bf66d2a",
   "metadata": {},
   "outputs": [
    {
     "name": "stdout",
     "output_type": "stream",
     "text": [
      "<class 'pandas.core.frame.DataFrame'>\n",
      "RangeIndex: 85579 entries, 0 to 85578\n",
      "Data columns (total 9 columns):\n",
      " #   Column        Non-Null Count  Dtype  \n",
      "---  ------        --------------  -----  \n",
      " 0      name       85579 non-null  object \n",
      " 1   Character     85579 non-null  object \n",
      " 2   r0le          85579 non-null  object \n",
      " 3   TITLE         85578 non-null  object \n",
      " 4     Type        85579 non-null  object \n",
      " 5   release Year  85579 non-null  int64  \n",
      " 6   genres        85579 non-null  object \n",
      " 7   imdb sc0re    80970 non-null  float64\n",
      " 8   imdb v0tes    80853 non-null  float64\n",
      "dtypes: float64(2), int64(1), object(6)\n",
      "memory usage: 5.9+ MB\n"
     ]
    }
   ],
   "source": [
    "# obtaining general information about the data in df\n",
    "df.info()\n",
    "#df.describe()"
   ]
  },
  {
   "cell_type": "markdown",
   "id": "f15b108d-d1f2-4154-b4cf-cdd8e24f3ff6",
   "metadata": {},
   "source": [
    "The table contains nine columns. The majority store the same data type: object. The only exceptions are `'release Year'` (int64 type), `'imdb sc0re'` (float64 type) and `'imdb v0tes'` (float64 type). Scores and votes will be used in our analysis, so it's important to verify that they are present in the dataframe in the appropriate numeric format. Three columns (`'TITLE'`, `'imdb sc0re'` and `'imdb v0tes'`) have missing values.\n",
    "\n",
    "According to the documentation:\n",
    "- `'name'` — actor/director's name and last name\n",
    "- `'Character'` — character played (for actors)\n",
    "- `'r0le '` — the person's contribution to the title (it can be in the capacity of either actor or director)\n",
    "- `'TITLE '` — title of the movie (show)\n",
    "- `'  Type'` — show or movie\n",
    "- `'release Year'` — year when movie (show) was released\n",
    "- `'genres'` — list of genres under which the movie (show) falls\n",
    "- `'imdb sc0re'` — score on IMDb\n",
    "- `'imdb v0tes'` — votes on IMDb"
   ]
  },
  {
   "cell_type": "markdown",
   "id": "1b4ee9e9-6aff-403f-a3de-20bd05d701d7",
   "metadata": {},
   "source": [
    "### Conclusions about the dataset\n",
    "\n",
    "I can see three issues with the column names:\n",
    "- 1. Some names are uppercase, while others are lowercase.\n",
    "- 2. There are names containing whitespace.\n",
    "- 3. A few column names have digit '0' instead of letter 'o'. \n",
    "\n",
    "Each row in the table stores data about a movie or show. The columns can be divided into two categories: the first is about the roles held by different people who worked on the movie or show (role, name of the actor or director, and character if the row is about an actor); the second category is information about the movie or show itself (title, release year, genre, imdb figures).\n",
    "\n",
    "It's clear that there is sufficient data to do the analysis and evaluate our assumption. However, to move forward, I need to preprocess the data."
   ]
  },
  {
   "cell_type": "markdown",
   "id": "c5dc9111",
   "metadata": {},
   "source": [
    "## Stage 2. Data preprocessing <a id='data_preprocessing'></a>\n",
    "Correct the formatting in the column headers and deal with the missing values. Then, check whether there are duplicates in the data."
   ]
  },
  {
   "cell_type": "code",
   "execution_count": 91,
   "id": "9c850d13",
   "metadata": {},
   "outputs": [
    {
     "data": {
      "text/plain": [
       "Index(['   name', 'Character', 'r0le', 'TITLE', '  Type', 'release Year',\n",
       "       'genres', 'imdb sc0re', 'imdb v0tes'],\n",
       "      dtype='object')"
      ]
     },
     "execution_count": 91,
     "metadata": {},
     "output_type": "execute_result"
    }
   ],
   "source": [
    "# the list of column names in the df table\n",
    "df.columns"
   ]
  },
  {
   "cell_type": "markdown",
   "id": "5f966df9",
   "metadata": {},
   "source": [
    "Change the column names according to the rules of good style:\n",
    "* If the name has several words, use snake_case\n",
    "* All characters must be lowercase\n",
    "* Remove whitespace\n",
    "* Replace zero with letter 'o'"
   ]
  },
  {
   "cell_type": "code",
   "execution_count": 93,
   "id": "23a1dc11",
   "metadata": {},
   "outputs": [],
   "source": [
    "# renaming columns\n",
    "df.columns = df.columns.str.lower()\n",
    "df.columns = df.columns.str.strip()\n",
    "df.columns = df.columns.str.replace(' ', '_')\n",
    "df = df.rename(columns={\n",
    "    'r0le':'role',\n",
    "    'imdb_sc0re': 'imdb_score',\n",
    "    'imdb_v0tes': 'imdb_votes'\n",
    "    \n",
    "    })\n",
    "   \n",
    "#df.columns"
   ]
  },
  {
   "cell_type": "markdown",
   "id": "464fbd04",
   "metadata": {},
   "source": [
    "Check the result. Print the names of the columns once more:"
   ]
  },
  {
   "cell_type": "code",
   "execution_count": 95,
   "id": "0eb6527f",
   "metadata": {},
   "outputs": [
    {
     "data": {
      "text/plain": [
       "Index(['name', 'character', 'role', 'title', 'type', 'release_year', 'genres',\n",
       "       'imdb_score', 'imdb_votes'],\n",
       "      dtype='object')"
      ]
     },
     "execution_count": 95,
     "metadata": {},
     "output_type": "execute_result"
    }
   ],
   "source": [
    "# checking result: the list of column names\n",
    "df.columns\n",
    "#print(df.type)"
   ]
  },
  {
   "cell_type": "markdown",
   "id": "14d9c319",
   "metadata": {},
   "source": [
    "### Missing values <a id='missing_values'></a>\n",
    "First, find the number of missing values in the table. To do so, combine two `pandas` methods:"
   ]
  },
  {
   "cell_type": "code",
   "execution_count": 97,
   "id": "21c427f2",
   "metadata": {},
   "outputs": [
    {
     "data": {
      "text/plain": [
       "name               0\n",
       "character          0\n",
       "role               0\n",
       "title              1\n",
       "type               0\n",
       "release_year       0\n",
       "genres             0\n",
       "imdb_score      4609\n",
       "imdb_votes      4726\n",
       "dtype: int64"
      ]
     },
     "execution_count": 97,
     "metadata": {},
     "output_type": "execute_result"
    }
   ],
   "source": [
    "# calculating missing values\n",
    "df.isna().sum()"
   ]
  },
  {
   "cell_type": "markdown",
   "id": "c8272df3",
   "metadata": {},
   "source": [
    "Not all missing values affect the research: the single missing value in `'title'` is not critical. The missing values in columns `'imdb_score'` and `'imdb_votes'` represent around 6% of all records (4,609 and 4,726, respectively, of the total 85,579). This could potentially affect our research. To avoid this issue, we will drop rows with missing values in the `'imdb_score'` and `'imdb_votes'` columns."
   ]
  },
  {
   "cell_type": "code",
   "execution_count": 99,
   "id": "599d5550",
   "metadata": {},
   "outputs": [],
   "source": [
    "# dropping rows where columns with title, scores and votes have missing values\n",
    "df = df.dropna(subset=['imdb_score', 'imdb_votes', 'title'])"
   ]
  },
  {
   "cell_type": "markdown",
   "id": "2156887f",
   "metadata": {},
   "source": [
    "Make sure the table doesn't contain any more missing values. Count the missing values again."
   ]
  },
  {
   "cell_type": "code",
   "execution_count": 101,
   "id": "55c0b0ce",
   "metadata": {},
   "outputs": [
    {
     "data": {
      "text/plain": [
       "name            0\n",
       "character       0\n",
       "role            0\n",
       "title           0\n",
       "type            0\n",
       "release_year    0\n",
       "genres          0\n",
       "imdb_score      0\n",
       "imdb_votes      0\n",
       "dtype: int64"
      ]
     },
     "execution_count": 101,
     "metadata": {},
     "output_type": "execute_result"
    }
   ],
   "source": [
    "# counting missing values\n",
    "df.isna().sum()"
   ]
  },
  {
   "cell_type": "markdown",
   "id": "a7dc7aa0",
   "metadata": {},
   "source": [
    "### Duplicates <a id='duplicates'></a>\n",
    "Find the number of duplicate rows in the table using one command:"
   ]
  },
  {
   "cell_type": "code",
   "execution_count": 103,
   "id": "9227df01",
   "metadata": {},
   "outputs": [
    {
     "name": "stdout",
     "output_type": "stream",
     "text": [
      "6994\n"
     ]
    }
   ],
   "source": [
    "# counting duplicate rows\n",
    "print(df.duplicated().sum())"
   ]
  },
  {
   "cell_type": "markdown",
   "id": "5f6eb0fc",
   "metadata": {},
   "source": [
    "Review the duplicate rows to determine if removing them would distort our dataset."
   ]
  },
  {
   "cell_type": "code",
   "execution_count": 105,
   "id": "bcf32fcb",
   "metadata": {},
   "outputs": [
    {
     "data": {
      "text/html": [
       "<div>\n",
       "<style scoped>\n",
       "    .dataframe tbody tr th:only-of-type {\n",
       "        vertical-align: middle;\n",
       "    }\n",
       "\n",
       "    .dataframe tbody tr th {\n",
       "        vertical-align: top;\n",
       "    }\n",
       "\n",
       "    .dataframe thead th {\n",
       "        text-align: right;\n",
       "    }\n",
       "</style>\n",
       "<table border=\"1\" class=\"dataframe\">\n",
       "  <thead>\n",
       "    <tr style=\"text-align: right;\">\n",
       "      <th></th>\n",
       "      <th>name</th>\n",
       "      <th>character</th>\n",
       "      <th>role</th>\n",
       "      <th>title</th>\n",
       "      <th>type</th>\n",
       "      <th>release_year</th>\n",
       "      <th>genres</th>\n",
       "      <th>imdb_score</th>\n",
       "      <th>imdb_votes</th>\n",
       "    </tr>\n",
       "  </thead>\n",
       "  <tbody>\n",
       "    <tr>\n",
       "      <th>85515</th>\n",
       "      <td>Fulu Mugovhani</td>\n",
       "      <td>Lindiwe</td>\n",
       "      <td>ACTOR</td>\n",
       "      <td>Happiness Ever After</td>\n",
       "      <td>MOVIE</td>\n",
       "      <td>2021</td>\n",
       "      <td>['drama', 'romance']</td>\n",
       "      <td>4.2</td>\n",
       "      <td>163.0</td>\n",
       "    </tr>\n",
       "    <tr>\n",
       "      <th>85516</th>\n",
       "      <td>Simo Mogwaza</td>\n",
       "      <td>Beki</td>\n",
       "      <td>ACTOR</td>\n",
       "      <td>Happiness Ever After</td>\n",
       "      <td>MOVIE</td>\n",
       "      <td>2021</td>\n",
       "      <td>['drama', 'romance']</td>\n",
       "      <td>4.2</td>\n",
       "      <td>163.0</td>\n",
       "    </tr>\n",
       "    <tr>\n",
       "      <th>85517</th>\n",
       "      <td>Thabang Moleya</td>\n",
       "      <td>unknown</td>\n",
       "      <td>DIRECTOR</td>\n",
       "      <td>Happiness Ever After</td>\n",
       "      <td>MOVIE</td>\n",
       "      <td>2021</td>\n",
       "      <td>['drama', 'romance']</td>\n",
       "      <td>4.2</td>\n",
       "      <td>163.0</td>\n",
       "    </tr>\n",
       "    <tr>\n",
       "      <th>85518</th>\n",
       "      <td>Ai Leng Ong</td>\n",
       "      <td>Jack's Mother</td>\n",
       "      <td>ACTOR</td>\n",
       "      <td>Kongsi Raya</td>\n",
       "      <td>MOVIE</td>\n",
       "      <td>2022</td>\n",
       "      <td>['comedy']</td>\n",
       "      <td>7.0</td>\n",
       "      <td>66.0</td>\n",
       "    </tr>\n",
       "    <tr>\n",
       "      <th>85519</th>\n",
       "      <td>Chew Kin-Wah</td>\n",
       "      <td>Jack's Father</td>\n",
       "      <td>ACTOR</td>\n",
       "      <td>Kongsi Raya</td>\n",
       "      <td>MOVIE</td>\n",
       "      <td>2022</td>\n",
       "      <td>['comedy']</td>\n",
       "      <td>7.0</td>\n",
       "      <td>66.0</td>\n",
       "    </tr>\n",
       "    <tr>\n",
       "      <th>85520</th>\n",
       "      <td>Harith Iskander</td>\n",
       "      <td>Sharifah's Father</td>\n",
       "      <td>ACTOR</td>\n",
       "      <td>Kongsi Raya</td>\n",
       "      <td>MOVIE</td>\n",
       "      <td>2022</td>\n",
       "      <td>['comedy']</td>\n",
       "      <td>7.0</td>\n",
       "      <td>66.0</td>\n",
       "    </tr>\n",
       "    <tr>\n",
       "      <th>85521</th>\n",
       "      <td>Erra Fazira</td>\n",
       "      <td>Sharifa's Mother</td>\n",
       "      <td>ACTOR</td>\n",
       "      <td>Kongsi Raya</td>\n",
       "      <td>MOVIE</td>\n",
       "      <td>2022</td>\n",
       "      <td>['comedy']</td>\n",
       "      <td>7.0</td>\n",
       "      <td>66.0</td>\n",
       "    </tr>\n",
       "    <tr>\n",
       "      <th>85522</th>\n",
       "      <td>Teddy Chan</td>\n",
       "      <td>unknown</td>\n",
       "      <td>DIRECTOR</td>\n",
       "      <td>Kongsi Raya</td>\n",
       "      <td>MOVIE</td>\n",
       "      <td>2022</td>\n",
       "      <td>['comedy']</td>\n",
       "      <td>7.0</td>\n",
       "      <td>66.0</td>\n",
       "    </tr>\n",
       "    <tr>\n",
       "      <th>85524</th>\n",
       "      <td>Maymay Entrata</td>\n",
       "      <td>unknown</td>\n",
       "      <td>ACTOR</td>\n",
       "      <td>Princess 'Daya'Reese</td>\n",
       "      <td>MOVIE</td>\n",
       "      <td>2021</td>\n",
       "      <td>['comedy', 'romance']</td>\n",
       "      <td>7.1</td>\n",
       "      <td>50.0</td>\n",
       "    </tr>\n",
       "    <tr>\n",
       "      <th>85525</th>\n",
       "      <td>Edward Barber</td>\n",
       "      <td>unknown</td>\n",
       "      <td>ACTOR</td>\n",
       "      <td>Princess 'Daya'Reese</td>\n",
       "      <td>MOVIE</td>\n",
       "      <td>2021</td>\n",
       "      <td>['comedy', 'romance']</td>\n",
       "      <td>7.1</td>\n",
       "      <td>50.0</td>\n",
       "    </tr>\n",
       "    <tr>\n",
       "      <th>85526</th>\n",
       "      <td>Snooky Serna</td>\n",
       "      <td>unknown</td>\n",
       "      <td>ACTOR</td>\n",
       "      <td>Princess 'Daya'Reese</td>\n",
       "      <td>MOVIE</td>\n",
       "      <td>2021</td>\n",
       "      <td>['comedy', 'romance']</td>\n",
       "      <td>7.1</td>\n",
       "      <td>50.0</td>\n",
       "    </tr>\n",
       "    <tr>\n",
       "      <th>85528</th>\n",
       "      <td>Pepe Herrera</td>\n",
       "      <td>unknown</td>\n",
       "      <td>ACTOR</td>\n",
       "      <td>Princess 'Daya'Reese</td>\n",
       "      <td>MOVIE</td>\n",
       "      <td>2021</td>\n",
       "      <td>['comedy', 'romance']</td>\n",
       "      <td>7.1</td>\n",
       "      <td>50.0</td>\n",
       "    </tr>\n",
       "    <tr>\n",
       "      <th>85529</th>\n",
       "      <td>Chie Filomeno</td>\n",
       "      <td>unknown</td>\n",
       "      <td>ACTOR</td>\n",
       "      <td>Princess 'Daya'Reese</td>\n",
       "      <td>MOVIE</td>\n",
       "      <td>2021</td>\n",
       "      <td>['comedy', 'romance']</td>\n",
       "      <td>7.1</td>\n",
       "      <td>50.0</td>\n",
       "    </tr>\n",
       "    <tr>\n",
       "      <th>85530</th>\n",
       "      <td>Alora Mae Sasam</td>\n",
       "      <td>unknown</td>\n",
       "      <td>ACTOR</td>\n",
       "      <td>Princess 'Daya'Reese</td>\n",
       "      <td>MOVIE</td>\n",
       "      <td>2021</td>\n",
       "      <td>['comedy', 'romance']</td>\n",
       "      <td>7.1</td>\n",
       "      <td>50.0</td>\n",
       "    </tr>\n",
       "    <tr>\n",
       "      <th>85531</th>\n",
       "      <td>Iggy Boy Flores</td>\n",
       "      <td>unknown</td>\n",
       "      <td>ACTOR</td>\n",
       "      <td>Princess 'Daya'Reese</td>\n",
       "      <td>MOVIE</td>\n",
       "      <td>2021</td>\n",
       "      <td>['comedy', 'romance']</td>\n",
       "      <td>7.1</td>\n",
       "      <td>50.0</td>\n",
       "    </tr>\n",
       "    <tr>\n",
       "      <th>85532</th>\n",
       "      <td>Neil Coleta</td>\n",
       "      <td>unknown</td>\n",
       "      <td>ACTOR</td>\n",
       "      <td>Princess 'Daya'Reese</td>\n",
       "      <td>MOVIE</td>\n",
       "      <td>2021</td>\n",
       "      <td>['comedy', 'romance']</td>\n",
       "      <td>7.1</td>\n",
       "      <td>50.0</td>\n",
       "    </tr>\n",
       "    <tr>\n",
       "      <th>85533</th>\n",
       "      <td>Cj Salonga</td>\n",
       "      <td>unknown</td>\n",
       "      <td>ACTOR</td>\n",
       "      <td>Princess 'Daya'Reese</td>\n",
       "      <td>MOVIE</td>\n",
       "      <td>2021</td>\n",
       "      <td>['comedy', 'romance']</td>\n",
       "      <td>7.1</td>\n",
       "      <td>50.0</td>\n",
       "    </tr>\n",
       "    <tr>\n",
       "      <th>85534</th>\n",
       "      <td>Gold Azeron</td>\n",
       "      <td>unknown</td>\n",
       "      <td>ACTOR</td>\n",
       "      <td>Princess 'Daya'Reese</td>\n",
       "      <td>MOVIE</td>\n",
       "      <td>2021</td>\n",
       "      <td>['comedy', 'romance']</td>\n",
       "      <td>7.1</td>\n",
       "      <td>50.0</td>\n",
       "    </tr>\n",
       "    <tr>\n",
       "      <th>85535</th>\n",
       "      <td>Christine Samson</td>\n",
       "      <td>unknown</td>\n",
       "      <td>ACTOR</td>\n",
       "      <td>Princess 'Daya'Reese</td>\n",
       "      <td>MOVIE</td>\n",
       "      <td>2021</td>\n",
       "      <td>['comedy', 'romance']</td>\n",
       "      <td>7.1</td>\n",
       "      <td>50.0</td>\n",
       "    </tr>\n",
       "    <tr>\n",
       "      <th>85536</th>\n",
       "      <td>Takuhei Kaneko</td>\n",
       "      <td>unknown</td>\n",
       "      <td>ACTOR</td>\n",
       "      <td>Princess 'Daya'Reese</td>\n",
       "      <td>MOVIE</td>\n",
       "      <td>2021</td>\n",
       "      <td>['comedy', 'romance']</td>\n",
       "      <td>7.1</td>\n",
       "      <td>50.0</td>\n",
       "    </tr>\n",
       "    <tr>\n",
       "      <th>85537</th>\n",
       "      <td>Big Mac Andaya</td>\n",
       "      <td>unknown</td>\n",
       "      <td>ACTOR</td>\n",
       "      <td>Princess 'Daya'Reese</td>\n",
       "      <td>MOVIE</td>\n",
       "      <td>2021</td>\n",
       "      <td>['comedy', 'romance']</td>\n",
       "      <td>7.1</td>\n",
       "      <td>50.0</td>\n",
       "    </tr>\n",
       "    <tr>\n",
       "      <th>85538</th>\n",
       "      <td>Miko Pe?ñaloza</td>\n",
       "      <td>unknown</td>\n",
       "      <td>ACTOR</td>\n",
       "      <td>Princess 'Daya'Reese</td>\n",
       "      <td>MOVIE</td>\n",
       "      <td>2021</td>\n",
       "      <td>['comedy', 'romance']</td>\n",
       "      <td>7.1</td>\n",
       "      <td>50.0</td>\n",
       "    </tr>\n",
       "    <tr>\n",
       "      <th>85539</th>\n",
       "      <td>Barry Gonzalez</td>\n",
       "      <td>unknown</td>\n",
       "      <td>DIRECTOR</td>\n",
       "      <td>Princess 'Daya'Reese</td>\n",
       "      <td>MOVIE</td>\n",
       "      <td>2021</td>\n",
       "      <td>['comedy', 'romance']</td>\n",
       "      <td>7.1</td>\n",
       "      <td>50.0</td>\n",
       "    </tr>\n",
       "    <tr>\n",
       "      <th>85540</th>\n",
       "      <td>Ahmed Hatem</td>\n",
       "      <td>unknown</td>\n",
       "      <td>ACTOR</td>\n",
       "      <td>My Bride</td>\n",
       "      <td>MOVIE</td>\n",
       "      <td>2021</td>\n",
       "      <td>['romance', 'comedy', 'drama']</td>\n",
       "      <td>5.0</td>\n",
       "      <td>327.0</td>\n",
       "    </tr>\n",
       "    <tr>\n",
       "      <th>85541</th>\n",
       "      <td>Jamila Awad</td>\n",
       "      <td>unknown</td>\n",
       "      <td>ACTOR</td>\n",
       "      <td>My Bride</td>\n",
       "      <td>MOVIE</td>\n",
       "      <td>2021</td>\n",
       "      <td>['romance', 'comedy', 'drama']</td>\n",
       "      <td>5.0</td>\n",
       "      <td>327.0</td>\n",
       "    </tr>\n",
       "    <tr>\n",
       "      <th>85542</th>\n",
       "      <td>Mahmoud Al-Bezzawy</td>\n",
       "      <td>unknown</td>\n",
       "      <td>ACTOR</td>\n",
       "      <td>My Bride</td>\n",
       "      <td>MOVIE</td>\n",
       "      <td>2021</td>\n",
       "      <td>['romance', 'comedy', 'drama']</td>\n",
       "      <td>5.0</td>\n",
       "      <td>327.0</td>\n",
       "    </tr>\n",
       "    <tr>\n",
       "      <th>85543</th>\n",
       "      <td>Sabrien</td>\n",
       "      <td>unknown</td>\n",
       "      <td>ACTOR</td>\n",
       "      <td>My Bride</td>\n",
       "      <td>MOVIE</td>\n",
       "      <td>2021</td>\n",
       "      <td>['romance', 'comedy', 'drama']</td>\n",
       "      <td>5.0</td>\n",
       "      <td>327.0</td>\n",
       "    </tr>\n",
       "    <tr>\n",
       "      <th>85544</th>\n",
       "      <td>Zeinab Ghareeb</td>\n",
       "      <td>unknown</td>\n",
       "      <td>ACTOR</td>\n",
       "      <td>My Bride</td>\n",
       "      <td>MOVIE</td>\n",
       "      <td>2021</td>\n",
       "      <td>['romance', 'comedy', 'drama']</td>\n",
       "      <td>5.0</td>\n",
       "      <td>327.0</td>\n",
       "    </tr>\n",
       "    <tr>\n",
       "      <th>85545</th>\n",
       "      <td>Marwan Younis</td>\n",
       "      <td>unknown</td>\n",
       "      <td>ACTOR</td>\n",
       "      <td>My Bride</td>\n",
       "      <td>MOVIE</td>\n",
       "      <td>2021</td>\n",
       "      <td>['romance', 'comedy', 'drama']</td>\n",
       "      <td>5.0</td>\n",
       "      <td>327.0</td>\n",
       "    </tr>\n",
       "    <tr>\n",
       "      <th>85546</th>\n",
       "      <td>Nada Akram</td>\n",
       "      <td>unknown</td>\n",
       "      <td>ACTOR</td>\n",
       "      <td>My Bride</td>\n",
       "      <td>MOVIE</td>\n",
       "      <td>2021</td>\n",
       "      <td>['romance', 'comedy', 'drama']</td>\n",
       "      <td>5.0</td>\n",
       "      <td>327.0</td>\n",
       "    </tr>\n",
       "    <tr>\n",
       "      <th>85547</th>\n",
       "      <td>Asmaa Galal</td>\n",
       "      <td>unknown</td>\n",
       "      <td>ACTOR</td>\n",
       "      <td>My Bride</td>\n",
       "      <td>MOVIE</td>\n",
       "      <td>2021</td>\n",
       "      <td>['romance', 'comedy', 'drama']</td>\n",
       "      <td>5.0</td>\n",
       "      <td>327.0</td>\n",
       "    </tr>\n",
       "    <tr>\n",
       "      <th>85548</th>\n",
       "      <td>Hind Abdulhaleem</td>\n",
       "      <td>unknown</td>\n",
       "      <td>ACTOR</td>\n",
       "      <td>My Bride</td>\n",
       "      <td>MOVIE</td>\n",
       "      <td>2021</td>\n",
       "      <td>['romance', 'comedy', 'drama']</td>\n",
       "      <td>5.0</td>\n",
       "      <td>327.0</td>\n",
       "    </tr>\n",
       "    <tr>\n",
       "      <th>85549</th>\n",
       "      <td>Passant El Nabarawy</td>\n",
       "      <td>unknown</td>\n",
       "      <td>ACTOR</td>\n",
       "      <td>My Bride</td>\n",
       "      <td>MOVIE</td>\n",
       "      <td>2021</td>\n",
       "      <td>['romance', 'comedy', 'drama']</td>\n",
       "      <td>5.0</td>\n",
       "      <td>327.0</td>\n",
       "    </tr>\n",
       "    <tr>\n",
       "      <th>85550</th>\n",
       "      <td>Sherif Desouqy</td>\n",
       "      <td>unknown</td>\n",
       "      <td>ACTOR</td>\n",
       "      <td>My Bride</td>\n",
       "      <td>MOVIE</td>\n",
       "      <td>2021</td>\n",
       "      <td>['romance', 'comedy', 'drama']</td>\n",
       "      <td>5.0</td>\n",
       "      <td>327.0</td>\n",
       "    </tr>\n",
       "    <tr>\n",
       "      <th>85551</th>\n",
       "      <td>Seif Zahran</td>\n",
       "      <td>unknown</td>\n",
       "      <td>ACTOR</td>\n",
       "      <td>My Bride</td>\n",
       "      <td>MOVIE</td>\n",
       "      <td>2021</td>\n",
       "      <td>['romance', 'comedy', 'drama']</td>\n",
       "      <td>5.0</td>\n",
       "      <td>327.0</td>\n",
       "    </tr>\n",
       "    <tr>\n",
       "      <th>85552</th>\n",
       "      <td>Mohamed Moula</td>\n",
       "      <td>unknown</td>\n",
       "      <td>ACTOR</td>\n",
       "      <td>My Bride</td>\n",
       "      <td>MOVIE</td>\n",
       "      <td>2021</td>\n",
       "      <td>['romance', 'comedy', 'drama']</td>\n",
       "      <td>5.0</td>\n",
       "      <td>327.0</td>\n",
       "    </tr>\n",
       "    <tr>\n",
       "      <th>85553</th>\n",
       "      <td>Ahmed Bahaa</td>\n",
       "      <td>unknown</td>\n",
       "      <td>ACTOR</td>\n",
       "      <td>My Bride</td>\n",
       "      <td>MOVIE</td>\n",
       "      <td>2021</td>\n",
       "      <td>['romance', 'comedy', 'drama']</td>\n",
       "      <td>5.0</td>\n",
       "      <td>327.0</td>\n",
       "    </tr>\n",
       "    <tr>\n",
       "      <th>85554</th>\n",
       "      <td>Mohamed El-Arkan</td>\n",
       "      <td>unknown</td>\n",
       "      <td>ACTOR</td>\n",
       "      <td>My Bride</td>\n",
       "      <td>MOVIE</td>\n",
       "      <td>2021</td>\n",
       "      <td>['romance', 'comedy', 'drama']</td>\n",
       "      <td>5.0</td>\n",
       "      <td>327.0</td>\n",
       "    </tr>\n",
       "    <tr>\n",
       "      <th>85555</th>\n",
       "      <td>Mohamed Bakir</td>\n",
       "      <td>unknown</td>\n",
       "      <td>DIRECTOR</td>\n",
       "      <td>My Bride</td>\n",
       "      <td>MOVIE</td>\n",
       "      <td>2021</td>\n",
       "      <td>['romance', 'comedy', 'drama']</td>\n",
       "      <td>5.0</td>\n",
       "      <td>327.0</td>\n",
       "    </tr>\n",
       "    <tr>\n",
       "      <th>85556</th>\n",
       "      <td>Richard Mofe-Damijo</td>\n",
       "      <td>Mr. George</td>\n",
       "      <td>ACTOR</td>\n",
       "      <td>Fine Wine</td>\n",
       "      <td>MOVIE</td>\n",
       "      <td>2021</td>\n",
       "      <td>['romance', 'drama']</td>\n",
       "      <td>6.8</td>\n",
       "      <td>45.0</td>\n",
       "    </tr>\n",
       "    <tr>\n",
       "      <th>85557</th>\n",
       "      <td>Ego Nwosu</td>\n",
       "      <td>Kaima</td>\n",
       "      <td>ACTOR</td>\n",
       "      <td>Fine Wine</td>\n",
       "      <td>MOVIE</td>\n",
       "      <td>2021</td>\n",
       "      <td>['romance', 'drama']</td>\n",
       "      <td>6.8</td>\n",
       "      <td>45.0</td>\n",
       "    </tr>\n",
       "    <tr>\n",
       "      <th>85558</th>\n",
       "      <td>Keppy Ekpenyong-Bassey</td>\n",
       "      <td>Akin</td>\n",
       "      <td>ACTOR</td>\n",
       "      <td>Fine Wine</td>\n",
       "      <td>MOVIE</td>\n",
       "      <td>2021</td>\n",
       "      <td>['romance', 'drama']</td>\n",
       "      <td>6.8</td>\n",
       "      <td>45.0</td>\n",
       "    </tr>\n",
       "    <tr>\n",
       "      <th>85559</th>\n",
       "      <td>Ademola Adedoyin</td>\n",
       "      <td>Tunji</td>\n",
       "      <td>ACTOR</td>\n",
       "      <td>Fine Wine</td>\n",
       "      <td>MOVIE</td>\n",
       "      <td>2021</td>\n",
       "      <td>['romance', 'drama']</td>\n",
       "      <td>6.8</td>\n",
       "      <td>45.0</td>\n",
       "    </tr>\n",
       "    <tr>\n",
       "      <th>85561</th>\n",
       "      <td>Segun Arinze</td>\n",
       "      <td>unknown</td>\n",
       "      <td>ACTOR</td>\n",
       "      <td>Fine Wine</td>\n",
       "      <td>MOVIE</td>\n",
       "      <td>2021</td>\n",
       "      <td>['romance', 'drama']</td>\n",
       "      <td>6.8</td>\n",
       "      <td>45.0</td>\n",
       "    </tr>\n",
       "    <tr>\n",
       "      <th>85562</th>\n",
       "      <td>Nse Ikpe-Etim</td>\n",
       "      <td>Ame</td>\n",
       "      <td>ACTOR</td>\n",
       "      <td>Fine Wine</td>\n",
       "      <td>MOVIE</td>\n",
       "      <td>2021</td>\n",
       "      <td>['romance', 'drama']</td>\n",
       "      <td>6.8</td>\n",
       "      <td>45.0</td>\n",
       "    </tr>\n",
       "    <tr>\n",
       "      <th>85563</th>\n",
       "      <td>Tina Mba</td>\n",
       "      <td>Mummy</td>\n",
       "      <td>ACTOR</td>\n",
       "      <td>Fine Wine</td>\n",
       "      <td>MOVIE</td>\n",
       "      <td>2021</td>\n",
       "      <td>['romance', 'drama']</td>\n",
       "      <td>6.8</td>\n",
       "      <td>45.0</td>\n",
       "    </tr>\n",
       "    <tr>\n",
       "      <th>85565</th>\n",
       "      <td>Bofie Itombra</td>\n",
       "      <td>Kamsi</td>\n",
       "      <td>ACTOR</td>\n",
       "      <td>Fine Wine</td>\n",
       "      <td>MOVIE</td>\n",
       "      <td>2021</td>\n",
       "      <td>['romance', 'drama']</td>\n",
       "      <td>6.8</td>\n",
       "      <td>45.0</td>\n",
       "    </tr>\n",
       "    <tr>\n",
       "      <th>85566</th>\n",
       "      <td>Kameel Audu</td>\n",
       "      <td>Andrew</td>\n",
       "      <td>ACTOR</td>\n",
       "      <td>Fine Wine</td>\n",
       "      <td>MOVIE</td>\n",
       "      <td>2021</td>\n",
       "      <td>['romance', 'drama']</td>\n",
       "      <td>6.8</td>\n",
       "      <td>45.0</td>\n",
       "    </tr>\n",
       "    <tr>\n",
       "      <th>85567</th>\n",
       "      <td>Seyi Babatope</td>\n",
       "      <td>unknown</td>\n",
       "      <td>DIRECTOR</td>\n",
       "      <td>Fine Wine</td>\n",
       "      <td>MOVIE</td>\n",
       "      <td>2021</td>\n",
       "      <td>['romance', 'drama']</td>\n",
       "      <td>6.8</td>\n",
       "      <td>45.0</td>\n",
       "    </tr>\n",
       "    <tr>\n",
       "      <th>85568</th>\n",
       "      <td>Yedinson Fl??rez</td>\n",
       "      <td>Yimmy Bar??n / Paola Linares</td>\n",
       "      <td>ACTOR</td>\n",
       "      <td>Lokillo</td>\n",
       "      <td>MOVIE</td>\n",
       "      <td>2021</td>\n",
       "      <td>['comedy']</td>\n",
       "      <td>3.8</td>\n",
       "      <td>68.0</td>\n",
       "    </tr>\n",
       "    <tr>\n",
       "      <th>85569</th>\n",
       "      <td>Jessica Cediel</td>\n",
       "      <td>Liliana Navarro</td>\n",
       "      <td>ACTOR</td>\n",
       "      <td>Lokillo</td>\n",
       "      <td>MOVIE</td>\n",
       "      <td>2021</td>\n",
       "      <td>['comedy']</td>\n",
       "      <td>3.8</td>\n",
       "      <td>68.0</td>\n",
       "    </tr>\n",
       "    <tr>\n",
       "      <th>85570</th>\n",
       "      <td>Javier Gardeaz?­bal</td>\n",
       "      <td>Agust??n \"Peluca\" Ort??z</td>\n",
       "      <td>ACTOR</td>\n",
       "      <td>Lokillo</td>\n",
       "      <td>MOVIE</td>\n",
       "      <td>2021</td>\n",
       "      <td>['comedy']</td>\n",
       "      <td>3.8</td>\n",
       "      <td>68.0</td>\n",
       "    </tr>\n",
       "    <tr>\n",
       "      <th>85571</th>\n",
       "      <td>Carla Giraldo</td>\n",
       "      <td>Valery Reinoso</td>\n",
       "      <td>ACTOR</td>\n",
       "      <td>Lokillo</td>\n",
       "      <td>MOVIE</td>\n",
       "      <td>2021</td>\n",
       "      <td>['comedy']</td>\n",
       "      <td>3.8</td>\n",
       "      <td>68.0</td>\n",
       "    </tr>\n",
       "    <tr>\n",
       "      <th>85572</th>\n",
       "      <td>Ana Mar??a S?­nchez</td>\n",
       "      <td>Lourdes</td>\n",
       "      <td>ACTOR</td>\n",
       "      <td>Lokillo</td>\n",
       "      <td>MOVIE</td>\n",
       "      <td>2021</td>\n",
       "      <td>['comedy']</td>\n",
       "      <td>3.8</td>\n",
       "      <td>68.0</td>\n",
       "    </tr>\n",
       "    <tr>\n",
       "      <th>85577</th>\n",
       "      <td>Isabel Gaona</td>\n",
       "      <td>Cacica</td>\n",
       "      <td>ACTOR</td>\n",
       "      <td>Lokillo</td>\n",
       "      <td>MOVIE</td>\n",
       "      <td>2021</td>\n",
       "      <td>['comedy']</td>\n",
       "      <td>3.8</td>\n",
       "      <td>68.0</td>\n",
       "    </tr>\n",
       "  </tbody>\n",
       "</table>\n",
       "</div>"
      ],
      "text/plain": [
       "                         name                     character      role  \\\n",
       "85515          Fulu Mugovhani                       Lindiwe     ACTOR   \n",
       "85516            Simo Mogwaza                          Beki     ACTOR   \n",
       "85517          Thabang Moleya                       unknown  DIRECTOR   \n",
       "85518             Ai Leng Ong                 Jack's Mother     ACTOR   \n",
       "85519            Chew Kin-Wah                 Jack's Father     ACTOR   \n",
       "85520         Harith Iskander             Sharifah's Father     ACTOR   \n",
       "85521             Erra Fazira              Sharifa's Mother     ACTOR   \n",
       "85522              Teddy Chan                       unknown  DIRECTOR   \n",
       "85524          Maymay Entrata                       unknown     ACTOR   \n",
       "85525           Edward Barber                       unknown     ACTOR   \n",
       "85526            Snooky Serna                       unknown     ACTOR   \n",
       "85528            Pepe Herrera                       unknown     ACTOR   \n",
       "85529           Chie Filomeno                       unknown     ACTOR   \n",
       "85530         Alora Mae Sasam                       unknown     ACTOR   \n",
       "85531         Iggy Boy Flores                       unknown     ACTOR   \n",
       "85532             Neil Coleta                       unknown     ACTOR   \n",
       "85533              Cj Salonga                       unknown     ACTOR   \n",
       "85534             Gold Azeron                       unknown     ACTOR   \n",
       "85535        Christine Samson                       unknown     ACTOR   \n",
       "85536          Takuhei Kaneko                       unknown     ACTOR   \n",
       "85537          Big Mac Andaya                       unknown     ACTOR   \n",
       "85538          Miko Pe?ñaloza                       unknown     ACTOR   \n",
       "85539          Barry Gonzalez                       unknown  DIRECTOR   \n",
       "85540             Ahmed Hatem                       unknown     ACTOR   \n",
       "85541             Jamila Awad                       unknown     ACTOR   \n",
       "85542      Mahmoud Al-Bezzawy                       unknown     ACTOR   \n",
       "85543                 Sabrien                       unknown     ACTOR   \n",
       "85544          Zeinab Ghareeb                       unknown     ACTOR   \n",
       "85545           Marwan Younis                       unknown     ACTOR   \n",
       "85546              Nada Akram                       unknown     ACTOR   \n",
       "85547             Asmaa Galal                       unknown     ACTOR   \n",
       "85548        Hind Abdulhaleem                       unknown     ACTOR   \n",
       "85549     Passant El Nabarawy                       unknown     ACTOR   \n",
       "85550          Sherif Desouqy                       unknown     ACTOR   \n",
       "85551             Seif Zahran                       unknown     ACTOR   \n",
       "85552           Mohamed Moula                       unknown     ACTOR   \n",
       "85553             Ahmed Bahaa                       unknown     ACTOR   \n",
       "85554        Mohamed El-Arkan                       unknown     ACTOR   \n",
       "85555           Mohamed Bakir                       unknown  DIRECTOR   \n",
       "85556     Richard Mofe-Damijo                    Mr. George     ACTOR   \n",
       "85557               Ego Nwosu                         Kaima     ACTOR   \n",
       "85558  Keppy Ekpenyong-Bassey                          Akin     ACTOR   \n",
       "85559        Ademola Adedoyin                         Tunji     ACTOR   \n",
       "85561            Segun Arinze                       unknown     ACTOR   \n",
       "85562           Nse Ikpe-Etim                           Ame     ACTOR   \n",
       "85563                Tina Mba                         Mummy     ACTOR   \n",
       "85565           Bofie Itombra                         Kamsi     ACTOR   \n",
       "85566             Kameel Audu                        Andrew     ACTOR   \n",
       "85567           Seyi Babatope                       unknown  DIRECTOR   \n",
       "85568        Yedinson Fl??rez  Yimmy Bar??n / Paola Linares     ACTOR   \n",
       "85569          Jessica Cediel               Liliana Navarro     ACTOR   \n",
       "85570     Javier Gardeaz?­bal      Agust??n \"Peluca\" Ort??z     ACTOR   \n",
       "85571           Carla Giraldo                Valery Reinoso     ACTOR   \n",
       "85572     Ana Mar??a S?­nchez                       Lourdes     ACTOR   \n",
       "85577            Isabel Gaona                        Cacica     ACTOR   \n",
       "\n",
       "                      title   type  release_year  \\\n",
       "85515  Happiness Ever After  MOVIE          2021   \n",
       "85516  Happiness Ever After  MOVIE          2021   \n",
       "85517  Happiness Ever After  MOVIE          2021   \n",
       "85518           Kongsi Raya  MOVIE          2022   \n",
       "85519           Kongsi Raya  MOVIE          2022   \n",
       "85520           Kongsi Raya  MOVIE          2022   \n",
       "85521           Kongsi Raya  MOVIE          2022   \n",
       "85522           Kongsi Raya  MOVIE          2022   \n",
       "85524  Princess 'Daya'Reese  MOVIE          2021   \n",
       "85525  Princess 'Daya'Reese  MOVIE          2021   \n",
       "85526  Princess 'Daya'Reese  MOVIE          2021   \n",
       "85528  Princess 'Daya'Reese  MOVIE          2021   \n",
       "85529  Princess 'Daya'Reese  MOVIE          2021   \n",
       "85530  Princess 'Daya'Reese  MOVIE          2021   \n",
       "85531  Princess 'Daya'Reese  MOVIE          2021   \n",
       "85532  Princess 'Daya'Reese  MOVIE          2021   \n",
       "85533  Princess 'Daya'Reese  MOVIE          2021   \n",
       "85534  Princess 'Daya'Reese  MOVIE          2021   \n",
       "85535  Princess 'Daya'Reese  MOVIE          2021   \n",
       "85536  Princess 'Daya'Reese  MOVIE          2021   \n",
       "85537  Princess 'Daya'Reese  MOVIE          2021   \n",
       "85538  Princess 'Daya'Reese  MOVIE          2021   \n",
       "85539  Princess 'Daya'Reese  MOVIE          2021   \n",
       "85540              My Bride  MOVIE          2021   \n",
       "85541              My Bride  MOVIE          2021   \n",
       "85542              My Bride  MOVIE          2021   \n",
       "85543              My Bride  MOVIE          2021   \n",
       "85544              My Bride  MOVIE          2021   \n",
       "85545              My Bride  MOVIE          2021   \n",
       "85546              My Bride  MOVIE          2021   \n",
       "85547              My Bride  MOVIE          2021   \n",
       "85548              My Bride  MOVIE          2021   \n",
       "85549              My Bride  MOVIE          2021   \n",
       "85550              My Bride  MOVIE          2021   \n",
       "85551              My Bride  MOVIE          2021   \n",
       "85552              My Bride  MOVIE          2021   \n",
       "85553              My Bride  MOVIE          2021   \n",
       "85554              My Bride  MOVIE          2021   \n",
       "85555              My Bride  MOVIE          2021   \n",
       "85556             Fine Wine  MOVIE          2021   \n",
       "85557             Fine Wine  MOVIE          2021   \n",
       "85558             Fine Wine  MOVIE          2021   \n",
       "85559             Fine Wine  MOVIE          2021   \n",
       "85561             Fine Wine  MOVIE          2021   \n",
       "85562             Fine Wine  MOVIE          2021   \n",
       "85563             Fine Wine  MOVIE          2021   \n",
       "85565             Fine Wine  MOVIE          2021   \n",
       "85566             Fine Wine  MOVIE          2021   \n",
       "85567             Fine Wine  MOVIE          2021   \n",
       "85568               Lokillo  MOVIE          2021   \n",
       "85569               Lokillo  MOVIE          2021   \n",
       "85570               Lokillo  MOVIE          2021   \n",
       "85571               Lokillo  MOVIE          2021   \n",
       "85572               Lokillo  MOVIE          2021   \n",
       "85577               Lokillo  MOVIE          2021   \n",
       "\n",
       "                               genres  imdb_score  imdb_votes  \n",
       "85515            ['drama', 'romance']         4.2       163.0  \n",
       "85516            ['drama', 'romance']         4.2       163.0  \n",
       "85517            ['drama', 'romance']         4.2       163.0  \n",
       "85518                      ['comedy']         7.0        66.0  \n",
       "85519                      ['comedy']         7.0        66.0  \n",
       "85520                      ['comedy']         7.0        66.0  \n",
       "85521                      ['comedy']         7.0        66.0  \n",
       "85522                      ['comedy']         7.0        66.0  \n",
       "85524           ['comedy', 'romance']         7.1        50.0  \n",
       "85525           ['comedy', 'romance']         7.1        50.0  \n",
       "85526           ['comedy', 'romance']         7.1        50.0  \n",
       "85528           ['comedy', 'romance']         7.1        50.0  \n",
       "85529           ['comedy', 'romance']         7.1        50.0  \n",
       "85530           ['comedy', 'romance']         7.1        50.0  \n",
       "85531           ['comedy', 'romance']         7.1        50.0  \n",
       "85532           ['comedy', 'romance']         7.1        50.0  \n",
       "85533           ['comedy', 'romance']         7.1        50.0  \n",
       "85534           ['comedy', 'romance']         7.1        50.0  \n",
       "85535           ['comedy', 'romance']         7.1        50.0  \n",
       "85536           ['comedy', 'romance']         7.1        50.0  \n",
       "85537           ['comedy', 'romance']         7.1        50.0  \n",
       "85538           ['comedy', 'romance']         7.1        50.0  \n",
       "85539           ['comedy', 'romance']         7.1        50.0  \n",
       "85540  ['romance', 'comedy', 'drama']         5.0       327.0  \n",
       "85541  ['romance', 'comedy', 'drama']         5.0       327.0  \n",
       "85542  ['romance', 'comedy', 'drama']         5.0       327.0  \n",
       "85543  ['romance', 'comedy', 'drama']         5.0       327.0  \n",
       "85544  ['romance', 'comedy', 'drama']         5.0       327.0  \n",
       "85545  ['romance', 'comedy', 'drama']         5.0       327.0  \n",
       "85546  ['romance', 'comedy', 'drama']         5.0       327.0  \n",
       "85547  ['romance', 'comedy', 'drama']         5.0       327.0  \n",
       "85548  ['romance', 'comedy', 'drama']         5.0       327.0  \n",
       "85549  ['romance', 'comedy', 'drama']         5.0       327.0  \n",
       "85550  ['romance', 'comedy', 'drama']         5.0       327.0  \n",
       "85551  ['romance', 'comedy', 'drama']         5.0       327.0  \n",
       "85552  ['romance', 'comedy', 'drama']         5.0       327.0  \n",
       "85553  ['romance', 'comedy', 'drama']         5.0       327.0  \n",
       "85554  ['romance', 'comedy', 'drama']         5.0       327.0  \n",
       "85555  ['romance', 'comedy', 'drama']         5.0       327.0  \n",
       "85556            ['romance', 'drama']         6.8        45.0  \n",
       "85557            ['romance', 'drama']         6.8        45.0  \n",
       "85558            ['romance', 'drama']         6.8        45.0  \n",
       "85559            ['romance', 'drama']         6.8        45.0  \n",
       "85561            ['romance', 'drama']         6.8        45.0  \n",
       "85562            ['romance', 'drama']         6.8        45.0  \n",
       "85563            ['romance', 'drama']         6.8        45.0  \n",
       "85565            ['romance', 'drama']         6.8        45.0  \n",
       "85566            ['romance', 'drama']         6.8        45.0  \n",
       "85567            ['romance', 'drama']         6.8        45.0  \n",
       "85568                      ['comedy']         3.8        68.0  \n",
       "85569                      ['comedy']         3.8        68.0  \n",
       "85570                      ['comedy']         3.8        68.0  \n",
       "85571                      ['comedy']         3.8        68.0  \n",
       "85572                      ['comedy']         3.8        68.0  \n",
       "85577                      ['comedy']         3.8        68.0  "
      ]
     },
     "metadata": {},
     "output_type": "display_data"
    },
    {
     "data": {
      "text/plain": [
       "(6994, 9)"
      ]
     },
     "execution_count": 105,
     "metadata": {},
     "output_type": "execute_result"
    }
   ],
   "source": [
    "# Produce table with duplicates (with original rows included) and review last 5 rows\n",
    "# All occurances of a duplicated value are marked as True, because of \"keep=False\"\n",
    "dupe_rows = df[df.duplicated()]\n",
    "display(dupe_rows.tail(55))\n",
    "dupe_rows.shape"
   ]
  },
  {
   "cell_type": "markdown",
   "id": "a1ed6640",
   "metadata": {},
   "source": [
    "There are two clear duplicates in the printed rows. We can safely remove them.\n",
    "Call the `pandas` method for getting rid of duplicate rows:"
   ]
  },
  {
   "cell_type": "code",
   "execution_count": 107,
   "id": "724d5bc8",
   "metadata": {},
   "outputs": [
    {
     "name": "stdout",
     "output_type": "stream",
     "text": [
      "SHAPE:\n",
      "(73859, 9)\n"
     ]
    }
   ],
   "source": [
    "# removing duplicate rows\n",
    "# df = dupe_rows.drop_duplicates()\n",
    "# Remove duplicates based on all columns, excluding the 'type' column\n",
    "#columns_to_check = df.columns.difference(['type'])\n",
    "#df = df.drop_duplicates(subset=columns_to_check)\n",
    "\n",
    "df.drop_duplicates(inplace=True)\n",
    "\n",
    "print(\"SHAPE:\")\n",
    "print(df.shape)\n",
    "\n",
    "#print(\"Unique types after dropping duplicates:\", sorted(df['type'].unique()))"
   ]
  },
  {
   "cell_type": "markdown",
   "id": "fc8c77ba",
   "metadata": {},
   "source": [
    "Check for duplicate rows once more to make sure you have removed all of them:"
   ]
  },
  {
   "cell_type": "code",
   "execution_count": 109,
   "id": "8091a9bc",
   "metadata": {},
   "outputs": [
    {
     "name": "stdout",
     "output_type": "stream",
     "text": [
      "0\n"
     ]
    }
   ],
   "source": [
    "# checking for duplicates\n",
    "print(df.duplicated().sum())"
   ]
  },
  {
   "cell_type": "markdown",
   "id": "1d802b07",
   "metadata": {},
   "source": [
    "Now get rid of implicit duplicates in the `'type'` column. For example, the string `'SHOW'` can be written in different ways. These kinds of errors will also affect the result."
   ]
  },
  {
   "cell_type": "markdown",
   "id": "d5f987ed",
   "metadata": {},
   "source": [
    "Print a list of unique `'type'` names, sorted in alphabetical order. To do so:\n",
    "* Retrieve the intended dataframe column \n",
    "* Apply a sorting method to it\n",
    "* For the sorted column, call the method that will return all unique column values"
   ]
  },
  {
   "cell_type": "code",
   "execution_count": 112,
   "id": "3d7b0ac5",
   "metadata": {},
   "outputs": [
    {
     "name": "stdout",
     "output_type": "stream",
     "text": [
      "['MOVIE' 'SHOW' 'movies' 'shows' 'the movie' 'tv' 'tv series' 'tv show'\n",
      " 'tv shows']\n"
     ]
    }
   ],
   "source": [
    "# viewing unique type names. BEFORE.\n",
    "print(df['type'].sort_values(ascending=True).unique())"
   ]
  },
  {
   "cell_type": "markdown",
   "id": "ac6e8b18",
   "metadata": {},
   "source": [
    "Look through the list to find implicit duplicates of `'show'` (`'movie'` duplicates will be ignored since the assumption is about shows). These could be names written incorrectly or alternative names of the same genre.\n",
    "\n",
    "You will see the following implicit duplicates:\n",
    "* `'shows'`\n",
    "* `'SHOW'`\n",
    "* `'tv show'`\n",
    "* `'tv shows'`\n",
    "* `'tv series'`\n",
    "* `'tv'`\n",
    "\n",
    "To get rid of them, declare the function `replace_wrong_show()` with two parameters: \n",
    "* `wrong_shows_list=` — the list of duplicates\n",
    "* `correct_show=` — the string with the correct value\n",
    "\n",
    "The function should correct the names in the `'type'` column from the `df` table (i.e., replace each value from the `wrong_shows_list` list with the value in `correct_show`)."
   ]
  },
  {
   "cell_type": "code",
   "execution_count": 114,
   "id": "bff944f9",
   "metadata": {},
   "outputs": [],
   "source": [
    "# function for replacing implicit duplicates\n",
    "def replace_wrong_show(wrong_shows_list, correct_show):\n",
    "    for w in wrong_shows_list:\n",
    "        df['type'] = df['type'].replace(w, correct_show)\n",
    "        "
   ]
  },
  {
   "cell_type": "markdown",
   "id": "d02d13a6",
   "metadata": {},
   "source": [
    "Call `replace_wrong_show()` and pass it arguments so that it clears implicit duplicates and replaces them with `SHOW`:"
   ]
  },
  {
   "cell_type": "code",
   "execution_count": 116,
   "id": "a2217e53",
   "metadata": {},
   "outputs": [],
   "source": [
    "# removing implicit duplicates\n",
    "# List of incorrect show names\n",
    "wrong_shows_list = [\"shows\", \"tv show\", \"tv shows\", \"tv series\", \"tv\"]\n",
    "correct_show = \"SHOW\"\n",
    "# call function\n",
    "replace_wrong_show(wrong_shows_list, correct_show)"
   ]
  },
  {
   "cell_type": "markdown",
   "id": "318b09f7",
   "metadata": {},
   "source": [
    "Make sure the duplicate names are removed. Print the list of unique values from the `'type'` column:"
   ]
  },
  {
   "cell_type": "code",
   "execution_count": 118,
   "id": "25d49d73",
   "metadata": {},
   "outputs": [
    {
     "name": "stdout",
     "output_type": "stream",
     "text": [
      "['MOVIE' 'the movie' 'SHOW' 'movies']\n"
     ]
    }
   ],
   "source": [
    "# viewing unique genre names\n",
    "print(df['type'].unique())"
   ]
  },
  {
   "cell_type": "markdown",
   "id": "388ba5af-c037-4a93-a56d-835065739bc2",
   "metadata": {},
   "source": [
    "### Conclusions <a id='data_preprocessing_conclusions'></a>\n",
    "I detected three issues with the dataset:\n",
    "\n",
    "- Incorrect header styles\n",
    "- Missing values\n",
    "- Duplicate rows and implicit duplicates\n",
    "\n",
    "The headers have been cleaned up to make processing the table simpler.\n",
    "\n",
    "All rows with missing values have been removed. \n",
    "\n",
    "The absence of duplicates will make the results more precise and easier to understand.\n",
    "\n",
    "Now I can move on to our analysis of the prepared data."
   ]
  },
  {
   "cell_type": "markdown",
   "id": "1aa0f1b1",
   "metadata": {},
   "source": [
    "## Stage 3. Data analysis <a id='hypotheses'></a>"
   ]
  },
  {
   "cell_type": "markdown",
   "id": "947d81d8-547d-4ec0-b935-4163b1819771",
   "metadata": {},
   "source": [
    "Based on the previous project stages, I can now define how the assumption will be checked. Calculate the average amount of votes for each score (this data is available in the `imdb_score` and `imdb_votes` columns), and then check how these averages relate to each other. If the averages for shows with the highest scores are bigger than those for shows with lower scores, the assumption appears to be true.\n",
    "\n",
    "Based on this, I will complete the following steps:\n",
    "\n",
    "- Filter the dataframe to only include shows released in 1999 or later.\n",
    "- Group scores into buckets by rounding the values of the appropriate column (a set of 1-10 integers will help us make the outcome of our calculations more evident without damaging the quality of our research).\n",
    "- Identify outliers among scores based on their number of votes, and exclude scores with few votes.\n",
    "- Calculate the average votes for each score and check whether the assumption matches the results."
   ]
  },
  {
   "cell_type": "markdown",
   "id": "d792c3e6-53f7-4f45-b113-3f18b807337b",
   "metadata": {},
   "source": [
    "To filter the dataframe and only include shows released in 1999 or later, I will take two steps. First, keep only titles published in 1999 or later in our dataframe. Then, filter the table to only contain shows (movies will be removed)."
   ]
  },
  {
   "cell_type": "code",
   "execution_count": 123,
   "id": "89ec8a3f",
   "metadata": {},
   "outputs": [
    {
     "name": "stdout",
     "output_type": "stream",
     "text": [
      "SHAPE\n",
      "(13430, 9)\n"
     ]
    }
   ],
   "source": [
    "df_SHOW_newerThan1999 = df[(df['release_year'] >= 1999) & (df['type'] == 'SHOW')].copy()\n",
    "print(\"SHAPE\")\n",
    "print(df_SHOW_newerThan1999.shape)"
   ]
  },
  {
   "cell_type": "code",
   "execution_count": 124,
   "id": "6a704aa1",
   "metadata": {},
   "outputs": [
    {
     "name": "stdout",
     "output_type": "stream",
     "text": [
      "SHAPE\n",
      "(13430, 10)\n",
      "Average votes for IMDb score between 1 and 3: 1801.87\n",
      "Average votes for IMDb score between 4 and 6: 3070.66\n",
      "Average votes for IMDb score between 7 and 10: 23940.02\n",
      "\n",
      "\n",
      "Assumption is true... highly-rated shows also have the most votes.\n"
     ]
    }
   ],
   "source": [
    "# using conditional indexing modify df so it has only titles released after 1999 (with 1999 included)\n",
    "# give the slice of dataframe new name\n",
    "# only include SHOW's from 1999 or later\n",
    "#df_SHOW_newerThan1999 = df[(df['release_year'] >= 1999) & (df['type'] == 'SHOW')].copy()\n",
    "\n",
    "# Group scores into buckets, and round. Low , medium, high scores.\n",
    "#df_SHOW_newerThan1999.loc[:, 'imdb_score_bucket_1-3'] = (df_SHOW_newerThan1999['imdb_score'] <= 3)\n",
    "#df_SHOW_newerThan1999.loc[:, 'imdb_score_bucket_1-3'] = df_SHOW_newerThan1999['imdb_score_bucket_1-3'].round()\n",
    " \n",
    "#df_SHOW_newerThan1999.loc[:, 'imdb_score_bucket_4-6'] = (df_SHOW_newerThan1999['imdb_score'] > 3) & (df_SHOW_newerThan1999['imdb_score'] <= 6)\n",
    "#df_SHOW_newerThan1999.loc[:, 'imdb_score_bucket_4-6'] = df_SHOW_newerThan1999['imdb_score_bucket_4-6'].round()\n",
    " \n",
    "#df_SHOW_newerThan1999.loc[:, 'imdb_score_bucket_7-10'] = (df_SHOW_newerThan1999['imdb_score'] > 6) & (df_SHOW_newerThan1999['imdb_score'] <= 10)\n",
    "#df_SHOW_newerThan1999.loc[:, 'imdb_score_bucket_7-10'] = df_SHOW_newerThan1999['imdb_score_bucket_7-10'].round()\n",
    "\n",
    " \n",
    "# Step 3: Exclude scores with fewer votes (fewer than 500)\n",
    "#df_SHOW_newerThan1999 = df_SHOW_newerThan1999[df_SHOW_newerThan1999['imdb_votes'] >= 500]\n",
    " \n",
    "def high_med_low(bucket):\n",
    "    if bucket <= 3:\n",
    "        return 'low'\n",
    "    if bucket > 3 and bucket <= 6:\n",
    "        return 'medium'\n",
    "    if bucket > 6 and bucket <= 10:\n",
    "        return 'high'\n",
    "        \n",
    "  \n",
    "df_SHOW_newerThan1999['imdb_rating'] = df_SHOW_newerThan1999['imdb_score'].apply(high_med_low)\n",
    "    \n",
    "# Step 4: Calculate the average votes for each score bucket\n",
    "avg_imdb_score_1_3 = df_SHOW_newerThan1999[df_SHOW_newerThan1999['imdb_rating'] == 'low']['imdb_votes'].mean()\n",
    "avg_imdb_score_4_6 = df_SHOW_newerThan1999[df_SHOW_newerThan1999['imdb_rating'] == 'medium']['imdb_votes'].mean()\n",
    "avg_imdb_score_7_10 = df_SHOW_newerThan1999[df_SHOW_newerThan1999['imdb_rating'] == 'high']['imdb_votes'].mean()\n",
    "\n",
    "\n",
    "\n",
    "print(\"SHAPE\")\n",
    "print(df_SHOW_newerThan1999.shape)\n",
    "\n",
    "# Print the result for review, and round to 2 places\n",
    "# Round the average votes to 2 decimal places\n",
    "avg_imdb_score_1_3 = round(avg_imdb_score_1_3, 2)\n",
    "avg_imdb_score_4_6 = round(avg_imdb_score_4_6, 2)\n",
    "avg_imdb_score_7_10 = round(avg_imdb_score_7_10, 2)\n",
    "\n",
    "print(\"Average votes for IMDb score between 1 and 3:\", avg_imdb_score_1_3)\n",
    "print(\"Average votes for IMDb score between 4 and 6:\", avg_imdb_score_4_6)\n",
    "print(\"Average votes for IMDb score between 7 and 10:\", avg_imdb_score_7_10)\n",
    "print('\\n')\n",
    "print(\"Assumption is true... highly-rated shows also have the most votes.\")\n",
    "\n",
    "# Create some \"buckets\" to group imdb scoring\n",
    "#imdb_score_bucket_1_3 = 0\n",
    "#imdb_score_bucket_4_6 = 0\n",
    "#imdb_score_bucket_7_10 = 0"
   ]
  },
  {
   "cell_type": "code",
   "execution_count": 125,
   "id": "128dc6a9",
   "metadata": {
    "scrolled": true
   },
   "outputs": [
    {
     "data": {
      "text/html": [
       "<div>\n",
       "<style scoped>\n",
       "    .dataframe tbody tr th:only-of-type {\n",
       "        vertical-align: middle;\n",
       "    }\n",
       "\n",
       "    .dataframe tbody tr th {\n",
       "        vertical-align: top;\n",
       "    }\n",
       "\n",
       "    .dataframe thead th {\n",
       "        text-align: right;\n",
       "    }\n",
       "</style>\n",
       "<table border=\"1\" class=\"dataframe\">\n",
       "  <thead>\n",
       "    <tr style=\"text-align: right;\">\n",
       "      <th></th>\n",
       "      <th>name</th>\n",
       "      <th>character</th>\n",
       "      <th>role</th>\n",
       "      <th>title</th>\n",
       "      <th>type</th>\n",
       "      <th>release_year</th>\n",
       "      <th>genres</th>\n",
       "      <th>imdb_score</th>\n",
       "      <th>imdb_votes</th>\n",
       "      <th>imdb_rating</th>\n",
       "    </tr>\n",
       "  </thead>\n",
       "  <tbody>\n",
       "    <tr>\n",
       "      <th>77653</th>\n",
       "      <td>Mawin Taweepol</td>\n",
       "      <td>Win</td>\n",
       "      <td>ACTOR</td>\n",
       "      <td>Let's Eat</td>\n",
       "      <td>SHOW</td>\n",
       "      <td>2021</td>\n",
       "      <td>['drama', 'comedy']</td>\n",
       "      <td>8.2</td>\n",
       "      <td>5.0</td>\n",
       "      <td>high</td>\n",
       "    </tr>\n",
       "    <tr>\n",
       "      <th>77654</th>\n",
       "      <td>Nat Sakdatorn</td>\n",
       "      <td>unknown</td>\n",
       "      <td>ACTOR</td>\n",
       "      <td>Let's Eat</td>\n",
       "      <td>SHOW</td>\n",
       "      <td>2021</td>\n",
       "      <td>['drama', 'comedy']</td>\n",
       "      <td>8.2</td>\n",
       "      <td>5.0</td>\n",
       "      <td>high</td>\n",
       "    </tr>\n",
       "    <tr>\n",
       "      <th>77655</th>\n",
       "      <td>Maneerat Kam-Uan</td>\n",
       "      <td>Ae</td>\n",
       "      <td>ACTOR</td>\n",
       "      <td>Let's Eat</td>\n",
       "      <td>SHOW</td>\n",
       "      <td>2021</td>\n",
       "      <td>['drama', 'comedy']</td>\n",
       "      <td>8.2</td>\n",
       "      <td>5.0</td>\n",
       "      <td>high</td>\n",
       "    </tr>\n",
       "    <tr>\n",
       "      <th>77656</th>\n",
       "      <td>Rudklao Amratisha</td>\n",
       "      <td>unknown</td>\n",
       "      <td>ACTOR</td>\n",
       "      <td>Let's Eat</td>\n",
       "      <td>SHOW</td>\n",
       "      <td>2021</td>\n",
       "      <td>['drama', 'comedy']</td>\n",
       "      <td>8.2</td>\n",
       "      <td>5.0</td>\n",
       "      <td>high</td>\n",
       "    </tr>\n",
       "    <tr>\n",
       "      <th>77657</th>\n",
       "      <td>Jaturong Mokjok</td>\n",
       "      <td>unknown</td>\n",
       "      <td>ACTOR</td>\n",
       "      <td>Let's Eat</td>\n",
       "      <td>SHOW</td>\n",
       "      <td>2021</td>\n",
       "      <td>['drama', 'comedy']</td>\n",
       "      <td>8.2</td>\n",
       "      <td>5.0</td>\n",
       "      <td>high</td>\n",
       "    </tr>\n",
       "    <tr>\n",
       "      <th>77658</th>\n",
       "      <td>Pisamai Wilaisak</td>\n",
       "      <td>unknown</td>\n",
       "      <td>ACTOR</td>\n",
       "      <td>Let's Eat</td>\n",
       "      <td>SHOW</td>\n",
       "      <td>2021</td>\n",
       "      <td>['drama', 'comedy']</td>\n",
       "      <td>8.2</td>\n",
       "      <td>5.0</td>\n",
       "      <td>high</td>\n",
       "    </tr>\n",
       "    <tr>\n",
       "      <th>77659</th>\n",
       "      <td>Sarawut Wichiensarn</td>\n",
       "      <td>unknown</td>\n",
       "      <td>DIRECTOR</td>\n",
       "      <td>Let's Eat</td>\n",
       "      <td>SHOW</td>\n",
       "      <td>2021</td>\n",
       "      <td>['drama', 'comedy']</td>\n",
       "      <td>8.2</td>\n",
       "      <td>5.0</td>\n",
       "      <td>high</td>\n",
       "    </tr>\n",
       "    <tr>\n",
       "      <th>83911</th>\n",
       "      <td>Heather Hemmens</td>\n",
       "      <td>unknown</td>\n",
       "      <td>ACTOR</td>\n",
       "      <td>Dad Stop Embarrassing Me!</td>\n",
       "      <td>SHOW</td>\n",
       "      <td>2021</td>\n",
       "      <td>['comedy', 'family']</td>\n",
       "      <td>4.1</td>\n",
       "      <td>1882.0</td>\n",
       "      <td>medium</td>\n",
       "    </tr>\n",
       "    <tr>\n",
       "      <th>84679</th>\n",
       "      <td>Artur Pontek</td>\n",
       "      <td>Kayko (voice)</td>\n",
       "      <td>ACTOR</td>\n",
       "      <td>Kayko and Kokosh</td>\n",
       "      <td>SHOW</td>\n",
       "      <td>2021</td>\n",
       "      <td>['animation', 'comedy', 'fantasy', 'action']</td>\n",
       "      <td>6.3</td>\n",
       "      <td>324.0</td>\n",
       "      <td>high</td>\n",
       "    </tr>\n",
       "    <tr>\n",
       "      <th>84680</th>\n",
       "      <td>Micha? Piela</td>\n",
       "      <td>Kokosh (voice)</td>\n",
       "      <td>ACTOR</td>\n",
       "      <td>Kayko and Kokosh</td>\n",
       "      <td>SHOW</td>\n",
       "      <td>2021</td>\n",
       "      <td>['animation', 'comedy', 'fantasy', 'action']</td>\n",
       "      <td>6.3</td>\n",
       "      <td>324.0</td>\n",
       "      <td>high</td>\n",
       "    </tr>\n",
       "    <tr>\n",
       "      <th>84681</th>\n",
       "      <td>Maciej Kosmala</td>\n",
       "      <td>Milus ( voice)</td>\n",
       "      <td>ACTOR</td>\n",
       "      <td>Kayko and Kokosh</td>\n",
       "      <td>SHOW</td>\n",
       "      <td>2021</td>\n",
       "      <td>['animation', 'comedy', 'fantasy', 'action']</td>\n",
       "      <td>6.3</td>\n",
       "      <td>324.0</td>\n",
       "      <td>high</td>\n",
       "    </tr>\n",
       "    <tr>\n",
       "      <th>84824</th>\n",
       "      <td>Abla Fahita</td>\n",
       "      <td>unknown</td>\n",
       "      <td>ACTOR</td>\n",
       "      <td>Abla Fahita: Drama Queen</td>\n",
       "      <td>SHOW</td>\n",
       "      <td>2021</td>\n",
       "      <td>['drama', 'comedy', 'crime']</td>\n",
       "      <td>6.5</td>\n",
       "      <td>446.0</td>\n",
       "      <td>high</td>\n",
       "    </tr>\n",
       "    <tr>\n",
       "      <th>84825</th>\n",
       "      <td>Caro</td>\n",
       "      <td>unknown</td>\n",
       "      <td>ACTOR</td>\n",
       "      <td>Abla Fahita: Drama Queen</td>\n",
       "      <td>SHOW</td>\n",
       "      <td>2021</td>\n",
       "      <td>['drama', 'comedy', 'crime']</td>\n",
       "      <td>6.5</td>\n",
       "      <td>446.0</td>\n",
       "      <td>high</td>\n",
       "    </tr>\n",
       "    <tr>\n",
       "      <th>84826</th>\n",
       "      <td>Bassem Samra</td>\n",
       "      <td>Ameen</td>\n",
       "      <td>ACTOR</td>\n",
       "      <td>Abla Fahita: Drama Queen</td>\n",
       "      <td>SHOW</td>\n",
       "      <td>2021</td>\n",
       "      <td>['drama', 'comedy', 'crime']</td>\n",
       "      <td>6.5</td>\n",
       "      <td>446.0</td>\n",
       "      <td>high</td>\n",
       "    </tr>\n",
       "    <tr>\n",
       "      <th>84827</th>\n",
       "      <td>Donia Maher</td>\n",
       "      <td>unknown</td>\n",
       "      <td>ACTOR</td>\n",
       "      <td>Abla Fahita: Drama Queen</td>\n",
       "      <td>SHOW</td>\n",
       "      <td>2021</td>\n",
       "      <td>['drama', 'comedy', 'crime']</td>\n",
       "      <td>6.5</td>\n",
       "      <td>446.0</td>\n",
       "      <td>high</td>\n",
       "    </tr>\n",
       "    <tr>\n",
       "      <th>84828</th>\n",
       "      <td>Rehab Hussein</td>\n",
       "      <td>unknown</td>\n",
       "      <td>ACTOR</td>\n",
       "      <td>Abla Fahita: Drama Queen</td>\n",
       "      <td>SHOW</td>\n",
       "      <td>2021</td>\n",
       "      <td>['drama', 'comedy', 'crime']</td>\n",
       "      <td>6.5</td>\n",
       "      <td>446.0</td>\n",
       "      <td>high</td>\n",
       "    </tr>\n",
       "    <tr>\n",
       "      <th>84829</th>\n",
       "      <td>Mnaa Adel</td>\n",
       "      <td>unknown</td>\n",
       "      <td>ACTOR</td>\n",
       "      <td>Abla Fahita: Drama Queen</td>\n",
       "      <td>SHOW</td>\n",
       "      <td>2021</td>\n",
       "      <td>['drama', 'comedy', 'crime']</td>\n",
       "      <td>6.5</td>\n",
       "      <td>446.0</td>\n",
       "      <td>high</td>\n",
       "    </tr>\n",
       "    <tr>\n",
       "      <th>84830</th>\n",
       "      <td>Bossy Shalaby</td>\n",
       "      <td>unknown</td>\n",
       "      <td>ACTOR</td>\n",
       "      <td>Abla Fahita: Drama Queen</td>\n",
       "      <td>SHOW</td>\n",
       "      <td>2021</td>\n",
       "      <td>['drama', 'comedy', 'crime']</td>\n",
       "      <td>6.5</td>\n",
       "      <td>446.0</td>\n",
       "      <td>high</td>\n",
       "    </tr>\n",
       "    <tr>\n",
       "      <th>84831</th>\n",
       "      <td>Zeina Mansour</td>\n",
       "      <td>unknown</td>\n",
       "      <td>ACTOR</td>\n",
       "      <td>Abla Fahita: Drama Queen</td>\n",
       "      <td>SHOW</td>\n",
       "      <td>2021</td>\n",
       "      <td>['drama', 'comedy', 'crime']</td>\n",
       "      <td>6.5</td>\n",
       "      <td>446.0</td>\n",
       "      <td>high</td>\n",
       "    </tr>\n",
       "    <tr>\n",
       "      <th>84832</th>\n",
       "      <td>Osama Abdullah</td>\n",
       "      <td>unknown</td>\n",
       "      <td>ACTOR</td>\n",
       "      <td>Abla Fahita: Drama Queen</td>\n",
       "      <td>SHOW</td>\n",
       "      <td>2021</td>\n",
       "      <td>['drama', 'comedy', 'crime']</td>\n",
       "      <td>6.5</td>\n",
       "      <td>446.0</td>\n",
       "      <td>high</td>\n",
       "    </tr>\n",
       "    <tr>\n",
       "      <th>84833</th>\n",
       "      <td>Ahmed Saad (Mesho)</td>\n",
       "      <td>unknown</td>\n",
       "      <td>ACTOR</td>\n",
       "      <td>Abla Fahita: Drama Queen</td>\n",
       "      <td>SHOW</td>\n",
       "      <td>2021</td>\n",
       "      <td>['drama', 'comedy', 'crime']</td>\n",
       "      <td>6.5</td>\n",
       "      <td>446.0</td>\n",
       "      <td>high</td>\n",
       "    </tr>\n",
       "    <tr>\n",
       "      <th>84834</th>\n",
       "      <td>Fekri Salim</td>\n",
       "      <td>unknown</td>\n",
       "      <td>ACTOR</td>\n",
       "      <td>Abla Fahita: Drama Queen</td>\n",
       "      <td>SHOW</td>\n",
       "      <td>2021</td>\n",
       "      <td>['drama', 'comedy', 'crime']</td>\n",
       "      <td>6.5</td>\n",
       "      <td>446.0</td>\n",
       "      <td>high</td>\n",
       "    </tr>\n",
       "    <tr>\n",
       "      <th>84912</th>\n",
       "      <td>M??nica Naranjo</td>\n",
       "      <td>Self - Host</td>\n",
       "      <td>ACTOR</td>\n",
       "      <td>Love Never Lies</td>\n",
       "      <td>SHOW</td>\n",
       "      <td>2021</td>\n",
       "      <td>['reality']</td>\n",
       "      <td>5.6</td>\n",
       "      <td>250.0</td>\n",
       "      <td>medium</td>\n",
       "    </tr>\n",
       "    <tr>\n",
       "      <th>85068</th>\n",
       "      <td>Robby Collins</td>\n",
       "      <td>unknown</td>\n",
       "      <td>ACTOR</td>\n",
       "      <td>Only Jokes Allowed</td>\n",
       "      <td>SHOW</td>\n",
       "      <td>2022</td>\n",
       "      <td>['comedy']</td>\n",
       "      <td>4.9</td>\n",
       "      <td>45.0</td>\n",
       "      <td>medium</td>\n",
       "    </tr>\n",
       "    <tr>\n",
       "      <th>85314</th>\n",
       "      <td>Shubham Agarwal</td>\n",
       "      <td>Self</td>\n",
       "      <td>ACTOR</td>\n",
       "      <td>Alma Matters: Inside the IIT Dream</td>\n",
       "      <td>SHOW</td>\n",
       "      <td>2021</td>\n",
       "      <td>['documentation', 'drama']</td>\n",
       "      <td>8.3</td>\n",
       "      <td>2346.0</td>\n",
       "      <td>high</td>\n",
       "    </tr>\n",
       "    <tr>\n",
       "      <th>85315</th>\n",
       "      <td>Lokesh Deshmukh</td>\n",
       "      <td>Self</td>\n",
       "      <td>ACTOR</td>\n",
       "      <td>Alma Matters: Inside the IIT Dream</td>\n",
       "      <td>SHOW</td>\n",
       "      <td>2021</td>\n",
       "      <td>['documentation', 'drama']</td>\n",
       "      <td>8.3</td>\n",
       "      <td>2346.0</td>\n",
       "      <td>high</td>\n",
       "    </tr>\n",
       "    <tr>\n",
       "      <th>85316</th>\n",
       "      <td>Mukul Sankule</td>\n",
       "      <td>Self</td>\n",
       "      <td>ACTOR</td>\n",
       "      <td>Alma Matters: Inside the IIT Dream</td>\n",
       "      <td>SHOW</td>\n",
       "      <td>2021</td>\n",
       "      <td>['documentation', 'drama']</td>\n",
       "      <td>8.3</td>\n",
       "      <td>2346.0</td>\n",
       "      <td>high</td>\n",
       "    </tr>\n",
       "    <tr>\n",
       "      <th>85317</th>\n",
       "      <td>Kartikeya Singh</td>\n",
       "      <td>Self</td>\n",
       "      <td>ACTOR</td>\n",
       "      <td>Alma Matters: Inside the IIT Dream</td>\n",
       "      <td>SHOW</td>\n",
       "      <td>2021</td>\n",
       "      <td>['documentation', 'drama']</td>\n",
       "      <td>8.3</td>\n",
       "      <td>2346.0</td>\n",
       "      <td>high</td>\n",
       "    </tr>\n",
       "    <tr>\n",
       "      <th>85318</th>\n",
       "      <td>Adarsh Upadhyay</td>\n",
       "      <td>Self</td>\n",
       "      <td>ACTOR</td>\n",
       "      <td>Alma Matters: Inside the IIT Dream</td>\n",
       "      <td>SHOW</td>\n",
       "      <td>2021</td>\n",
       "      <td>['documentation', 'drama']</td>\n",
       "      <td>8.3</td>\n",
       "      <td>2346.0</td>\n",
       "      <td>high</td>\n",
       "    </tr>\n",
       "    <tr>\n",
       "      <th>85319</th>\n",
       "      <td>Kevin Banker</td>\n",
       "      <td>Self</td>\n",
       "      <td>ACTOR</td>\n",
       "      <td>Alma Matters: Inside the IIT Dream</td>\n",
       "      <td>SHOW</td>\n",
       "      <td>2021</td>\n",
       "      <td>['documentation', 'drama']</td>\n",
       "      <td>8.3</td>\n",
       "      <td>2346.0</td>\n",
       "      <td>high</td>\n",
       "    </tr>\n",
       "    <tr>\n",
       "      <th>85320</th>\n",
       "      <td>Gokul J. Krishnan</td>\n",
       "      <td>Self</td>\n",
       "      <td>ACTOR</td>\n",
       "      <td>Alma Matters: Inside the IIT Dream</td>\n",
       "      <td>SHOW</td>\n",
       "      <td>2021</td>\n",
       "      <td>['documentation', 'drama']</td>\n",
       "      <td>8.3</td>\n",
       "      <td>2346.0</td>\n",
       "      <td>high</td>\n",
       "    </tr>\n",
       "    <tr>\n",
       "      <th>85321</th>\n",
       "      <td>Pradeep S. Gautam</td>\n",
       "      <td>Self</td>\n",
       "      <td>ACTOR</td>\n",
       "      <td>Alma Matters: Inside the IIT Dream</td>\n",
       "      <td>SHOW</td>\n",
       "      <td>2021</td>\n",
       "      <td>['documentation', 'drama']</td>\n",
       "      <td>8.3</td>\n",
       "      <td>2346.0</td>\n",
       "      <td>high</td>\n",
       "    </tr>\n",
       "    <tr>\n",
       "      <th>85322</th>\n",
       "      <td>Biswa Kalyan Rath</td>\n",
       "      <td>Self</td>\n",
       "      <td>ACTOR</td>\n",
       "      <td>Alma Matters: Inside the IIT Dream</td>\n",
       "      <td>SHOW</td>\n",
       "      <td>2021</td>\n",
       "      <td>['documentation', 'drama']</td>\n",
       "      <td>8.3</td>\n",
       "      <td>2346.0</td>\n",
       "      <td>high</td>\n",
       "    </tr>\n",
       "    <tr>\n",
       "      <th>85323</th>\n",
       "      <td>Poonam Gupta</td>\n",
       "      <td>Self</td>\n",
       "      <td>ACTOR</td>\n",
       "      <td>Alma Matters: Inside the IIT Dream</td>\n",
       "      <td>SHOW</td>\n",
       "      <td>2021</td>\n",
       "      <td>['documentation', 'drama']</td>\n",
       "      <td>8.3</td>\n",
       "      <td>2346.0</td>\n",
       "      <td>high</td>\n",
       "    </tr>\n",
       "    <tr>\n",
       "      <th>85324</th>\n",
       "      <td>Spandana Silla</td>\n",
       "      <td>Self</td>\n",
       "      <td>ACTOR</td>\n",
       "      <td>Alma Matters: Inside the IIT Dream</td>\n",
       "      <td>SHOW</td>\n",
       "      <td>2021</td>\n",
       "      <td>['documentation', 'drama']</td>\n",
       "      <td>8.3</td>\n",
       "      <td>2346.0</td>\n",
       "      <td>high</td>\n",
       "    </tr>\n",
       "    <tr>\n",
       "      <th>85325</th>\n",
       "      <td>Pratik Patra</td>\n",
       "      <td>unknown</td>\n",
       "      <td>DIRECTOR</td>\n",
       "      <td>Alma Matters: Inside the IIT Dream</td>\n",
       "      <td>SHOW</td>\n",
       "      <td>2021</td>\n",
       "      <td>['documentation', 'drama']</td>\n",
       "      <td>8.3</td>\n",
       "      <td>2346.0</td>\n",
       "      <td>high</td>\n",
       "    </tr>\n",
       "    <tr>\n",
       "      <th>85326</th>\n",
       "      <td>Prashant Raj</td>\n",
       "      <td>unknown</td>\n",
       "      <td>DIRECTOR</td>\n",
       "      <td>Alma Matters: Inside the IIT Dream</td>\n",
       "      <td>SHOW</td>\n",
       "      <td>2021</td>\n",
       "      <td>['documentation', 'drama']</td>\n",
       "      <td>8.3</td>\n",
       "      <td>2346.0</td>\n",
       "      <td>high</td>\n",
       "    </tr>\n",
       "    <tr>\n",
       "      <th>85398</th>\n",
       "      <td>Javed Jaffrey</td>\n",
       "      <td>unknown</td>\n",
       "      <td>ACTOR</td>\n",
       "      <td>Lava Ka Dhaava</td>\n",
       "      <td>SHOW</td>\n",
       "      <td>2021</td>\n",
       "      <td>['reality']</td>\n",
       "      <td>6.1</td>\n",
       "      <td>42.0</td>\n",
       "      <td>high</td>\n",
       "    </tr>\n",
       "    <tr>\n",
       "      <th>85399</th>\n",
       "      <td>Rutledge Wood</td>\n",
       "      <td>unknown</td>\n",
       "      <td>ACTOR</td>\n",
       "      <td>Lava Ka Dhaava</td>\n",
       "      <td>SHOW</td>\n",
       "      <td>2021</td>\n",
       "      <td>['reality']</td>\n",
       "      <td>6.1</td>\n",
       "      <td>42.0</td>\n",
       "      <td>high</td>\n",
       "    </tr>\n",
       "    <tr>\n",
       "      <th>85410</th>\n",
       "      <td>Zez?? di Camargo</td>\n",
       "      <td>unknown</td>\n",
       "      <td>ACTOR</td>\n",
       "      <td>The Family That Sings Together: The Camargos</td>\n",
       "      <td>SHOW</td>\n",
       "      <td>2021</td>\n",
       "      <td>['documentation', 'music', 'reality']</td>\n",
       "      <td>5.3</td>\n",
       "      <td>45.0</td>\n",
       "      <td>medium</td>\n",
       "    </tr>\n",
       "    <tr>\n",
       "      <th>85411</th>\n",
       "      <td>Wanessa Camargo</td>\n",
       "      <td>unknown</td>\n",
       "      <td>ACTOR</td>\n",
       "      <td>The Family That Sings Together: The Camargos</td>\n",
       "      <td>SHOW</td>\n",
       "      <td>2021</td>\n",
       "      <td>['documentation', 'music', 'reality']</td>\n",
       "      <td>5.3</td>\n",
       "      <td>45.0</td>\n",
       "      <td>medium</td>\n",
       "    </tr>\n",
       "    <tr>\n",
       "      <th>85429</th>\n",
       "      <td>Pranapong Khaisang</td>\n",
       "      <td>Tod</td>\n",
       "      <td>ACTOR</td>\n",
       "      <td>Let's Eat</td>\n",
       "      <td>SHOW</td>\n",
       "      <td>2021</td>\n",
       "      <td>['drama', 'comedy']</td>\n",
       "      <td>8.2</td>\n",
       "      <td>5.0</td>\n",
       "      <td>high</td>\n",
       "    </tr>\n",
       "    <tr>\n",
       "      <th>85430</th>\n",
       "      <td>Apinya Sakuljaroensuk</td>\n",
       "      <td>Saiparn</td>\n",
       "      <td>ACTOR</td>\n",
       "      <td>Let's Eat</td>\n",
       "      <td>SHOW</td>\n",
       "      <td>2021</td>\n",
       "      <td>['drama', 'comedy']</td>\n",
       "      <td>8.2</td>\n",
       "      <td>5.0</td>\n",
       "      <td>high</td>\n",
       "    </tr>\n",
       "    <tr>\n",
       "      <th>85431</th>\n",
       "      <td>Mawin Taweepol</td>\n",
       "      <td>Win</td>\n",
       "      <td>ACTOR</td>\n",
       "      <td>Let's Eat</td>\n",
       "      <td>SHOW</td>\n",
       "      <td>2021</td>\n",
       "      <td>['drama', 'comedy']</td>\n",
       "      <td>8.2</td>\n",
       "      <td>5.0</td>\n",
       "      <td>high</td>\n",
       "    </tr>\n",
       "    <tr>\n",
       "      <th>85432</th>\n",
       "      <td>Nat Sakdatorn</td>\n",
       "      <td>unknown</td>\n",
       "      <td>ACTOR</td>\n",
       "      <td>Let's Eat</td>\n",
       "      <td>SHOW</td>\n",
       "      <td>2021</td>\n",
       "      <td>['drama', 'comedy']</td>\n",
       "      <td>8.2</td>\n",
       "      <td>5.0</td>\n",
       "      <td>high</td>\n",
       "    </tr>\n",
       "    <tr>\n",
       "      <th>85433</th>\n",
       "      <td>Maneerat Kam-Uan</td>\n",
       "      <td>Ae</td>\n",
       "      <td>ACTOR</td>\n",
       "      <td>Let's Eat</td>\n",
       "      <td>SHOW</td>\n",
       "      <td>2021</td>\n",
       "      <td>['drama', 'comedy']</td>\n",
       "      <td>8.2</td>\n",
       "      <td>5.0</td>\n",
       "      <td>high</td>\n",
       "    </tr>\n",
       "    <tr>\n",
       "      <th>85434</th>\n",
       "      <td>Rudklao Amratisha</td>\n",
       "      <td>unknown</td>\n",
       "      <td>ACTOR</td>\n",
       "      <td>Let's Eat</td>\n",
       "      <td>SHOW</td>\n",
       "      <td>2021</td>\n",
       "      <td>['drama', 'comedy']</td>\n",
       "      <td>8.2</td>\n",
       "      <td>5.0</td>\n",
       "      <td>high</td>\n",
       "    </tr>\n",
       "    <tr>\n",
       "      <th>85435</th>\n",
       "      <td>Jaturong Mokjok</td>\n",
       "      <td>unknown</td>\n",
       "      <td>ACTOR</td>\n",
       "      <td>Let's Eat</td>\n",
       "      <td>SHOW</td>\n",
       "      <td>2021</td>\n",
       "      <td>['drama', 'comedy']</td>\n",
       "      <td>8.2</td>\n",
       "      <td>5.0</td>\n",
       "      <td>high</td>\n",
       "    </tr>\n",
       "    <tr>\n",
       "      <th>85436</th>\n",
       "      <td>Pisamai Wilaisak</td>\n",
       "      <td>unknown</td>\n",
       "      <td>ACTOR</td>\n",
       "      <td>Let's Eat</td>\n",
       "      <td>SHOW</td>\n",
       "      <td>2021</td>\n",
       "      <td>['drama', 'comedy']</td>\n",
       "      <td>8.2</td>\n",
       "      <td>5.0</td>\n",
       "      <td>high</td>\n",
       "    </tr>\n",
       "    <tr>\n",
       "      <th>85437</th>\n",
       "      <td>Sarawut Wichiensarn</td>\n",
       "      <td>unknown</td>\n",
       "      <td>DIRECTOR</td>\n",
       "      <td>Let's Eat</td>\n",
       "      <td>SHOW</td>\n",
       "      <td>2021</td>\n",
       "      <td>['drama', 'comedy']</td>\n",
       "      <td>8.2</td>\n",
       "      <td>5.0</td>\n",
       "      <td>high</td>\n",
       "    </tr>\n",
       "  </tbody>\n",
       "</table>\n",
       "</div>"
      ],
      "text/plain": [
       "                        name       character      role  \\\n",
       "77653         Mawin Taweepol             Win     ACTOR   \n",
       "77654          Nat Sakdatorn         unknown     ACTOR   \n",
       "77655       Maneerat Kam-Uan              Ae     ACTOR   \n",
       "77656      Rudklao Amratisha         unknown     ACTOR   \n",
       "77657        Jaturong Mokjok         unknown     ACTOR   \n",
       "77658       Pisamai Wilaisak         unknown     ACTOR   \n",
       "77659    Sarawut Wichiensarn         unknown  DIRECTOR   \n",
       "83911        Heather Hemmens         unknown     ACTOR   \n",
       "84679           Artur Pontek   Kayko (voice)     ACTOR   \n",
       "84680          Micha? Piela  Kokosh (voice)     ACTOR   \n",
       "84681         Maciej Kosmala  Milus ( voice)     ACTOR   \n",
       "84824            Abla Fahita         unknown     ACTOR   \n",
       "84825                   Caro         unknown     ACTOR   \n",
       "84826           Bassem Samra           Ameen     ACTOR   \n",
       "84827            Donia Maher         unknown     ACTOR   \n",
       "84828          Rehab Hussein         unknown     ACTOR   \n",
       "84829              Mnaa Adel         unknown     ACTOR   \n",
       "84830          Bossy Shalaby         unknown     ACTOR   \n",
       "84831          Zeina Mansour         unknown     ACTOR   \n",
       "84832         Osama Abdullah         unknown     ACTOR   \n",
       "84833     Ahmed Saad (Mesho)         unknown     ACTOR   \n",
       "84834            Fekri Salim         unknown     ACTOR   \n",
       "84912        M??nica Naranjo     Self - Host     ACTOR   \n",
       "85068          Robby Collins         unknown     ACTOR   \n",
       "85314        Shubham Agarwal            Self     ACTOR   \n",
       "85315        Lokesh Deshmukh            Self     ACTOR   \n",
       "85316          Mukul Sankule            Self     ACTOR   \n",
       "85317        Kartikeya Singh            Self     ACTOR   \n",
       "85318        Adarsh Upadhyay            Self     ACTOR   \n",
       "85319           Kevin Banker            Self     ACTOR   \n",
       "85320      Gokul J. Krishnan            Self     ACTOR   \n",
       "85321      Pradeep S. Gautam            Self     ACTOR   \n",
       "85322      Biswa Kalyan Rath            Self     ACTOR   \n",
       "85323           Poonam Gupta            Self     ACTOR   \n",
       "85324         Spandana Silla            Self     ACTOR   \n",
       "85325           Pratik Patra         unknown  DIRECTOR   \n",
       "85326           Prashant Raj         unknown  DIRECTOR   \n",
       "85398          Javed Jaffrey         unknown     ACTOR   \n",
       "85399          Rutledge Wood         unknown     ACTOR   \n",
       "85410       Zez?? di Camargo         unknown     ACTOR   \n",
       "85411        Wanessa Camargo         unknown     ACTOR   \n",
       "85429     Pranapong Khaisang             Tod     ACTOR   \n",
       "85430  Apinya Sakuljaroensuk         Saiparn     ACTOR   \n",
       "85431         Mawin Taweepol             Win     ACTOR   \n",
       "85432          Nat Sakdatorn         unknown     ACTOR   \n",
       "85433       Maneerat Kam-Uan              Ae     ACTOR   \n",
       "85434      Rudklao Amratisha         unknown     ACTOR   \n",
       "85435        Jaturong Mokjok         unknown     ACTOR   \n",
       "85436       Pisamai Wilaisak         unknown     ACTOR   \n",
       "85437    Sarawut Wichiensarn         unknown  DIRECTOR   \n",
       "\n",
       "                                              title  type  release_year  \\\n",
       "77653                                     Let's Eat  SHOW          2021   \n",
       "77654                                     Let's Eat  SHOW          2021   \n",
       "77655                                     Let's Eat  SHOW          2021   \n",
       "77656                                     Let's Eat  SHOW          2021   \n",
       "77657                                     Let's Eat  SHOW          2021   \n",
       "77658                                     Let's Eat  SHOW          2021   \n",
       "77659                                     Let's Eat  SHOW          2021   \n",
       "83911                     Dad Stop Embarrassing Me!  SHOW          2021   \n",
       "84679                              Kayko and Kokosh  SHOW          2021   \n",
       "84680                              Kayko and Kokosh  SHOW          2021   \n",
       "84681                              Kayko and Kokosh  SHOW          2021   \n",
       "84824                      Abla Fahita: Drama Queen  SHOW          2021   \n",
       "84825                      Abla Fahita: Drama Queen  SHOW          2021   \n",
       "84826                      Abla Fahita: Drama Queen  SHOW          2021   \n",
       "84827                      Abla Fahita: Drama Queen  SHOW          2021   \n",
       "84828                      Abla Fahita: Drama Queen  SHOW          2021   \n",
       "84829                      Abla Fahita: Drama Queen  SHOW          2021   \n",
       "84830                      Abla Fahita: Drama Queen  SHOW          2021   \n",
       "84831                      Abla Fahita: Drama Queen  SHOW          2021   \n",
       "84832                      Abla Fahita: Drama Queen  SHOW          2021   \n",
       "84833                      Abla Fahita: Drama Queen  SHOW          2021   \n",
       "84834                      Abla Fahita: Drama Queen  SHOW          2021   \n",
       "84912                               Love Never Lies  SHOW          2021   \n",
       "85068                            Only Jokes Allowed  SHOW          2022   \n",
       "85314            Alma Matters: Inside the IIT Dream  SHOW          2021   \n",
       "85315            Alma Matters: Inside the IIT Dream  SHOW          2021   \n",
       "85316            Alma Matters: Inside the IIT Dream  SHOW          2021   \n",
       "85317            Alma Matters: Inside the IIT Dream  SHOW          2021   \n",
       "85318            Alma Matters: Inside the IIT Dream  SHOW          2021   \n",
       "85319            Alma Matters: Inside the IIT Dream  SHOW          2021   \n",
       "85320            Alma Matters: Inside the IIT Dream  SHOW          2021   \n",
       "85321            Alma Matters: Inside the IIT Dream  SHOW          2021   \n",
       "85322            Alma Matters: Inside the IIT Dream  SHOW          2021   \n",
       "85323            Alma Matters: Inside the IIT Dream  SHOW          2021   \n",
       "85324            Alma Matters: Inside the IIT Dream  SHOW          2021   \n",
       "85325            Alma Matters: Inside the IIT Dream  SHOW          2021   \n",
       "85326            Alma Matters: Inside the IIT Dream  SHOW          2021   \n",
       "85398                                Lava Ka Dhaava  SHOW          2021   \n",
       "85399                                Lava Ka Dhaava  SHOW          2021   \n",
       "85410  The Family That Sings Together: The Camargos  SHOW          2021   \n",
       "85411  The Family That Sings Together: The Camargos  SHOW          2021   \n",
       "85429                                     Let's Eat  SHOW          2021   \n",
       "85430                                     Let's Eat  SHOW          2021   \n",
       "85431                                     Let's Eat  SHOW          2021   \n",
       "85432                                     Let's Eat  SHOW          2021   \n",
       "85433                                     Let's Eat  SHOW          2021   \n",
       "85434                                     Let's Eat  SHOW          2021   \n",
       "85435                                     Let's Eat  SHOW          2021   \n",
       "85436                                     Let's Eat  SHOW          2021   \n",
       "85437                                     Let's Eat  SHOW          2021   \n",
       "\n",
       "                                             genres  imdb_score  imdb_votes  \\\n",
       "77653                           ['drama', 'comedy']         8.2         5.0   \n",
       "77654                           ['drama', 'comedy']         8.2         5.0   \n",
       "77655                           ['drama', 'comedy']         8.2         5.0   \n",
       "77656                           ['drama', 'comedy']         8.2         5.0   \n",
       "77657                           ['drama', 'comedy']         8.2         5.0   \n",
       "77658                           ['drama', 'comedy']         8.2         5.0   \n",
       "77659                           ['drama', 'comedy']         8.2         5.0   \n",
       "83911                          ['comedy', 'family']         4.1      1882.0   \n",
       "84679  ['animation', 'comedy', 'fantasy', 'action']         6.3       324.0   \n",
       "84680  ['animation', 'comedy', 'fantasy', 'action']         6.3       324.0   \n",
       "84681  ['animation', 'comedy', 'fantasy', 'action']         6.3       324.0   \n",
       "84824                  ['drama', 'comedy', 'crime']         6.5       446.0   \n",
       "84825                  ['drama', 'comedy', 'crime']         6.5       446.0   \n",
       "84826                  ['drama', 'comedy', 'crime']         6.5       446.0   \n",
       "84827                  ['drama', 'comedy', 'crime']         6.5       446.0   \n",
       "84828                  ['drama', 'comedy', 'crime']         6.5       446.0   \n",
       "84829                  ['drama', 'comedy', 'crime']         6.5       446.0   \n",
       "84830                  ['drama', 'comedy', 'crime']         6.5       446.0   \n",
       "84831                  ['drama', 'comedy', 'crime']         6.5       446.0   \n",
       "84832                  ['drama', 'comedy', 'crime']         6.5       446.0   \n",
       "84833                  ['drama', 'comedy', 'crime']         6.5       446.0   \n",
       "84834                  ['drama', 'comedy', 'crime']         6.5       446.0   \n",
       "84912                                   ['reality']         5.6       250.0   \n",
       "85068                                    ['comedy']         4.9        45.0   \n",
       "85314                    ['documentation', 'drama']         8.3      2346.0   \n",
       "85315                    ['documentation', 'drama']         8.3      2346.0   \n",
       "85316                    ['documentation', 'drama']         8.3      2346.0   \n",
       "85317                    ['documentation', 'drama']         8.3      2346.0   \n",
       "85318                    ['documentation', 'drama']         8.3      2346.0   \n",
       "85319                    ['documentation', 'drama']         8.3      2346.0   \n",
       "85320                    ['documentation', 'drama']         8.3      2346.0   \n",
       "85321                    ['documentation', 'drama']         8.3      2346.0   \n",
       "85322                    ['documentation', 'drama']         8.3      2346.0   \n",
       "85323                    ['documentation', 'drama']         8.3      2346.0   \n",
       "85324                    ['documentation', 'drama']         8.3      2346.0   \n",
       "85325                    ['documentation', 'drama']         8.3      2346.0   \n",
       "85326                    ['documentation', 'drama']         8.3      2346.0   \n",
       "85398                                   ['reality']         6.1        42.0   \n",
       "85399                                   ['reality']         6.1        42.0   \n",
       "85410         ['documentation', 'music', 'reality']         5.3        45.0   \n",
       "85411         ['documentation', 'music', 'reality']         5.3        45.0   \n",
       "85429                           ['drama', 'comedy']         8.2         5.0   \n",
       "85430                           ['drama', 'comedy']         8.2         5.0   \n",
       "85431                           ['drama', 'comedy']         8.2         5.0   \n",
       "85432                           ['drama', 'comedy']         8.2         5.0   \n",
       "85433                           ['drama', 'comedy']         8.2         5.0   \n",
       "85434                           ['drama', 'comedy']         8.2         5.0   \n",
       "85435                           ['drama', 'comedy']         8.2         5.0   \n",
       "85436                           ['drama', 'comedy']         8.2         5.0   \n",
       "85437                           ['drama', 'comedy']         8.2         5.0   \n",
       "\n",
       "      imdb_rating  \n",
       "77653        high  \n",
       "77654        high  \n",
       "77655        high  \n",
       "77656        high  \n",
       "77657        high  \n",
       "77658        high  \n",
       "77659        high  \n",
       "83911      medium  \n",
       "84679        high  \n",
       "84680        high  \n",
       "84681        high  \n",
       "84824        high  \n",
       "84825        high  \n",
       "84826        high  \n",
       "84827        high  \n",
       "84828        high  \n",
       "84829        high  \n",
       "84830        high  \n",
       "84831        high  \n",
       "84832        high  \n",
       "84833        high  \n",
       "84834        high  \n",
       "84912      medium  \n",
       "85068      medium  \n",
       "85314        high  \n",
       "85315        high  \n",
       "85316        high  \n",
       "85317        high  \n",
       "85318        high  \n",
       "85319        high  \n",
       "85320        high  \n",
       "85321        high  \n",
       "85322        high  \n",
       "85323        high  \n",
       "85324        high  \n",
       "85325        high  \n",
       "85326        high  \n",
       "85398        high  \n",
       "85399        high  \n",
       "85410      medium  \n",
       "85411      medium  \n",
       "85429        high  \n",
       "85430        high  \n",
       "85431        high  \n",
       "85432        high  \n",
       "85433        high  \n",
       "85434        high  \n",
       "85435        high  \n",
       "85436        high  \n",
       "85437        high  "
      ]
     },
     "metadata": {},
     "output_type": "display_data"
    }
   ],
   "source": [
    "# repeat conditional indexing so df has only shows (movies are removed as result)\n",
    "df = df_SHOW_newerThan1999[df_SHOW_newerThan1999['type'] == 'SHOW']\n",
    "display(df.tail(50))\n"
   ]
  },
  {
   "cell_type": "markdown",
   "id": "9648040c",
   "metadata": {},
   "source": [
    "The scores that are to be grouped should be rounded. For instance, titles with scores like 7.8, 8.1, and 8.3 will all be placed in the same bucket with a score of 8."
   ]
  },
  {
   "cell_type": "code",
   "execution_count": 127,
   "id": "54bbd5c0",
   "metadata": {},
   "outputs": [
    {
     "name": "stdout",
     "output_type": "stream",
     "text": [
      "1664    7.0\n",
      "2076    9.0\n",
      "2077    9.0\n",
      "2078    9.0\n",
      "2079    9.0\n",
      "       ... \n",
      "4620    8.0\n",
      "4621    8.0\n",
      "4622    8.0\n",
      "4623    8.0\n",
      "4624    8.0\n",
      "Name: imdb_score, Length: 100, dtype: float64\n"
     ]
    }
   ],
   "source": [
    "# rounding column with scores\n",
    "df['imdb_score'] = df['imdb_score'].round(0)\n",
    "\n",
    "#checking the outcome with tail()\n",
    "print(df['imdb_score'].head(100))"
   ]
  },
  {
   "cell_type": "markdown",
   "id": "36dbd00a",
   "metadata": {},
   "source": [
    "It is now time to identify outliers based on the number of votes."
   ]
  },
  {
   "cell_type": "code",
   "execution_count": 129,
   "id": "b8b55e95",
   "metadata": {},
   "outputs": [
    {
     "name": "stdout",
     "output_type": "stream",
     "text": [
      "imdb_score\n",
      "2.0       24\n",
      "3.0       27\n",
      "4.0      180\n",
      "5.0      592\n",
      "6.0     2494\n",
      "7.0     4706\n",
      "8.0     4842\n",
      "9.0      557\n",
      "10.0       8\n",
      "Name: imdb_score, dtype: int64\n"
     ]
    }
   ],
   "source": [
    "# Use groupby() for scores and count all unique values in each group, print the result\n",
    "unique_vote_counts = df.groupby('imdb_score')['imdb_score'].count()\n",
    "#df.value_counts('imdb_score')\n",
    "print(unique_vote_counts)"
   ]
  },
  {
   "cell_type": "markdown",
   "id": "1ba6daae",
   "metadata": {},
   "source": [
    "Based on the aggregation performed, it is evident that scores 2 (24 voted shows), 3 (27 voted shows), and 10 (only 8 voted shows) are outliers. There isn't enough data for these scores for the average number of votes to be meaningful."
   ]
  },
  {
   "cell_type": "markdown",
   "id": "bd468c46",
   "metadata": {},
   "source": [
    "To obtain the mean numbers of votes for the selected scores (we identified a range of 4-9 as acceptable), use conditional filtering and grouping."
   ]
  },
  {
   "cell_type": "code",
   "execution_count": 132,
   "id": "d1867e0e",
   "metadata": {},
   "outputs": [
    {
     "name": "stdout",
     "output_type": "stream",
     "text": [
      "Avg votes: \n",
      "   imdb_score     imdb_votes\n",
      "0         4.0    5277.583333\n",
      "1         5.0    3143.942568\n",
      "2         6.0    3481.717322\n",
      "3         7.0    8727.068211\n",
      "4         8.0   30299.460967\n",
      "5         9.0  126904.109515\n"
     ]
    }
   ],
   "source": [
    "# filter dataframe using two conditions (scores to be in the range 4-9)\n",
    "filtered_df = df[(df['imdb_score'] >= 4) & (df['imdb_score'] <= 9)]\n",
    "# group scores and corresponding average number of votes, reset index and print the result\n",
    "avg_votes = filtered_df.groupby('imdb_score')['imdb_votes'].mean().reset_index()\n",
    "\n",
    "print(\"Avg votes: \")\n",
    "print(avg_votes)"
   ]
  },
  {
   "cell_type": "markdown",
   "id": "96a66d14",
   "metadata": {},
   "source": [
    "Now for the final step! Round the column with the averages, rename both columns, and print the dataframe in descending order."
   ]
  },
  {
   "cell_type": "code",
   "execution_count": 134,
   "id": "5999051b",
   "metadata": {},
   "outputs": [
    {
     "name": "stdout",
     "output_type": "stream",
     "text": [
      "   imdb_score  imdb_votes\n",
      "0         4.0     5277.58\n",
      "1         5.0     3143.94\n",
      "2         6.0     3481.72\n",
      "3         7.0     8727.07\n",
      "4         8.0    30299.46\n",
      "5         9.0   126904.11\n",
      "\n",
      "\n"
     ]
    },
    {
     "data": {
      "text/html": [
       "<div>\n",
       "<style scoped>\n",
       "    .dataframe tbody tr th:only-of-type {\n",
       "        vertical-align: middle;\n",
       "    }\n",
       "\n",
       "    .dataframe tbody tr th {\n",
       "        vertical-align: top;\n",
       "    }\n",
       "\n",
       "    .dataframe thead th {\n",
       "        text-align: right;\n",
       "    }\n",
       "</style>\n",
       "<table border=\"1\" class=\"dataframe\">\n",
       "  <thead>\n",
       "    <tr style=\"text-align: right;\">\n",
       "      <th></th>\n",
       "      <th>name</th>\n",
       "      <th>character</th>\n",
       "      <th>role</th>\n",
       "      <th>title</th>\n",
       "      <th>type</th>\n",
       "      <th>release_year</th>\n",
       "      <th>genres</th>\n",
       "      <th>score</th>\n",
       "      <th>votes</th>\n",
       "      <th>imdb_rating</th>\n",
       "    </tr>\n",
       "  </thead>\n",
       "  <tbody>\n",
       "    <tr>\n",
       "      <th>4456</th>\n",
       "      <td>Bryan Cranston</td>\n",
       "      <td>Walter White</td>\n",
       "      <td>ACTOR</td>\n",
       "      <td>Breaking Bad</td>\n",
       "      <td>SHOW</td>\n",
       "      <td>2008</td>\n",
       "      <td>['drama', 'crime', 'thriller']</td>\n",
       "      <td>10.0</td>\n",
       "      <td>1775990.0</td>\n",
       "      <td>high</td>\n",
       "    </tr>\n",
       "    <tr>\n",
       "      <th>4457</th>\n",
       "      <td>Aaron Paul</td>\n",
       "      <td>Jesse Pinkman</td>\n",
       "      <td>ACTOR</td>\n",
       "      <td>Breaking Bad</td>\n",
       "      <td>SHOW</td>\n",
       "      <td>2008</td>\n",
       "      <td>['drama', 'crime', 'thriller']</td>\n",
       "      <td>10.0</td>\n",
       "      <td>1775990.0</td>\n",
       "      <td>high</td>\n",
       "    </tr>\n",
       "    <tr>\n",
       "      <th>4458</th>\n",
       "      <td>Anna Gunn</td>\n",
       "      <td>Skyler White</td>\n",
       "      <td>ACTOR</td>\n",
       "      <td>Breaking Bad</td>\n",
       "      <td>SHOW</td>\n",
       "      <td>2008</td>\n",
       "      <td>['drama', 'crime', 'thriller']</td>\n",
       "      <td>10.0</td>\n",
       "      <td>1775990.0</td>\n",
       "      <td>high</td>\n",
       "    </tr>\n",
       "    <tr>\n",
       "      <th>4459</th>\n",
       "      <td>Dean Norris</td>\n",
       "      <td>Hank Schrader</td>\n",
       "      <td>ACTOR</td>\n",
       "      <td>Breaking Bad</td>\n",
       "      <td>SHOW</td>\n",
       "      <td>2008</td>\n",
       "      <td>['drama', 'crime', 'thriller']</td>\n",
       "      <td>10.0</td>\n",
       "      <td>1775990.0</td>\n",
       "      <td>high</td>\n",
       "    </tr>\n",
       "    <tr>\n",
       "      <th>4460</th>\n",
       "      <td>Jonathan Banks</td>\n",
       "      <td>Mike Ehrmantraut</td>\n",
       "      <td>ACTOR</td>\n",
       "      <td>Breaking Bad</td>\n",
       "      <td>SHOW</td>\n",
       "      <td>2008</td>\n",
       "      <td>['drama', 'crime', 'thriller']</td>\n",
       "      <td>10.0</td>\n",
       "      <td>1775990.0</td>\n",
       "      <td>high</td>\n",
       "    </tr>\n",
       "    <tr>\n",
       "      <th>...</th>\n",
       "      <td>...</td>\n",
       "      <td>...</td>\n",
       "      <td>...</td>\n",
       "      <td>...</td>\n",
       "      <td>...</td>\n",
       "      <td>...</td>\n",
       "      <td>...</td>\n",
       "      <td>...</td>\n",
       "      <td>...</td>\n",
       "      <td>...</td>\n",
       "    </tr>\n",
       "    <tr>\n",
       "      <th>72745</th>\n",
       "      <td>Nikita Dragun</td>\n",
       "      <td>Nikita Dragun</td>\n",
       "      <td>ACTOR</td>\n",
       "      <td>Hype House</td>\n",
       "      <td>SHOW</td>\n",
       "      <td>2022</td>\n",
       "      <td>['reality']</td>\n",
       "      <td>2.0</td>\n",
       "      <td>2915.0</td>\n",
       "      <td>low</td>\n",
       "    </tr>\n",
       "    <tr>\n",
       "      <th>72744</th>\n",
       "      <td>Chase Hudson</td>\n",
       "      <td>Lil Huddy</td>\n",
       "      <td>ACTOR</td>\n",
       "      <td>Hype House</td>\n",
       "      <td>SHOW</td>\n",
       "      <td>2022</td>\n",
       "      <td>['reality']</td>\n",
       "      <td>2.0</td>\n",
       "      <td>2915.0</td>\n",
       "      <td>low</td>\n",
       "    </tr>\n",
       "    <tr>\n",
       "      <th>72740</th>\n",
       "      <td>Thomas Petrou</td>\n",
       "      <td>Thomas Petrou</td>\n",
       "      <td>ACTOR</td>\n",
       "      <td>Hype House</td>\n",
       "      <td>SHOW</td>\n",
       "      <td>2022</td>\n",
       "      <td>['reality']</td>\n",
       "      <td>2.0</td>\n",
       "      <td>2915.0</td>\n",
       "      <td>low</td>\n",
       "    </tr>\n",
       "    <tr>\n",
       "      <th>72741</th>\n",
       "      <td>Larray</td>\n",
       "      <td>Larray</td>\n",
       "      <td>ACTOR</td>\n",
       "      <td>Hype House</td>\n",
       "      <td>SHOW</td>\n",
       "      <td>2022</td>\n",
       "      <td>['reality']</td>\n",
       "      <td>2.0</td>\n",
       "      <td>2915.0</td>\n",
       "      <td>low</td>\n",
       "    </tr>\n",
       "    <tr>\n",
       "      <th>42330</th>\n",
       "      <td>Phoebe Lin</td>\n",
       "      <td>Wu Yi-Chuan</td>\n",
       "      <td>ACTOR</td>\n",
       "      <td>A House of Blocks</td>\n",
       "      <td>SHOW</td>\n",
       "      <td>2017</td>\n",
       "      <td>['drama', 'horror']</td>\n",
       "      <td>2.0</td>\n",
       "      <td>137.0</td>\n",
       "      <td>low</td>\n",
       "    </tr>\n",
       "  </tbody>\n",
       "</table>\n",
       "<p>13430 rows × 10 columns</p>\n",
       "</div>"
      ],
      "text/plain": [
       "                 name         character   role              title  type  \\\n",
       "4456   Bryan Cranston      Walter White  ACTOR       Breaking Bad  SHOW   \n",
       "4457       Aaron Paul     Jesse Pinkman  ACTOR       Breaking Bad  SHOW   \n",
       "4458        Anna Gunn      Skyler White  ACTOR       Breaking Bad  SHOW   \n",
       "4459      Dean Norris     Hank Schrader  ACTOR       Breaking Bad  SHOW   \n",
       "4460   Jonathan Banks  Mike Ehrmantraut  ACTOR       Breaking Bad  SHOW   \n",
       "...               ...               ...    ...                ...   ...   \n",
       "72745   Nikita Dragun     Nikita Dragun  ACTOR         Hype House  SHOW   \n",
       "72744    Chase Hudson         Lil Huddy  ACTOR         Hype House  SHOW   \n",
       "72740   Thomas Petrou     Thomas Petrou  ACTOR         Hype House  SHOW   \n",
       "72741          Larray            Larray  ACTOR         Hype House  SHOW   \n",
       "42330      Phoebe Lin       Wu Yi-Chuan  ACTOR  A House of Blocks  SHOW   \n",
       "\n",
       "       release_year                          genres  score      votes  \\\n",
       "4456           2008  ['drama', 'crime', 'thriller']   10.0  1775990.0   \n",
       "4457           2008  ['drama', 'crime', 'thriller']   10.0  1775990.0   \n",
       "4458           2008  ['drama', 'crime', 'thriller']   10.0  1775990.0   \n",
       "4459           2008  ['drama', 'crime', 'thriller']   10.0  1775990.0   \n",
       "4460           2008  ['drama', 'crime', 'thriller']   10.0  1775990.0   \n",
       "...             ...                             ...    ...        ...   \n",
       "72745          2022                     ['reality']    2.0     2915.0   \n",
       "72744          2022                     ['reality']    2.0     2915.0   \n",
       "72740          2022                     ['reality']    2.0     2915.0   \n",
       "72741          2022                     ['reality']    2.0     2915.0   \n",
       "42330          2017             ['drama', 'horror']    2.0      137.0   \n",
       "\n",
       "      imdb_rating  \n",
       "4456         high  \n",
       "4457         high  \n",
       "4458         high  \n",
       "4459         high  \n",
       "4460         high  \n",
       "...           ...  \n",
       "72745         low  \n",
       "72744         low  \n",
       "72740         low  \n",
       "72741         low  \n",
       "42330         low  \n",
       "\n",
       "[13430 rows x 10 columns]"
      ]
     },
     "metadata": {},
     "output_type": "display_data"
    }
   ],
   "source": [
    "# round column with averages\n",
    "print(round(avg_votes, 2))\n",
    "print('\\n')\n",
    "\n",
    "# rename columns\n",
    "df = df.rename(columns={\n",
    "    'imdb_score':'score',\n",
    "    'imdb_votes': 'votes'\n",
    "    })\n",
    "\n",
    "# print dataframe in descending order\n",
    "display(df.sort_values(by='score', ascending=False))"
   ]
  },
  {
   "cell_type": "markdown",
   "id": "af07386d",
   "metadata": {},
   "source": [
    "The assumption macthes the analysis: the shows with the top 3 scores have the most amounts of votes."
   ]
  },
  {
   "cell_type": "markdown",
   "id": "84e29a37",
   "metadata": {},
   "source": [
    "## Conclusion <a id='hypotheses'></a>"
   ]
  },
  {
   "cell_type": "markdown",
   "id": "984766a3",
   "metadata": {},
   "source": [
    "The research done confirms that highly-rated shows released during the \"Golden Age\" of television also have the most votes. While shows with score 4 have more votes than ones with scores 5 and 6, the top three (scores 7-9) have the largest number. The data studied represents around 94% of the original set, so we can be confident in our findings."
   ]
  }
 ],
 "metadata": {
  "ExecuteTimeLog": [
   {
    "duration": 485,
    "start_time": "2024-06-07T20:20:33.404Z"
   },
   {
    "duration": 405,
    "start_time": "2024-06-07T20:20:52.455Z"
   },
   {
    "duration": 21,
    "start_time": "2024-06-07T20:21:12.285Z"
   },
   {
    "duration": 261,
    "start_time": "2024-06-07T20:22:31.969Z"
   },
   {
    "duration": 13,
    "start_time": "2024-06-07T20:22:47.617Z"
   },
   {
    "duration": 35,
    "start_time": "2024-06-07T20:23:10.615Z"
   },
   {
    "duration": 23,
    "start_time": "2024-06-07T20:25:12.245Z"
   },
   {
    "duration": 9,
    "start_time": "2024-06-07T20:25:16.284Z"
   },
   {
    "duration": 21,
    "start_time": "2024-06-07T20:25:59.727Z"
   },
   {
    "duration": 21,
    "start_time": "2024-06-07T20:26:06.061Z"
   },
   {
    "duration": 23,
    "start_time": "2024-06-07T20:26:11.154Z"
   },
   {
    "duration": 22,
    "start_time": "2024-06-07T20:30:09.811Z"
   },
   {
    "duration": 7,
    "start_time": "2024-06-07T20:31:42.403Z"
   },
   {
    "duration": 21,
    "start_time": "2024-06-07T20:34:53.250Z"
   },
   {
    "duration": 3,
    "start_time": "2024-06-07T20:35:20.466Z"
   },
   {
    "duration": 204,
    "start_time": "2024-06-07T20:35:21.743Z"
   },
   {
    "duration": 10,
    "start_time": "2024-06-07T20:35:23.168Z"
   },
   {
    "duration": 42,
    "start_time": "2024-06-07T20:35:24.655Z"
   },
   {
    "duration": 9,
    "start_time": "2024-06-07T20:35:28.068Z"
   },
   {
    "duration": 464,
    "start_time": "2024-06-07T22:13:03.432Z"
   },
   {
    "duration": 228,
    "start_time": "2024-06-07T22:13:04.442Z"
   },
   {
    "duration": 14,
    "start_time": "2024-06-07T22:13:05.812Z"
   },
   {
    "duration": 35,
    "start_time": "2024-06-07T22:13:10.866Z"
   },
   {
    "duration": 11,
    "start_time": "2024-06-07T22:13:19.681Z"
   },
   {
    "duration": 13,
    "start_time": "2024-06-07T22:13:32.445Z"
   },
   {
    "duration": 7,
    "start_time": "2024-06-07T22:14:06.830Z"
   },
   {
    "duration": 1758,
    "start_time": "2024-06-07T22:15:44.654Z"
   },
   {
    "duration": 86,
    "start_time": "2024-06-07T22:15:50.828Z"
   },
   {
    "duration": 14,
    "start_time": "2024-06-07T22:16:07.806Z"
   },
   {
    "duration": 8,
    "start_time": "2024-06-07T22:16:40.962Z"
   },
   {
    "duration": 7,
    "start_time": "2024-06-07T22:17:18.535Z"
   },
   {
    "duration": 16,
    "start_time": "2024-06-07T22:17:31.250Z"
   },
   {
    "duration": 6,
    "start_time": "2024-06-07T22:18:02.537Z"
   },
   {
    "duration": 5,
    "start_time": "2024-06-07T22:19:49.675Z"
   },
   {
    "duration": 6,
    "start_time": "2024-06-07T22:19:56.813Z"
   },
   {
    "duration": 13,
    "start_time": "2024-06-07T22:20:12.176Z"
   },
   {
    "duration": 14,
    "start_time": "2024-06-07T22:21:13.100Z"
   },
   {
    "duration": 15,
    "start_time": "2024-06-07T22:23:12.549Z"
   },
   {
    "duration": 15,
    "start_time": "2024-06-07T22:24:11.955Z"
   },
   {
    "duration": 14,
    "start_time": "2024-06-07T22:29:05.962Z"
   },
   {
    "duration": 7,
    "start_time": "2024-06-07T22:29:26.597Z"
   },
   {
    "duration": 43,
    "start_time": "2024-06-07T22:29:46.377Z"
   },
   {
    "duration": 14,
    "start_time": "2024-06-07T22:30:49.631Z"
   },
   {
    "duration": 39,
    "start_time": "2024-06-07T22:31:14.879Z"
   },
   {
    "duration": 23,
    "start_time": "2024-06-07T22:33:43.527Z"
   },
   {
    "duration": 29,
    "start_time": "2024-06-07T22:33:57.937Z"
   },
   {
    "duration": 28,
    "start_time": "2024-06-07T22:34:08.876Z"
   },
   {
    "duration": 29,
    "start_time": "2024-06-07T22:34:50.817Z"
   },
   {
    "duration": 5,
    "start_time": "2024-06-07T22:37:04.126Z"
   },
   {
    "duration": 27,
    "start_time": "2024-06-07T22:37:31.276Z"
   },
   {
    "duration": 37,
    "start_time": "2024-06-07T22:37:46.567Z"
   },
   {
    "duration": 22,
    "start_time": "2024-06-07T22:38:07.876Z"
   },
   {
    "duration": 80,
    "start_time": "2024-06-07T22:39:08.983Z"
   },
   {
    "duration": 16,
    "start_time": "2024-06-07T22:39:28.103Z"
   },
   {
    "duration": 11,
    "start_time": "2024-06-07T22:44:43.228Z"
   },
   {
    "duration": 95,
    "start_time": "2024-06-07T22:44:51.082Z"
   },
   {
    "duration": 192,
    "start_time": "2024-06-07T22:45:15.081Z"
   },
   {
    "duration": 4,
    "start_time": "2024-06-07T22:45:24.037Z"
   },
   {
    "duration": 219,
    "start_time": "2024-06-07T22:45:25.020Z"
   },
   {
    "duration": 10,
    "start_time": "2024-06-07T22:45:26.084Z"
   },
   {
    "duration": 35,
    "start_time": "2024-06-07T22:45:27.467Z"
   },
   {
    "duration": 6,
    "start_time": "2024-06-07T22:45:29.641Z"
   },
   {
    "duration": 15,
    "start_time": "2024-06-07T22:45:30.921Z"
   },
   {
    "duration": 6,
    "start_time": "2024-06-07T22:45:32.214Z"
   },
   {
    "duration": 28,
    "start_time": "2024-06-07T22:45:34.463Z"
   },
   {
    "duration": 41,
    "start_time": "2024-06-07T22:45:42.951Z"
   },
   {
    "duration": 31,
    "start_time": "2024-06-07T22:45:43.990Z"
   },
   {
    "duration": 83,
    "start_time": "2024-06-07T22:45:46.579Z"
   },
   {
    "duration": 202,
    "start_time": "2024-06-07T22:48:00.609Z"
   },
   {
    "duration": 18,
    "start_time": "2024-06-07T22:48:10.660Z"
   },
   {
    "duration": 71,
    "start_time": "2024-06-07T22:50:17.851Z"
   },
   {
    "duration": 73,
    "start_time": "2024-06-07T22:50:37.317Z"
   },
   {
    "duration": 119,
    "start_time": "2024-06-07T22:53:49.814Z"
   },
   {
    "duration": 103,
    "start_time": "2024-06-07T22:54:27.166Z"
   },
   {
    "duration": 78,
    "start_time": "2024-06-07T22:56:09.840Z"
   },
   {
    "duration": 73,
    "start_time": "2024-06-07T22:56:19.766Z"
   },
   {
    "duration": 129,
    "start_time": "2024-06-07T22:56:33.462Z"
   },
   {
    "duration": 80,
    "start_time": "2024-06-07T23:01:33.576Z"
   },
   {
    "duration": 69,
    "start_time": "2024-06-07T23:01:46.354Z"
   },
   {
    "duration": 333,
    "start_time": "2024-06-08T01:40:25.706Z"
   },
   {
    "duration": 446,
    "start_time": "2024-06-08T01:40:37.987Z"
   },
   {
    "duration": 247,
    "start_time": "2024-06-08T01:40:39.045Z"
   },
   {
    "duration": 13,
    "start_time": "2024-06-08T01:40:42.540Z"
   },
   {
    "duration": 49,
    "start_time": "2024-06-08T01:40:44.557Z"
   },
   {
    "duration": 12,
    "start_time": "2024-06-08T01:40:49.446Z"
   },
   {
    "duration": 16,
    "start_time": "2024-06-08T01:40:52.617Z"
   },
   {
    "duration": 8,
    "start_time": "2024-06-08T01:41:44.954Z"
   },
   {
    "duration": 30,
    "start_time": "2024-06-08T01:41:51.034Z"
   },
   {
    "duration": 28,
    "start_time": "2024-06-08T01:41:57.651Z"
   },
   {
    "duration": 31,
    "start_time": "2024-06-08T01:42:00.254Z"
   },
   {
    "duration": 82,
    "start_time": "2024-06-08T01:42:06.926Z"
   },
   {
    "duration": 106,
    "start_time": "2024-06-08T01:42:23.036Z"
   },
   {
    "duration": 106,
    "start_time": "2024-06-08T01:43:11.384Z"
   },
   {
    "duration": 68,
    "start_time": "2024-06-08T01:43:15.286Z"
   },
   {
    "duration": 61,
    "start_time": "2024-06-08T01:44:21.256Z"
   },
   {
    "duration": 9,
    "start_time": "2024-06-08T01:45:15.567Z"
   },
   {
    "duration": 25,
    "start_time": "2024-06-08T01:46:16.109Z"
   },
   {
    "duration": 23,
    "start_time": "2024-06-08T01:46:21.268Z"
   },
   {
    "duration": 11,
    "start_time": "2024-06-08T01:46:27.939Z"
   },
   {
    "duration": 19,
    "start_time": "2024-06-08T01:47:13.677Z"
   },
   {
    "duration": 21,
    "start_time": "2024-06-08T01:47:18.909Z"
   },
   {
    "duration": 23,
    "start_time": "2024-06-08T01:47:30.691Z"
   },
   {
    "duration": 25,
    "start_time": "2024-06-08T01:47:40.525Z"
   },
   {
    "duration": 10,
    "start_time": "2024-06-08T01:47:48.294Z"
   },
   {
    "duration": 5,
    "start_time": "2024-06-08T01:49:39.149Z"
   },
   {
    "duration": 6,
    "start_time": "2024-06-08T01:49:57.892Z"
   },
   {
    "duration": 5,
    "start_time": "2024-06-08T01:50:40.649Z"
   },
   {
    "duration": 5,
    "start_time": "2024-06-08T01:50:57.927Z"
   },
   {
    "duration": 11,
    "start_time": "2024-06-08T01:51:04.627Z"
   },
   {
    "duration": 11,
    "start_time": "2024-06-08T01:52:21.476Z"
   },
   {
    "duration": 19,
    "start_time": "2024-06-08T01:52:55.873Z"
   },
   {
    "duration": 12,
    "start_time": "2024-06-08T01:53:12.965Z"
   },
   {
    "duration": 68,
    "start_time": "2024-06-08T01:55:16.327Z"
   },
   {
    "duration": 10,
    "start_time": "2024-06-08T01:55:38.600Z"
   },
   {
    "duration": 53,
    "start_time": "2024-06-08T01:56:46.432Z"
   },
   {
    "duration": 67,
    "start_time": "2024-06-08T01:57:02.315Z"
   },
   {
    "duration": 53,
    "start_time": "2024-06-08T01:57:34.492Z"
   },
   {
    "duration": 11,
    "start_time": "2024-06-08T01:58:51.525Z"
   },
   {
    "duration": 4,
    "start_time": "2024-06-08T02:07:34.753Z"
   },
   {
    "duration": 32,
    "start_time": "2024-06-08T02:07:39.033Z"
   },
   {
    "duration": 5,
    "start_time": "2024-06-08T02:09:18.629Z"
   },
   {
    "duration": 9,
    "start_time": "2024-06-08T02:12:13.236Z"
   },
   {
    "duration": 39,
    "start_time": "2024-06-08T02:12:34.209Z"
   },
   {
    "duration": 9,
    "start_time": "2024-06-08T02:19:19.414Z"
   },
   {
    "duration": 5,
    "start_time": "2024-06-08T02:21:14.119Z"
   },
   {
    "duration": 20,
    "start_time": "2024-06-08T02:21:18.071Z"
   },
   {
    "duration": 9,
    "start_time": "2024-06-08T02:21:39.150Z"
   },
   {
    "duration": 7,
    "start_time": "2024-06-08T02:29:24.951Z"
   },
   {
    "duration": 7,
    "start_time": "2024-06-08T02:31:52.327Z"
   },
   {
    "duration": 7,
    "start_time": "2024-06-08T02:32:15.849Z"
   },
   {
    "duration": 8,
    "start_time": "2024-06-08T02:35:11.338Z"
   },
   {
    "duration": 5,
    "start_time": "2024-06-08T02:35:17.866Z"
   },
   {
    "duration": 18,
    "start_time": "2024-06-08T02:35:22.081Z"
   },
   {
    "duration": 10,
    "start_time": "2024-06-08T02:36:17.597Z"
   },
   {
    "duration": 3,
    "start_time": "2024-06-08T03:05:41.467Z"
   },
   {
    "duration": 15,
    "start_time": "2024-06-08T03:27:44.254Z"
   },
   {
    "duration": 94,
    "start_time": "2024-06-08T03:33:47.020Z"
   },
   {
    "duration": 482,
    "start_time": "2024-06-08T03:33:55.766Z"
   },
   {
    "duration": 15,
    "start_time": "2024-06-08T03:49:47.118Z"
   },
   {
    "duration": 14,
    "start_time": "2024-06-08T03:49:52.847Z"
   },
   {
    "duration": 21,
    "start_time": "2024-06-08T03:56:04.749Z"
   },
   {
    "duration": 31,
    "start_time": "2024-06-08T03:56:15.784Z"
   },
   {
    "duration": 20,
    "start_time": "2024-06-08T03:58:04.795Z"
   },
   {
    "duration": 13,
    "start_time": "2024-06-08T03:58:45.664Z"
   },
   {
    "duration": 14,
    "start_time": "2024-06-08T03:58:54.902Z"
   },
   {
    "duration": 15,
    "start_time": "2024-06-08T03:59:06.846Z"
   },
   {
    "duration": 15,
    "start_time": "2024-06-08T03:59:15.634Z"
   },
   {
    "duration": 28,
    "start_time": "2024-06-08T04:06:30.668Z"
   },
   {
    "duration": 17,
    "start_time": "2024-06-08T04:07:24.618Z"
   },
   {
    "duration": 571,
    "start_time": "2024-06-08T04:08:03.469Z"
   },
   {
    "duration": 98,
    "start_time": "2024-06-08T04:08:28.581Z"
   },
   {
    "duration": 18,
    "start_time": "2024-06-08T04:08:59.038Z"
   },
   {
    "duration": 19,
    "start_time": "2024-06-08T04:09:02.985Z"
   },
   {
    "duration": 16,
    "start_time": "2024-06-08T04:09:20.439Z"
   },
   {
    "duration": 16,
    "start_time": "2024-06-08T04:11:00.449Z"
   },
   {
    "duration": 11,
    "start_time": "2024-06-08T04:19:52.347Z"
   },
   {
    "duration": 12,
    "start_time": "2024-06-08T04:20:08.831Z"
   },
   {
    "duration": 13,
    "start_time": "2024-06-08T04:29:16.229Z"
   },
   {
    "duration": 12,
    "start_time": "2024-06-08T04:31:15.161Z"
   },
   {
    "duration": 232,
    "start_time": "2024-06-08T04:34:00.089Z"
   },
   {
    "duration": 7,
    "start_time": "2024-06-08T04:34:25.581Z"
   },
   {
    "duration": 75,
    "start_time": "2024-06-08T04:34:47.746Z"
   },
   {
    "duration": 3,
    "start_time": "2024-06-08T04:35:02.609Z"
   },
   {
    "duration": 198,
    "start_time": "2024-06-08T04:35:03.450Z"
   },
   {
    "duration": 10,
    "start_time": "2024-06-08T04:35:06.070Z"
   },
   {
    "duration": 36,
    "start_time": "2024-06-08T04:35:12.261Z"
   },
   {
    "duration": 5,
    "start_time": "2024-06-08T04:37:14.221Z"
   },
   {
    "duration": 6,
    "start_time": "2024-06-08T04:37:41.096Z"
   },
   {
    "duration": 5,
    "start_time": "2024-06-08T04:38:02.258Z"
   },
   {
    "duration": 5,
    "start_time": "2024-06-08T04:38:08.367Z"
   },
   {
    "duration": 6,
    "start_time": "2024-06-08T04:38:15.081Z"
   },
   {
    "duration": 16,
    "start_time": "2024-06-08T04:38:17.318Z"
   },
   {
    "duration": 5,
    "start_time": "2024-06-08T04:38:24.149Z"
   },
   {
    "duration": 448,
    "start_time": "2024-06-08T04:38:31.162Z"
   },
   {
    "duration": 6,
    "start_time": "2024-06-08T04:39:09.095Z"
   },
   {
    "duration": 5,
    "start_time": "2024-06-08T04:39:14.680Z"
   },
   {
    "duration": 30,
    "start_time": "2024-06-08T04:39:17.682Z"
   },
   {
    "duration": 21,
    "start_time": "2024-06-08T04:39:23.237Z"
   },
   {
    "duration": 28,
    "start_time": "2024-06-08T04:39:25.260Z"
   },
   {
    "duration": 75,
    "start_time": "2024-06-08T04:40:11.651Z"
   },
   {
    "duration": 97,
    "start_time": "2024-06-08T04:40:13.355Z"
   },
   {
    "duration": 28,
    "start_time": "2024-06-08T04:43:34.420Z"
   },
   {
    "duration": 72,
    "start_time": "2024-06-08T04:43:36.481Z"
   },
   {
    "duration": 100,
    "start_time": "2024-06-08T04:43:40.064Z"
   },
   {
    "duration": 123,
    "start_time": "2024-06-08T05:15:46.322Z"
   },
   {
    "duration": 102,
    "start_time": "2024-06-08T05:17:19.581Z"
   },
   {
    "duration": 83,
    "start_time": "2024-06-08T05:18:36.088Z"
   },
   {
    "duration": 77,
    "start_time": "2024-06-08T05:21:50.127Z"
   },
   {
    "duration": 80,
    "start_time": "2024-06-08T05:21:56.250Z"
   },
   {
    "duration": 79,
    "start_time": "2024-06-08T05:22:02.473Z"
   },
   {
    "duration": 79,
    "start_time": "2024-06-08T05:22:07.430Z"
   },
   {
    "duration": 77,
    "start_time": "2024-06-08T05:22:13.442Z"
   },
   {
    "duration": 89,
    "start_time": "2024-06-08T05:22:24.281Z"
   },
   {
    "duration": 75,
    "start_time": "2024-06-08T05:22:31.857Z"
   },
   {
    "duration": 68,
    "start_time": "2024-06-08T05:22:36.062Z"
   },
   {
    "duration": 12,
    "start_time": "2024-06-08T05:27:30.954Z"
   },
   {
    "duration": 10,
    "start_time": "2024-06-08T05:27:48.738Z"
   },
   {
    "duration": 4,
    "start_time": "2024-06-08T05:31:38.204Z"
   },
   {
    "duration": 5,
    "start_time": "2024-06-08T05:36:02.580Z"
   },
   {
    "duration": 19,
    "start_time": "2024-06-08T05:36:03.833Z"
   },
   {
    "duration": 9,
    "start_time": "2024-06-08T05:37:40.400Z"
   },
   {
    "duration": 122,
    "start_time": "2024-06-08T05:39:19.080Z"
   },
   {
    "duration": 123,
    "start_time": "2024-06-08T05:40:38.570Z"
   },
   {
    "duration": 126,
    "start_time": "2024-06-08T05:40:55.322Z"
   },
   {
    "duration": 6,
    "start_time": "2024-06-08T05:49:54.344Z"
   },
   {
    "duration": 133,
    "start_time": "2024-06-08T05:50:40.864Z"
   },
   {
    "duration": 17,
    "start_time": "2024-06-08T05:51:33.122Z"
   },
   {
    "duration": 32,
    "start_time": "2024-06-08T05:54:20.795Z"
   },
   {
    "duration": 79,
    "start_time": "2024-06-08T05:55:26.434Z"
   },
   {
    "duration": 39,
    "start_time": "2024-06-08T05:55:54.179Z"
   },
   {
    "duration": 38,
    "start_time": "2024-06-08T05:56:01.142Z"
   },
   {
    "duration": 33,
    "start_time": "2024-06-08T05:56:22.122Z"
   },
   {
    "duration": 18,
    "start_time": "2024-06-08T05:56:55.202Z"
   },
   {
    "duration": 19,
    "start_time": "2024-06-08T05:57:16.568Z"
   },
   {
    "duration": 18,
    "start_time": "2024-06-08T05:57:38.660Z"
   },
   {
    "duration": 18,
    "start_time": "2024-06-08T05:58:29.452Z"
   },
   {
    "duration": 26,
    "start_time": "2024-06-08T05:59:13.297Z"
   },
   {
    "duration": 28,
    "start_time": "2024-06-08T05:59:25.852Z"
   },
   {
    "duration": 30,
    "start_time": "2024-06-08T05:59:32.125Z"
   },
   {
    "duration": 27,
    "start_time": "2024-06-08T05:59:54.355Z"
   },
   {
    "duration": 37,
    "start_time": "2024-06-08T06:09:46.695Z"
   },
   {
    "duration": 36,
    "start_time": "2024-06-08T06:10:41.872Z"
   },
   {
    "duration": 20,
    "start_time": "2024-06-08T06:11:05.437Z"
   },
   {
    "duration": 29,
    "start_time": "2024-06-08T06:12:10.254Z"
   },
   {
    "duration": 4,
    "start_time": "2024-06-08T06:12:43.505Z"
   },
   {
    "duration": 195,
    "start_time": "2024-06-08T06:12:44.383Z"
   },
   {
    "duration": 10,
    "start_time": "2024-06-08T06:12:46.767Z"
   },
   {
    "duration": 29,
    "start_time": "2024-06-08T06:12:53.084Z"
   },
   {
    "duration": 6,
    "start_time": "2024-06-08T06:13:23.191Z"
   },
   {
    "duration": 14,
    "start_time": "2024-06-08T06:13:34.480Z"
   },
   {
    "duration": 5,
    "start_time": "2024-06-08T06:14:04.548Z"
   },
   {
    "duration": 28,
    "start_time": "2024-06-08T06:14:08.501Z"
   },
   {
    "duration": 22,
    "start_time": "2024-06-08T06:15:13.314Z"
   },
   {
    "duration": 27,
    "start_time": "2024-06-08T06:15:15.957Z"
   },
   {
    "duration": 70,
    "start_time": "2024-06-08T06:15:37.492Z"
   },
   {
    "duration": 95,
    "start_time": "2024-06-08T06:16:00.144Z"
   },
   {
    "duration": 98,
    "start_time": "2024-06-08T06:18:43.805Z"
   },
   {
    "duration": 114,
    "start_time": "2024-06-08T06:19:27.076Z"
   },
   {
    "duration": 103,
    "start_time": "2024-06-08T06:20:10.154Z"
   },
   {
    "duration": 26,
    "start_time": "2024-06-08T06:59:02.123Z"
   },
   {
    "duration": 27,
    "start_time": "2024-06-08T06:59:04.034Z"
   },
   {
    "duration": 63,
    "start_time": "2024-06-08T06:59:09.885Z"
   },
   {
    "duration": 3,
    "start_time": "2024-06-08T06:59:23.019Z"
   },
   {
    "duration": 197,
    "start_time": "2024-06-08T06:59:23.801Z"
   },
   {
    "duration": 10,
    "start_time": "2024-06-08T06:59:24.618Z"
   },
   {
    "duration": 32,
    "start_time": "2024-06-08T06:59:25.638Z"
   },
   {
    "duration": 5,
    "start_time": "2024-06-08T06:59:27.859Z"
   },
   {
    "duration": 14,
    "start_time": "2024-06-08T06:59:29.086Z"
   },
   {
    "duration": 6,
    "start_time": "2024-06-08T06:59:30.284Z"
   },
   {
    "duration": 30,
    "start_time": "2024-06-08T06:59:36.300Z"
   },
   {
    "duration": 24,
    "start_time": "2024-06-08T06:59:43.983Z"
   },
   {
    "duration": 27,
    "start_time": "2024-06-08T06:59:46.901Z"
   },
   {
    "duration": 74,
    "start_time": "2024-06-08T06:59:55.315Z"
   },
   {
    "duration": 71,
    "start_time": "2024-06-08T07:09:49.259Z"
   },
   {
    "duration": 101,
    "start_time": "2024-06-08T07:09:50.803Z"
   },
   {
    "duration": 112,
    "start_time": "2024-06-08T07:09:54.890Z"
   },
   {
    "duration": 164,
    "start_time": "2024-06-08T07:10:05.365Z"
   },
   {
    "duration": 89,
    "start_time": "2024-06-08T07:10:16.619Z"
   },
   {
    "duration": 67,
    "start_time": "2024-06-08T07:10:17.851Z"
   },
   {
    "duration": 11,
    "start_time": "2024-06-08T07:11:37.318Z"
   },
   {
    "duration": 5,
    "start_time": "2024-06-08T07:11:41.836Z"
   },
   {
    "duration": 20,
    "start_time": "2024-06-08T07:12:00.785Z"
   },
   {
    "duration": 4,
    "start_time": "2024-06-08T07:14:10.153Z"
   },
   {
    "duration": 72,
    "start_time": "2024-06-08T07:14:12.986Z"
   },
   {
    "duration": 4,
    "start_time": "2024-06-08T07:14:28.083Z"
   },
   {
    "duration": 19,
    "start_time": "2024-06-08T07:14:38.572Z"
   },
   {
    "duration": 4,
    "start_time": "2024-06-08T07:20:10.112Z"
   },
   {
    "duration": 5,
    "start_time": "2024-06-08T07:20:12.382Z"
   },
   {
    "duration": 6,
    "start_time": "2024-06-08T07:20:42.233Z"
   },
   {
    "duration": 5,
    "start_time": "2024-06-08T07:20:53.074Z"
   },
   {
    "duration": 5,
    "start_time": "2024-06-08T07:20:57.524Z"
   },
   {
    "duration": 4,
    "start_time": "2024-06-08T07:20:59.019Z"
   },
   {
    "duration": 9,
    "start_time": "2024-06-08T07:21:05.734Z"
   },
   {
    "duration": 3,
    "start_time": "2024-06-08T07:22:30.531Z"
   },
   {
    "duration": 206,
    "start_time": "2024-06-08T07:22:31.257Z"
   },
   {
    "duration": 10,
    "start_time": "2024-06-08T07:22:32.088Z"
   },
   {
    "duration": 30,
    "start_time": "2024-06-08T07:22:33.188Z"
   },
   {
    "duration": 6,
    "start_time": "2024-06-08T07:22:34.917Z"
   },
   {
    "duration": 16,
    "start_time": "2024-06-08T07:22:35.636Z"
   },
   {
    "duration": 6,
    "start_time": "2024-06-08T07:22:36.514Z"
   },
   {
    "duration": 32,
    "start_time": "2024-06-08T07:22:37.931Z"
   },
   {
    "duration": 23,
    "start_time": "2024-06-08T07:22:39.684Z"
   },
   {
    "duration": 27,
    "start_time": "2024-06-08T07:22:40.522Z"
   },
   {
    "duration": 74,
    "start_time": "2024-06-08T07:22:41.666Z"
   },
   {
    "duration": 101,
    "start_time": "2024-06-08T07:22:43.220Z"
   },
   {
    "duration": 98,
    "start_time": "2024-06-08T07:22:45.405Z"
   },
   {
    "duration": 65,
    "start_time": "2024-06-08T07:22:46.621Z"
   },
   {
    "duration": 11,
    "start_time": "2024-06-08T07:22:50.190Z"
   },
   {
    "duration": 4,
    "start_time": "2024-06-08T07:22:53.163Z"
   },
   {
    "duration": 5,
    "start_time": "2024-06-08T07:22:55.171Z"
   },
   {
    "duration": 9,
    "start_time": "2024-06-08T07:22:57.133Z"
   },
   {
    "duration": 23,
    "start_time": "2024-06-08T07:23:06.117Z"
   },
   {
    "duration": 23,
    "start_time": "2024-06-08T07:23:44.556Z"
   },
   {
    "duration": 23,
    "start_time": "2024-06-08T07:24:27.620Z"
   },
   {
    "duration": 23,
    "start_time": "2024-06-08T07:24:34.172Z"
   },
   {
    "duration": 23,
    "start_time": "2024-06-08T07:24:41.767Z"
   },
   {
    "duration": 7,
    "start_time": "2024-06-08T07:25:56.283Z"
   },
   {
    "duration": 6,
    "start_time": "2024-06-08T07:26:08.684Z"
   },
   {
    "duration": 6,
    "start_time": "2024-06-08T07:26:26.800Z"
   },
   {
    "duration": 6,
    "start_time": "2024-06-08T07:27:06.374Z"
   },
   {
    "duration": 6,
    "start_time": "2024-06-08T07:27:17.017Z"
   },
   {
    "duration": 6,
    "start_time": "2024-06-08T07:27:39.509Z"
   },
   {
    "duration": 29,
    "start_time": "2024-06-08T07:28:07.922Z"
   },
   {
    "duration": 3,
    "start_time": "2024-06-08T07:28:39.105Z"
   },
   {
    "duration": 22,
    "start_time": "2024-06-08T07:36:06.726Z"
   },
   {
    "duration": 86,
    "start_time": "2024-06-08T07:37:35.725Z"
   },
   {
    "duration": 24,
    "start_time": "2024-06-08T07:38:33.221Z"
   },
   {
    "duration": 23,
    "start_time": "2024-06-08T07:39:49.934Z"
   },
   {
    "duration": 24,
    "start_time": "2024-06-08T07:40:49.405Z"
   },
   {
    "duration": 24,
    "start_time": "2024-06-08T07:41:12.051Z"
   },
   {
    "duration": 25,
    "start_time": "2024-06-08T07:41:57.719Z"
   },
   {
    "duration": 28,
    "start_time": "2024-06-08T07:42:17.167Z"
   },
   {
    "duration": 24,
    "start_time": "2024-06-08T07:42:35.634Z"
   },
   {
    "duration": 24,
    "start_time": "2024-06-08T07:42:48.518Z"
   },
   {
    "duration": 24,
    "start_time": "2024-06-08T07:43:17.414Z"
   },
   {
    "duration": 27,
    "start_time": "2024-06-08T07:43:29.507Z"
   },
   {
    "duration": 4,
    "start_time": "2024-06-08T07:43:35.721Z"
   },
   {
    "duration": 191,
    "start_time": "2024-06-08T07:43:36.353Z"
   },
   {
    "duration": 11,
    "start_time": "2024-06-08T07:43:37.198Z"
   },
   {
    "duration": 30,
    "start_time": "2024-06-08T07:43:37.734Z"
   },
   {
    "duration": 6,
    "start_time": "2024-06-08T07:43:39.112Z"
   },
   {
    "duration": 14,
    "start_time": "2024-06-08T07:43:39.740Z"
   },
   {
    "duration": 6,
    "start_time": "2024-06-08T07:43:40.328Z"
   },
   {
    "duration": 30,
    "start_time": "2024-06-08T07:43:41.287Z"
   },
   {
    "duration": 23,
    "start_time": "2024-06-08T07:43:42.248Z"
   },
   {
    "duration": 27,
    "start_time": "2024-06-08T07:43:42.815Z"
   },
   {
    "duration": 75,
    "start_time": "2024-06-08T07:43:44.022Z"
   },
   {
    "duration": 98,
    "start_time": "2024-06-08T07:43:44.748Z"
   },
   {
    "duration": 98,
    "start_time": "2024-06-08T07:43:45.896Z"
   },
   {
    "duration": 64,
    "start_time": "2024-06-08T07:43:46.836Z"
   },
   {
    "duration": 10,
    "start_time": "2024-06-08T07:43:48.917Z"
   },
   {
    "duration": 4,
    "start_time": "2024-06-08T07:43:49.844Z"
   },
   {
    "duration": 5,
    "start_time": "2024-06-08T07:43:50.536Z"
   },
   {
    "duration": 9,
    "start_time": "2024-06-08T07:43:51.172Z"
   },
   {
    "duration": 24,
    "start_time": "2024-06-08T07:43:58.980Z"
   },
   {
    "duration": 31,
    "start_time": "2024-06-08T07:45:50.223Z"
   },
   {
    "duration": 3,
    "start_time": "2024-06-08T07:46:39.196Z"
   },
   {
    "duration": 26,
    "start_time": "2024-06-08T07:48:11.916Z"
   },
   {
    "duration": 24,
    "start_time": "2024-06-08T07:49:33.241Z"
   },
   {
    "duration": 453,
    "start_time": "2024-06-09T05:55:03.143Z"
   },
   {
    "duration": 230,
    "start_time": "2024-06-09T05:55:10.478Z"
   },
   {
    "duration": 12,
    "start_time": "2024-06-09T05:55:16.190Z"
   },
   {
    "duration": 37,
    "start_time": "2024-06-09T05:55:26.688Z"
   },
   {
    "duration": 6,
    "start_time": "2024-06-09T05:55:58.361Z"
   },
   {
    "duration": 14,
    "start_time": "2024-06-09T05:56:33.250Z"
   },
   {
    "duration": 15,
    "start_time": "2024-06-09T05:56:56.654Z"
   },
   {
    "duration": 6,
    "start_time": "2024-06-09T05:57:16.674Z"
   },
   {
    "duration": 11,
    "start_time": "2024-06-09T05:57:34.000Z"
   },
   {
    "duration": 5,
    "start_time": "2024-06-09T05:57:35.592Z"
   },
   {
    "duration": 29,
    "start_time": "2024-06-09T05:57:37.768Z"
   },
   {
    "duration": 31,
    "start_time": "2024-06-09T05:58:09.314Z"
   },
   {
    "duration": 29,
    "start_time": "2024-06-09T05:58:15.307Z"
   },
   {
    "duration": 80,
    "start_time": "2024-06-09T05:58:36.291Z"
   },
   {
    "duration": 98,
    "start_time": "2024-06-09T05:58:51.945Z"
   },
   {
    "duration": 102,
    "start_time": "2024-06-09T06:25:54.811Z"
   },
   {
    "duration": 100,
    "start_time": "2024-06-09T06:26:25.845Z"
   },
   {
    "duration": 103,
    "start_time": "2024-06-09T07:11:18.415Z"
   },
   {
    "duration": 3,
    "start_time": "2024-06-09T07:12:36.141Z"
   },
   {
    "duration": 198,
    "start_time": "2024-06-09T07:12:37.154Z"
   },
   {
    "duration": 10,
    "start_time": "2024-06-09T07:12:38.389Z"
   },
   {
    "duration": 30,
    "start_time": "2024-06-09T07:12:42.753Z"
   },
   {
    "duration": 6,
    "start_time": "2024-06-09T07:12:44.643Z"
   },
   {
    "duration": 13,
    "start_time": "2024-06-09T07:12:46.175Z"
   },
   {
    "duration": 5,
    "start_time": "2024-06-09T07:12:47.490Z"
   },
   {
    "duration": 28,
    "start_time": "2024-06-09T07:12:49.258Z"
   },
   {
    "duration": 23,
    "start_time": "2024-06-09T07:12:54.752Z"
   },
   {
    "duration": 28,
    "start_time": "2024-06-09T07:12:57.157Z"
   },
   {
    "duration": 71,
    "start_time": "2024-06-09T07:13:01.903Z"
   },
   {
    "duration": 79,
    "start_time": "2024-06-09T07:13:10.791Z"
   },
   {
    "duration": 77,
    "start_time": "2024-06-09T07:14:20.061Z"
   },
   {
    "duration": 77,
    "start_time": "2024-06-09T07:14:30.094Z"
   },
   {
    "duration": 82,
    "start_time": "2024-06-09T07:15:06.525Z"
   },
   {
    "duration": 85,
    "start_time": "2024-06-09T07:15:23.858Z"
   },
   {
    "duration": 21,
    "start_time": "2024-06-09T07:15:40.570Z"
   },
   {
    "duration": 14,
    "start_time": "2024-06-09T07:15:43.676Z"
   },
   {
    "duration": 5,
    "start_time": "2024-06-09T07:16:38.984Z"
   },
   {
    "duration": 5,
    "start_time": "2024-06-09T07:16:45.192Z"
   },
   {
    "duration": 3,
    "start_time": "2024-06-09T07:16:46.740Z"
   },
   {
    "duration": 5,
    "start_time": "2024-06-09T07:16:49.230Z"
   },
   {
    "duration": 17,
    "start_time": "2024-06-09T07:17:04.024Z"
   },
   {
    "duration": 441,
    "start_time": "2024-06-09T20:18:01.569Z"
   },
   {
    "duration": 223,
    "start_time": "2024-06-09T20:18:02.311Z"
   },
   {
    "duration": 12,
    "start_time": "2024-06-09T20:18:03.124Z"
   },
   {
    "duration": 35,
    "start_time": "2024-06-09T20:18:04.285Z"
   },
   {
    "duration": 6,
    "start_time": "2024-06-09T20:18:06.776Z"
   },
   {
    "duration": 12,
    "start_time": "2024-06-09T20:18:08.299Z"
   },
   {
    "duration": 5,
    "start_time": "2024-06-09T20:18:09.207Z"
   },
   {
    "duration": 29,
    "start_time": "2024-06-09T20:18:10.487Z"
   },
   {
    "duration": 28,
    "start_time": "2024-06-09T20:18:11.797Z"
   },
   {
    "duration": 37,
    "start_time": "2024-06-09T20:18:12.573Z"
   },
   {
    "duration": 78,
    "start_time": "2024-06-09T20:18:14.073Z"
   },
   {
    "duration": 78,
    "start_time": "2024-06-09T20:18:15.449Z"
   },
   {
    "duration": 21,
    "start_time": "2024-06-09T20:18:16.731Z"
   },
   {
    "duration": 13,
    "start_time": "2024-06-09T20:18:17.864Z"
   },
   {
    "duration": 6,
    "start_time": "2024-06-09T20:18:21.373Z"
   },
   {
    "duration": 9,
    "start_time": "2024-06-09T20:18:29.289Z"
   },
   {
    "duration": 6,
    "start_time": "2024-06-09T20:18:39.376Z"
   },
   {
    "duration": 5,
    "start_time": "2024-06-09T20:19:00.280Z"
   },
   {
    "duration": 21,
    "start_time": "2024-06-09T20:19:17.569Z"
   },
   {
    "duration": 3,
    "start_time": "2024-06-09T20:19:46.076Z"
   },
   {
    "duration": 344,
    "start_time": "2024-06-09T20:26:16.180Z"
   },
   {
    "duration": 8,
    "start_time": "2024-06-09T20:26:24.466Z"
   },
   {
    "duration": 4,
    "start_time": "2024-06-09T20:26:45.304Z"
   },
   {
    "duration": 9,
    "start_time": "2024-06-09T20:27:21.405Z"
   },
   {
    "duration": 29,
    "start_time": "2024-06-09T20:27:45.343Z"
   },
   {
    "duration": 29,
    "start_time": "2024-06-09T20:29:47.310Z"
   },
   {
    "duration": 30,
    "start_time": "2024-06-09T20:30:01.478Z"
   },
   {
    "duration": 9,
    "start_time": "2024-06-09T20:30:07.818Z"
   },
   {
    "duration": 16,
    "start_time": "2024-06-09T20:34:09.546Z"
   },
   {
    "duration": 22,
    "start_time": "2024-06-09T20:36:47.483Z"
   },
   {
    "duration": 21,
    "start_time": "2024-06-09T20:38:00.739Z"
   },
   {
    "duration": 9,
    "start_time": "2024-06-09T20:40:10.417Z"
   },
   {
    "duration": 11,
    "start_time": "2024-06-09T20:41:22.909Z"
   },
   {
    "duration": 11,
    "start_time": "2024-06-09T20:45:47.559Z"
   },
   {
    "duration": 10,
    "start_time": "2024-06-09T20:48:26.521Z"
   },
   {
    "duration": 1951,
    "start_time": "2024-06-09T20:49:01.470Z"
   },
   {
    "duration": 171,
    "start_time": "2024-06-09T20:49:47.661Z"
   },
   {
    "duration": 155,
    "start_time": "2024-06-09T20:50:07.108Z"
   },
   {
    "duration": 9,
    "start_time": "2024-06-09T20:50:57.499Z"
   },
   {
    "duration": 166,
    "start_time": "2024-06-09T20:51:08.189Z"
   },
   {
    "duration": 47,
    "start_time": "2024-06-09T20:51:48.613Z"
   },
   {
    "duration": 48,
    "start_time": "2024-06-09T20:52:39.534Z"
   },
   {
    "duration": 48,
    "start_time": "2024-06-09T20:53:07.363Z"
   },
   {
    "duration": 10,
    "start_time": "2024-06-09T20:54:59.754Z"
   },
   {
    "duration": 10,
    "start_time": "2024-06-09T20:56:30.230Z"
   },
   {
    "duration": 799,
    "start_time": "2024-06-09T20:57:21.041Z"
   },
   {
    "duration": 173,
    "start_time": "2024-06-09T20:58:20.234Z"
   },
   {
    "duration": 184,
    "start_time": "2024-06-09T20:58:52.431Z"
   },
   {
    "duration": 471,
    "start_time": "2024-06-09T21:47:43.123Z"
   },
   {
    "duration": 247,
    "start_time": "2024-06-09T21:47:43.801Z"
   },
   {
    "duration": 12,
    "start_time": "2024-06-09T21:47:44.448Z"
   },
   {
    "duration": 36,
    "start_time": "2024-06-09T21:47:45.171Z"
   },
   {
    "duration": 5,
    "start_time": "2024-06-09T21:47:46.669Z"
   },
   {
    "duration": 12,
    "start_time": "2024-06-09T21:47:47.466Z"
   },
   {
    "duration": 6,
    "start_time": "2024-06-09T21:47:48.215Z"
   },
   {
    "duration": 29,
    "start_time": "2024-06-09T21:47:48.990Z"
   },
   {
    "duration": 25,
    "start_time": "2024-06-09T21:47:49.802Z"
   },
   {
    "duration": 30,
    "start_time": "2024-06-09T21:47:50.628Z"
   },
   {
    "duration": 73,
    "start_time": "2024-06-09T21:47:51.400Z"
   },
   {
    "duration": 78,
    "start_time": "2024-06-09T21:47:52.113Z"
   },
   {
    "duration": 20,
    "start_time": "2024-06-09T21:47:52.896Z"
   },
   {
    "duration": 13,
    "start_time": "2024-06-09T21:47:53.684Z"
   },
   {
    "duration": 5,
    "start_time": "2024-06-09T21:47:54.718Z"
   },
   {
    "duration": 5,
    "start_time": "2024-06-09T21:47:55.958Z"
   },
   {
    "duration": 4,
    "start_time": "2024-06-09T21:47:56.835Z"
   },
   {
    "duration": 5,
    "start_time": "2024-06-09T21:47:57.629Z"
   },
   {
    "duration": 5,
    "start_time": "2024-06-09T21:48:05.966Z"
   },
   {
    "duration": 17,
    "start_time": "2024-06-09T21:48:16.610Z"
   },
   {
    "duration": 7,
    "start_time": "2024-06-09T21:48:51.297Z"
   },
   {
    "duration": 5,
    "start_time": "2024-06-09T21:49:04.734Z"
   },
   {
    "duration": 4,
    "start_time": "2024-06-09T21:49:13.179Z"
   },
   {
    "duration": 3,
    "start_time": "2024-06-09T21:49:18.638Z"
   },
   {
    "duration": 213,
    "start_time": "2024-06-09T21:49:19.910Z"
   },
   {
    "duration": 10,
    "start_time": "2024-06-09T21:49:20.470Z"
   },
   {
    "duration": 34,
    "start_time": "2024-06-09T21:49:21.982Z"
   },
   {
    "duration": 7,
    "start_time": "2024-06-09T21:49:24.960Z"
   },
   {
    "duration": 15,
    "start_time": "2024-06-09T21:49:27.034Z"
   },
   {
    "duration": 6,
    "start_time": "2024-06-09T21:49:36.517Z"
   },
   {
    "duration": 30,
    "start_time": "2024-06-09T21:49:37.898Z"
   },
   {
    "duration": 23,
    "start_time": "2024-06-09T21:49:41.532Z"
   },
   {
    "duration": 29,
    "start_time": "2024-06-09T21:49:47.231Z"
   },
   {
    "duration": 84,
    "start_time": "2024-06-09T21:49:51.469Z"
   },
   {
    "duration": 80,
    "start_time": "2024-06-09T21:49:54.327Z"
   },
   {
    "duration": 7,
    "start_time": "2024-06-09T21:52:38.008Z"
   },
   {
    "duration": 10,
    "start_time": "2024-06-09T21:52:47.355Z"
   },
   {
    "duration": 78,
    "start_time": "2024-06-09T21:52:56.610Z"
   },
   {
    "duration": 75,
    "start_time": "2024-06-09T21:53:03.841Z"
   },
   {
    "duration": 85,
    "start_time": "2024-06-09T21:53:06.609Z"
   },
   {
    "duration": 91,
    "start_time": "2024-06-09T21:53:23.781Z"
   },
   {
    "duration": 888,
    "start_time": "2024-06-09T21:55:54.694Z"
   },
   {
    "duration": 108,
    "start_time": "2024-06-09T21:55:57.729Z"
   },
   {
    "duration": 83,
    "start_time": "2024-06-09T21:56:01.681Z"
   },
   {
    "duration": 25,
    "start_time": "2024-06-09T22:22:34.030Z"
   },
   {
    "duration": 15,
    "start_time": "2024-06-09T22:26:13.083Z"
   },
   {
    "duration": 13,
    "start_time": "2024-06-09T22:26:31.031Z"
   },
   {
    "duration": 211,
    "start_time": "2024-06-09T22:26:49.323Z"
   },
   {
    "duration": 7,
    "start_time": "2024-06-09T22:26:55.618Z"
   },
   {
    "duration": 13,
    "start_time": "2024-06-09T22:26:56.813Z"
   },
   {
    "duration": 6,
    "start_time": "2024-06-09T22:26:59.897Z"
   },
   {
    "duration": 28,
    "start_time": "2024-06-09T22:27:01.657Z"
   },
   {
    "duration": 25,
    "start_time": "2024-06-09T22:27:07.267Z"
   },
   {
    "duration": 30,
    "start_time": "2024-06-09T22:27:08.387Z"
   },
   {
    "duration": 72,
    "start_time": "2024-06-09T22:27:26.210Z"
   },
   {
    "duration": 88,
    "start_time": "2024-06-09T22:27:30.845Z"
   },
   {
    "duration": 21,
    "start_time": "2024-06-09T22:33:15.919Z"
   },
   {
    "duration": 24,
    "start_time": "2024-06-09T22:38:09.447Z"
   },
   {
    "duration": 3,
    "start_time": "2024-06-09T22:38:15.426Z"
   },
   {
    "duration": 195,
    "start_time": "2024-06-09T22:38:16.047Z"
   },
   {
    "duration": 10,
    "start_time": "2024-06-09T22:38:16.610Z"
   },
   {
    "duration": 29,
    "start_time": "2024-06-09T22:38:17.303Z"
   },
   {
    "duration": 7,
    "start_time": "2024-06-09T22:38:19.258Z"
   },
   {
    "duration": 13,
    "start_time": "2024-06-09T22:38:20.323Z"
   },
   {
    "duration": 6,
    "start_time": "2024-06-09T22:38:21.229Z"
   },
   {
    "duration": 30,
    "start_time": "2024-06-09T22:38:22.541Z"
   },
   {
    "duration": 24,
    "start_time": "2024-06-09T22:38:24.148Z"
   },
   {
    "duration": 29,
    "start_time": "2024-06-09T22:38:26.856Z"
   },
   {
    "duration": 80,
    "start_time": "2024-06-09T22:38:29.237Z"
   },
   {
    "duration": 90,
    "start_time": "2024-06-09T22:38:31.544Z"
   },
   {
    "duration": 99,
    "start_time": "2024-06-09T22:44:13.562Z"
   },
   {
    "duration": 81,
    "start_time": "2024-06-09T22:46:52.155Z"
   },
   {
    "duration": 83,
    "start_time": "2024-06-09T22:46:54.538Z"
   },
   {
    "duration": 21,
    "start_time": "2024-06-09T22:46:58.970Z"
   },
   {
    "duration": 16,
    "start_time": "2024-06-09T22:47:03.482Z"
   },
   {
    "duration": 13,
    "start_time": "2024-06-09T22:47:04.291Z"
   },
   {
    "duration": 6,
    "start_time": "2024-06-09T22:49:20.423Z"
   },
   {
    "duration": 4,
    "start_time": "2024-06-09T22:49:26.571Z"
   },
   {
    "duration": 3,
    "start_time": "2024-06-09T22:49:48.500Z"
   },
   {
    "duration": 7,
    "start_time": "2024-06-09T22:49:56.819Z"
   },
   {
    "duration": 5,
    "start_time": "2024-06-09T22:50:03.689Z"
   },
   {
    "duration": 4,
    "start_time": "2024-06-09T22:50:29.634Z"
   },
   {
    "duration": 6,
    "start_time": "2024-06-09T22:50:32.355Z"
   },
   {
    "duration": 6,
    "start_time": "2024-06-09T22:50:33.468Z"
   },
   {
    "duration": 5,
    "start_time": "2024-06-09T22:50:37.324Z"
   },
   {
    "duration": 5,
    "start_time": "2024-06-09T22:50:45.842Z"
   },
   {
    "duration": 3,
    "start_time": "2024-06-09T22:51:46.836Z"
   },
   {
    "duration": 6,
    "start_time": "2024-06-09T22:52:11.522Z"
   },
   {
    "duration": 6,
    "start_time": "2024-06-09T22:52:36.868Z"
   },
   {
    "duration": 196,
    "start_time": "2024-06-09T22:52:43.397Z"
   },
   {
    "duration": 11,
    "start_time": "2024-06-09T22:52:46.422Z"
   },
   {
    "duration": 35,
    "start_time": "2024-06-09T22:52:47.299Z"
   },
   {
    "duration": 6,
    "start_time": "2024-06-09T22:52:48.015Z"
   },
   {
    "duration": 16,
    "start_time": "2024-06-09T22:52:48.832Z"
   },
   {
    "duration": 6,
    "start_time": "2024-06-09T22:52:51.904Z"
   },
   {
    "duration": 38,
    "start_time": "2024-06-09T22:52:52.895Z"
   },
   {
    "duration": 25,
    "start_time": "2024-06-09T22:52:53.991Z"
   },
   {
    "duration": 37,
    "start_time": "2024-06-09T22:52:54.736Z"
   },
   {
    "duration": 74,
    "start_time": "2024-06-09T22:52:59.468Z"
   },
   {
    "duration": 80,
    "start_time": "2024-06-09T22:53:01.653Z"
   },
   {
    "duration": 22,
    "start_time": "2024-06-09T22:53:08.621Z"
   },
   {
    "duration": 14,
    "start_time": "2024-06-09T22:53:10.294Z"
   },
   {
    "duration": 6,
    "start_time": "2024-06-09T22:53:19.102Z"
   },
   {
    "duration": 4,
    "start_time": "2024-06-09T22:53:36.293Z"
   },
   {
    "duration": 5,
    "start_time": "2024-06-09T22:54:14.753Z"
   },
   {
    "duration": 5,
    "start_time": "2024-06-09T22:54:15.779Z"
   },
   {
    "duration": 4,
    "start_time": "2024-06-09T22:54:22.261Z"
   },
   {
    "duration": 213,
    "start_time": "2024-06-09T22:54:23.074Z"
   },
   {
    "duration": 10,
    "start_time": "2024-06-09T22:54:23.495Z"
   },
   {
    "duration": 29,
    "start_time": "2024-06-09T22:54:24.233Z"
   },
   {
    "duration": 6,
    "start_time": "2024-06-09T22:54:25.401Z"
   },
   {
    "duration": 13,
    "start_time": "2024-06-09T22:54:26.157Z"
   },
   {
    "duration": 7,
    "start_time": "2024-06-09T22:54:26.518Z"
   },
   {
    "duration": 34,
    "start_time": "2024-06-09T22:54:28.145Z"
   },
   {
    "duration": 24,
    "start_time": "2024-06-09T22:54:29.507Z"
   },
   {
    "duration": 30,
    "start_time": "2024-06-09T22:54:31.589Z"
   },
   {
    "duration": 81,
    "start_time": "2024-06-09T22:54:33.148Z"
   },
   {
    "duration": 86,
    "start_time": "2024-06-09T22:54:34.509Z"
   },
   {
    "duration": 22,
    "start_time": "2024-06-09T22:54:42.067Z"
   },
   {
    "duration": 18,
    "start_time": "2024-06-09T22:54:43.103Z"
   },
   {
    "duration": 6,
    "start_time": "2024-06-09T22:54:50.353Z"
   },
   {
    "duration": 451,
    "start_time": "2024-06-09T22:55:14.635Z"
   },
   {
    "duration": 13,
    "start_time": "2024-06-09T22:55:28.886Z"
   },
   {
    "duration": 7,
    "start_time": "2024-06-09T22:55:46.813Z"
   },
   {
    "duration": 196,
    "start_time": "2024-06-09T22:55:51.350Z"
   },
   {
    "duration": 12,
    "start_time": "2024-06-09T22:55:53.917Z"
   },
   {
    "duration": 31,
    "start_time": "2024-06-09T22:55:58.345Z"
   },
   {
    "duration": 6,
    "start_time": "2024-06-09T22:56:03.132Z"
   },
   {
    "duration": 13,
    "start_time": "2024-06-09T22:56:04.678Z"
   },
   {
    "duration": 7,
    "start_time": "2024-06-09T22:56:05.728Z"
   },
   {
    "duration": 32,
    "start_time": "2024-06-09T22:56:13.028Z"
   },
   {
    "duration": 22,
    "start_time": "2024-06-09T22:56:17.110Z"
   },
   {
    "duration": 28,
    "start_time": "2024-06-09T22:56:18.906Z"
   },
   {
    "duration": 78,
    "start_time": "2024-06-09T22:56:27.905Z"
   },
   {
    "duration": 83,
    "start_time": "2024-06-09T22:56:34.628Z"
   },
   {
    "duration": 84,
    "start_time": "2024-06-09T22:56:55.411Z"
   },
   {
    "duration": 76,
    "start_time": "2024-06-09T22:57:06.813Z"
   },
   {
    "duration": 23,
    "start_time": "2024-06-09T22:57:13.032Z"
   },
   {
    "duration": 19,
    "start_time": "2024-06-09T22:57:16.360Z"
   },
   {
    "duration": 19,
    "start_time": "2024-06-09T22:57:27.655Z"
   },
   {
    "duration": 18,
    "start_time": "2024-06-09T22:57:32.571Z"
   },
   {
    "duration": 18,
    "start_time": "2024-06-09T22:57:38.099Z"
   },
   {
    "duration": 15,
    "start_time": "2024-06-09T22:57:44.409Z"
   },
   {
    "duration": 12,
    "start_time": "2024-06-09T22:57:50.186Z"
   },
   {
    "duration": 5,
    "start_time": "2024-06-09T22:57:54.446Z"
   },
   {
    "duration": 11,
    "start_time": "2024-06-09T23:02:11.238Z"
   },
   {
    "duration": 5,
    "start_time": "2024-06-09T23:02:19.306Z"
   },
   {
    "duration": 3,
    "start_time": "2024-06-09T23:02:37.910Z"
   },
   {
    "duration": 194,
    "start_time": "2024-06-09T23:02:38.780Z"
   },
   {
    "duration": 10,
    "start_time": "2024-06-09T23:02:39.729Z"
   },
   {
    "duration": 30,
    "start_time": "2024-06-09T23:02:42.608Z"
   },
   {
    "duration": 6,
    "start_time": "2024-06-09T23:02:44.916Z"
   },
   {
    "duration": 12,
    "start_time": "2024-06-09T23:02:46.366Z"
   },
   {
    "duration": 6,
    "start_time": "2024-06-09T23:02:47.767Z"
   },
   {
    "duration": 30,
    "start_time": "2024-06-09T23:02:50.245Z"
   },
   {
    "duration": 23,
    "start_time": "2024-06-09T23:02:52.314Z"
   },
   {
    "duration": 31,
    "start_time": "2024-06-09T23:02:58.633Z"
   },
   {
    "duration": 74,
    "start_time": "2024-06-09T23:03:06.402Z"
   },
   {
    "duration": 80,
    "start_time": "2024-06-09T23:03:07.725Z"
   },
   {
    "duration": 20,
    "start_time": "2024-06-09T23:03:14.609Z"
   },
   {
    "duration": 13,
    "start_time": "2024-06-09T23:03:15.961Z"
   },
   {
    "duration": 6,
    "start_time": "2024-06-09T23:03:25.364Z"
   },
   {
    "duration": 510,
    "start_time": "2024-06-10T00:25:33.204Z"
   },
   {
    "duration": 222,
    "start_time": "2024-06-10T00:25:34.460Z"
   },
   {
    "duration": 12,
    "start_time": "2024-06-10T00:25:35.971Z"
   },
   {
    "duration": 37,
    "start_time": "2024-06-10T00:25:41.764Z"
   },
   {
    "duration": 6,
    "start_time": "2024-06-10T00:25:43.970Z"
   },
   {
    "duration": 14,
    "start_time": "2024-06-10T00:25:47.385Z"
   },
   {
    "duration": 7,
    "start_time": "2024-06-10T00:25:48.519Z"
   },
   {
    "duration": 42,
    "start_time": "2024-06-10T00:25:52.556Z"
   },
   {
    "duration": 31,
    "start_time": "2024-06-10T00:25:53.719Z"
   },
   {
    "duration": 30,
    "start_time": "2024-06-10T00:25:55.409Z"
   },
   {
    "duration": 73,
    "start_time": "2024-06-10T00:26:00.570Z"
   },
   {
    "duration": 76,
    "start_time": "2024-06-10T00:26:04.710Z"
   },
   {
    "duration": 20,
    "start_time": "2024-06-10T00:26:09.271Z"
   },
   {
    "duration": 12,
    "start_time": "2024-06-10T00:26:10.653Z"
   },
   {
    "duration": 8,
    "start_time": "2024-06-10T00:26:18.909Z"
   },
   {
    "duration": 5,
    "start_time": "2024-06-10T00:35:08.914Z"
   },
   {
    "duration": 195,
    "start_time": "2024-06-10T00:35:10.362Z"
   },
   {
    "duration": 11,
    "start_time": "2024-06-10T00:35:16.558Z"
   },
   {
    "duration": 35,
    "start_time": "2024-06-10T00:35:24.179Z"
   },
   {
    "duration": 6,
    "start_time": "2024-06-10T00:35:32.415Z"
   },
   {
    "duration": 12,
    "start_time": "2024-06-10T00:35:36.425Z"
   },
   {
    "duration": 6,
    "start_time": "2024-06-10T00:35:39.584Z"
   },
   {
    "duration": 29,
    "start_time": "2024-06-10T00:35:44.185Z"
   },
   {
    "duration": 24,
    "start_time": "2024-06-10T00:35:45.817Z"
   },
   {
    "duration": 28,
    "start_time": "2024-06-10T00:35:47.327Z"
   },
   {
    "duration": 88,
    "start_time": "2024-06-10T00:35:52.324Z"
   },
   {
    "duration": 79,
    "start_time": "2024-06-10T00:35:54.324Z"
   },
   {
    "duration": 84,
    "start_time": "2024-06-10T00:36:18.605Z"
   },
   {
    "duration": 107,
    "start_time": "2024-06-10T00:37:30.894Z"
   },
   {
    "duration": 102,
    "start_time": "2024-06-10T00:37:50.060Z"
   },
   {
    "duration": 24,
    "start_time": "2024-06-10T00:37:59.934Z"
   },
   {
    "duration": 17,
    "start_time": "2024-06-10T00:38:10.375Z"
   },
   {
    "duration": 6,
    "start_time": "2024-06-10T00:39:26.776Z"
   },
   {
    "duration": 6,
    "start_time": "2024-06-10T00:40:32.494Z"
   },
   {
    "duration": 7,
    "start_time": "2024-06-10T00:40:43.516Z"
   },
   {
    "duration": 11,
    "start_time": "2024-06-10T00:41:15.720Z"
   },
   {
    "duration": 341,
    "start_time": "2024-06-10T00:41:23.356Z"
   },
   {
    "duration": 30,
    "start_time": "2024-06-10T00:41:31.962Z"
   },
   {
    "duration": 5,
    "start_time": "2024-06-10T00:41:39.159Z"
   },
   {
    "duration": 13,
    "start_time": "2024-06-10T00:41:44.888Z"
   },
   {
    "duration": 6,
    "start_time": "2024-06-10T00:41:55.571Z"
   },
   {
    "duration": 3,
    "start_time": "2024-06-10T00:42:02.923Z"
   },
   {
    "duration": 185,
    "start_time": "2024-06-10T00:42:05.232Z"
   },
   {
    "duration": 10,
    "start_time": "2024-06-10T00:42:06.752Z"
   },
   {
    "duration": 843,
    "start_time": "2024-06-10T00:42:25.344Z"
   },
   {
    "duration": 82,
    "start_time": "2024-06-10T00:42:42.779Z"
   },
   {
    "duration": 93,
    "start_time": "2024-06-10T00:42:54.528Z"
   },
   {
    "duration": 12,
    "start_time": "2024-06-10T00:43:00.861Z"
   },
   {
    "duration": 31,
    "start_time": "2024-06-10T00:43:05.694Z"
   },
   {
    "duration": 6,
    "start_time": "2024-06-10T00:43:08.385Z"
   },
   {
    "duration": 9,
    "start_time": "2024-06-10T00:43:09.754Z"
   },
   {
    "duration": 6,
    "start_time": "2024-06-10T00:43:10.991Z"
   },
   {
    "duration": 29,
    "start_time": "2024-06-10T00:43:12.839Z"
   },
   {
    "duration": 23,
    "start_time": "2024-06-10T00:43:13.818Z"
   },
   {
    "duration": 27,
    "start_time": "2024-06-10T00:43:15.131Z"
   },
   {
    "duration": 71,
    "start_time": "2024-06-10T00:43:16.703Z"
   },
   {
    "duration": 86,
    "start_time": "2024-06-10T00:43:18.541Z"
   },
   {
    "duration": 18,
    "start_time": "2024-06-10T00:43:20.026Z"
   },
   {
    "duration": 14,
    "start_time": "2024-06-10T00:43:21.837Z"
   },
   {
    "duration": 8,
    "start_time": "2024-06-10T00:43:26.122Z"
   },
   {
    "duration": 4,
    "start_time": "2024-06-10T00:43:34.077Z"
   },
   {
    "duration": 3,
    "start_time": "2024-06-10T00:43:37.901Z"
   },
   {
    "duration": 4,
    "start_time": "2024-06-10T00:43:40.153Z"
   },
   {
    "duration": 462,
    "start_time": "2024-06-10T00:44:14.285Z"
   },
   {
    "duration": 192,
    "start_time": "2024-06-10T00:44:15.351Z"
   },
   {
    "duration": 1349,
    "start_time": "2024-06-10T00:44:37.009Z"
   },
   {
    "duration": 202,
    "start_time": "2024-06-10T00:44:45.630Z"
   },
   {
    "duration": 192,
    "start_time": "2024-06-10T00:44:52.177Z"
   },
   {
    "duration": 14,
    "start_time": "2024-06-10T00:44:54.214Z"
   },
   {
    "duration": 34,
    "start_time": "2024-06-10T00:44:59.995Z"
   },
   {
    "duration": 6,
    "start_time": "2024-06-10T00:45:06.912Z"
   },
   {
    "duration": 13,
    "start_time": "2024-06-10T00:45:09.537Z"
   },
   {
    "duration": 6,
    "start_time": "2024-06-10T00:45:13.433Z"
   },
   {
    "duration": 32,
    "start_time": "2024-06-10T00:45:18.099Z"
   },
   {
    "duration": 33,
    "start_time": "2024-06-10T00:45:19.832Z"
   },
   {
    "duration": 30,
    "start_time": "2024-06-10T00:45:22.934Z"
   },
   {
    "duration": 70,
    "start_time": "2024-06-10T00:45:27.535Z"
   },
   {
    "duration": 75,
    "start_time": "2024-06-10T00:45:29.932Z"
   },
   {
    "duration": 21,
    "start_time": "2024-06-10T00:45:36.668Z"
   },
   {
    "duration": 12,
    "start_time": "2024-06-10T00:45:41.332Z"
   },
   {
    "duration": 5,
    "start_time": "2024-06-10T00:45:48.948Z"
   },
   {
    "duration": 13,
    "start_time": "2024-06-10T00:46:01.796Z"
   },
   {
    "duration": 6,
    "start_time": "2024-06-10T00:46:07.767Z"
   },
   {
    "duration": 3,
    "start_time": "2024-06-10T00:55:55.439Z"
   },
   {
    "duration": 197,
    "start_time": "2024-06-10T00:55:56.445Z"
   },
   {
    "duration": 10,
    "start_time": "2024-06-10T00:55:57.579Z"
   },
   {
    "duration": 29,
    "start_time": "2024-06-10T00:55:58.928Z"
   },
   {
    "duration": 5,
    "start_time": "2024-06-10T00:56:01.153Z"
   },
   {
    "duration": 13,
    "start_time": "2024-06-10T00:56:02.452Z"
   },
   {
    "duration": 6,
    "start_time": "2024-06-10T00:56:03.438Z"
   },
   {
    "duration": 29,
    "start_time": "2024-06-10T00:56:04.953Z"
   },
   {
    "duration": 25,
    "start_time": "2024-06-10T00:56:06.890Z"
   },
   {
    "duration": 28,
    "start_time": "2024-06-10T00:56:08.129Z"
   },
   {
    "duration": 73,
    "start_time": "2024-06-10T00:56:09.802Z"
   },
   {
    "duration": 82,
    "start_time": "2024-06-10T00:56:12.596Z"
   },
   {
    "duration": 22,
    "start_time": "2024-06-10T01:00:05.503Z"
   },
   {
    "duration": 14,
    "start_time": "2024-06-10T01:00:06.959Z"
   },
   {
    "duration": 5,
    "start_time": "2024-06-10T01:00:12.640Z"
   },
   {
    "duration": 6,
    "start_time": "2024-06-10T01:00:51.752Z"
   },
   {
    "duration": 5,
    "start_time": "2024-06-10T01:00:58.855Z"
   },
   {
    "duration": 4,
    "start_time": "2024-06-10T01:01:07.188Z"
   },
   {
    "duration": 11,
    "start_time": "2024-06-10T01:01:29.207Z"
   },
   {
    "duration": 9,
    "start_time": "2024-06-10T01:03:37.825Z"
   },
   {
    "duration": 6,
    "start_time": "2024-06-10T01:03:51.803Z"
   },
   {
    "duration": 5,
    "start_time": "2024-06-10T01:04:04.765Z"
   },
   {
    "duration": 13,
    "start_time": "2024-06-10T01:04:22.900Z"
   },
   {
    "duration": 14,
    "start_time": "2024-06-10T01:04:29.552Z"
   },
   {
    "duration": 8,
    "start_time": "2024-06-10T01:04:36.904Z"
   },
   {
    "duration": 3,
    "start_time": "2024-06-10T01:04:46.124Z"
   },
   {
    "duration": 193,
    "start_time": "2024-06-10T01:04:50.098Z"
   },
   {
    "duration": 273,
    "start_time": "2024-06-10T01:04:58.497Z"
   },
   {
    "duration": 272,
    "start_time": "2024-06-10T01:05:05.635Z"
   },
   {
    "duration": 273,
    "start_time": "2024-06-10T01:05:17.422Z"
   },
   {
    "duration": 275,
    "start_time": "2024-06-10T01:05:27.676Z"
   },
   {
    "duration": 268,
    "start_time": "2024-06-10T01:05:33.438Z"
   },
   {
    "duration": 231,
    "start_time": "2024-06-10T01:05:39.879Z"
   },
   {
    "duration": 89,
    "start_time": "2024-06-10T01:05:54.072Z"
   },
   {
    "duration": 95,
    "start_time": "2024-06-10T01:06:08.960Z"
   },
   {
    "duration": 39,
    "start_time": "2024-06-10T01:06:21.783Z"
   },
   {
    "duration": 49,
    "start_time": "2024-06-10T01:06:31.374Z"
   },
   {
    "duration": 24,
    "start_time": "2024-06-10T01:06:44.772Z"
   },
   {
    "duration": 30,
    "start_time": "2024-06-10T01:06:53.868Z"
   },
   {
    "duration": 7,
    "start_time": "2024-06-10T01:06:56.396Z"
   },
   {
    "duration": 10,
    "start_time": "2024-06-10T01:06:57.855Z"
   },
   {
    "duration": 12,
    "start_time": "2024-06-10T01:07:01.710Z"
   },
   {
    "duration": 7,
    "start_time": "2024-06-10T01:07:11.435Z"
   },
   {
    "duration": 7,
    "start_time": "2024-06-10T01:07:24.823Z"
   },
   {
    "duration": 31,
    "start_time": "2024-06-10T01:07:29.419Z"
   },
   {
    "duration": 22,
    "start_time": "2024-06-10T01:07:33.089Z"
   },
   {
    "duration": 29,
    "start_time": "2024-06-10T01:07:35.150Z"
   },
   {
    "duration": 76,
    "start_time": "2024-06-10T01:07:37.841Z"
   },
   {
    "duration": 73,
    "start_time": "2024-06-10T01:07:50.315Z"
   },
   {
    "duration": 88,
    "start_time": "2024-06-10T01:07:56.503Z"
   },
   {
    "duration": 78,
    "start_time": "2024-06-10T01:07:59.105Z"
   },
   {
    "duration": 71,
    "start_time": "2024-06-10T01:09:37.040Z"
   },
   {
    "duration": 79,
    "start_time": "2024-06-10T01:09:40.620Z"
   },
   {
    "duration": 96,
    "start_time": "2024-06-10T01:11:50.539Z"
   },
   {
    "duration": 21,
    "start_time": "2024-06-10T01:11:53.768Z"
   },
   {
    "duration": 16,
    "start_time": "2024-06-10T01:11:57.067Z"
   },
   {
    "duration": 7,
    "start_time": "2024-06-10T01:12:29.616Z"
   },
   {
    "duration": 7,
    "start_time": "2024-06-10T01:12:43.443Z"
   },
   {
    "duration": 5,
    "start_time": "2024-06-10T01:13:19.337Z"
   },
   {
    "duration": 5,
    "start_time": "2024-06-10T01:13:26.794Z"
   },
   {
    "duration": 5,
    "start_time": "2024-06-10T01:13:42.911Z"
   },
   {
    "duration": 188,
    "start_time": "2024-06-10T01:15:04.756Z"
   },
   {
    "duration": 11,
    "start_time": "2024-06-10T01:15:08.494Z"
   },
   {
    "duration": 30,
    "start_time": "2024-06-10T01:15:08.951Z"
   },
   {
    "duration": 6,
    "start_time": "2024-06-10T01:15:09.705Z"
   },
   {
    "duration": 14,
    "start_time": "2024-06-10T01:15:12.324Z"
   },
   {
    "duration": 9,
    "start_time": "2024-06-10T01:15:12.922Z"
   },
   {
    "duration": 30,
    "start_time": "2024-06-10T01:15:13.528Z"
   },
   {
    "duration": 40,
    "start_time": "2024-06-10T01:15:14.353Z"
   },
   {
    "duration": 31,
    "start_time": "2024-06-10T01:15:14.996Z"
   },
   {
    "duration": 72,
    "start_time": "2024-06-10T01:15:18.960Z"
   },
   {
    "duration": 92,
    "start_time": "2024-06-10T01:15:20.517Z"
   },
   {
    "duration": 20,
    "start_time": "2024-06-10T01:15:21.889Z"
   },
   {
    "duration": 13,
    "start_time": "2024-06-10T01:15:24.300Z"
   },
   {
    "duration": 11,
    "start_time": "2024-06-10T01:16:12.504Z"
   },
   {
    "duration": 12,
    "start_time": "2024-06-10T01:16:51.820Z"
   },
   {
    "duration": 10,
    "start_time": "2024-06-10T01:17:05.583Z"
   },
   {
    "duration": 12,
    "start_time": "2024-06-10T01:17:09.042Z"
   },
   {
    "duration": 16,
    "start_time": "2024-06-10T01:17:48.951Z"
   },
   {
    "duration": 24,
    "start_time": "2024-06-10T01:20:22.994Z"
   },
   {
    "duration": 38,
    "start_time": "2024-06-10T01:20:36.058Z"
   },
   {
    "duration": 11,
    "start_time": "2024-06-10T01:22:24.001Z"
   },
   {
    "duration": 12,
    "start_time": "2024-06-10T01:23:44.410Z"
   },
   {
    "duration": 4,
    "start_time": "2024-06-10T01:25:24.900Z"
   },
   {
    "duration": 9,
    "start_time": "2024-06-10T01:25:26.650Z"
   },
   {
    "duration": 3,
    "start_time": "2024-06-10T01:25:41.450Z"
   },
   {
    "duration": 895,
    "start_time": "2024-06-10T01:25:42.902Z"
   },
   {
    "duration": 506,
    "start_time": "2024-06-10T01:26:29.921Z"
   },
   {
    "duration": 205,
    "start_time": "2024-06-10T01:26:30.630Z"
   },
   {
    "duration": 15,
    "start_time": "2024-06-10T01:26:31.421Z"
   },
   {
    "duration": 38,
    "start_time": "2024-06-10T01:26:33.143Z"
   },
   {
    "duration": 7,
    "start_time": "2024-06-10T01:26:34.854Z"
   },
   {
    "duration": 12,
    "start_time": "2024-06-10T01:26:36.252Z"
   },
   {
    "duration": 7,
    "start_time": "2024-06-10T01:26:36.996Z"
   },
   {
    "duration": 30,
    "start_time": "2024-06-10T01:26:38.057Z"
   },
   {
    "duration": 24,
    "start_time": "2024-06-10T01:26:38.560Z"
   },
   {
    "duration": 31,
    "start_time": "2024-06-10T01:26:39.454Z"
   },
   {
    "duration": 72,
    "start_time": "2024-06-10T01:26:40.343Z"
   },
   {
    "duration": 83,
    "start_time": "2024-06-10T01:26:41.399Z"
   },
   {
    "duration": 21,
    "start_time": "2024-06-10T01:26:44.099Z"
   },
   {
    "duration": 14,
    "start_time": "2024-06-10T01:26:45.460Z"
   },
   {
    "duration": 10,
    "start_time": "2024-06-10T01:26:50.008Z"
   },
   {
    "duration": 213,
    "start_time": "2024-06-10T01:32:42.067Z"
   },
   {
    "duration": 4,
    "start_time": "2024-06-10T01:37:47.715Z"
   },
   {
    "duration": 200,
    "start_time": "2024-06-10T01:37:49.752Z"
   },
   {
    "duration": 347,
    "start_time": "2024-06-10T01:38:01.689Z"
   },
   {
    "duration": 1305,
    "start_time": "2024-06-10T01:38:15.754Z"
   },
   {
    "duration": 215,
    "start_time": "2024-06-10T01:38:48.226Z"
   },
   {
    "duration": 253,
    "start_time": "2024-06-10T01:39:02.715Z"
   },
   {
    "duration": 242,
    "start_time": "2024-06-10T01:39:30.342Z"
   },
   {
    "duration": 241,
    "start_time": "2024-06-10T01:39:40.826Z"
   },
   {
    "duration": 225,
    "start_time": "2024-06-10T01:40:01.686Z"
   },
   {
    "duration": 216,
    "start_time": "2024-06-10T01:40:09.009Z"
   },
   {
    "duration": 291,
    "start_time": "2024-06-10T01:40:55.996Z"
   },
   {
    "duration": 252,
    "start_time": "2024-06-10T01:41:31.508Z"
   },
   {
    "duration": 199,
    "start_time": "2024-06-10T01:42:00.940Z"
   },
   {
    "duration": 13,
    "start_time": "2024-06-10T01:42:07.621Z"
   },
   {
    "duration": 82,
    "start_time": "2024-06-10T01:42:30.810Z"
   },
   {
    "duration": 28,
    "start_time": "2024-06-10T01:42:38.769Z"
   },
   {
    "duration": 6,
    "start_time": "2024-06-10T01:42:42.912Z"
   },
   {
    "duration": 64,
    "start_time": "2024-06-10T01:42:51.891Z"
   },
   {
    "duration": 9,
    "start_time": "2024-06-10T01:42:59.139Z"
   },
   {
    "duration": 12,
    "start_time": "2024-06-10T01:43:00.671Z"
   },
   {
    "duration": 87,
    "start_time": "2024-06-10T01:43:10.242Z"
   },
   {
    "duration": 64,
    "start_time": "2024-06-10T01:43:17.190Z"
   },
   {
    "duration": 6,
    "start_time": "2024-06-10T01:43:28.495Z"
   },
   {
    "duration": 34,
    "start_time": "2024-06-10T01:43:31.055Z"
   },
   {
    "duration": 93,
    "start_time": "2024-06-10T01:43:37.291Z"
   },
   {
    "duration": 86,
    "start_time": "2024-06-10T01:43:43.240Z"
   },
   {
    "duration": 29,
    "start_time": "2024-06-10T01:43:49.892Z"
   },
   {
    "duration": 20,
    "start_time": "2024-06-10T01:43:50.973Z"
   },
   {
    "duration": 79,
    "start_time": "2024-06-10T01:43:57.242Z"
   },
   {
    "duration": 23,
    "start_time": "2024-06-10T01:44:03.679Z"
   },
   {
    "duration": 28,
    "start_time": "2024-06-10T01:44:05.848Z"
   },
   {
    "duration": 71,
    "start_time": "2024-06-10T01:44:10.116Z"
   },
   {
    "duration": 124,
    "start_time": "2024-06-10T01:44:13.726Z"
   },
   {
    "duration": 73,
    "start_time": "2024-06-10T01:44:19.758Z"
   },
   {
    "duration": 79,
    "start_time": "2024-06-10T01:44:21.446Z"
   },
   {
    "duration": 186,
    "start_time": "2024-06-10T01:44:29.038Z"
   },
   {
    "duration": 88,
    "start_time": "2024-06-10T01:44:36.381Z"
   },
   {
    "duration": 24,
    "start_time": "2024-06-10T01:44:38.308Z"
   },
   {
    "duration": 14,
    "start_time": "2024-06-10T01:44:39.607Z"
   },
   {
    "duration": 9,
    "start_time": "2024-06-10T01:44:45.455Z"
   },
   {
    "duration": 20,
    "start_time": "2024-06-10T01:45:00.531Z"
   },
   {
    "duration": 13,
    "start_time": "2024-06-10T01:45:06.097Z"
   },
   {
    "duration": 22,
    "start_time": "2024-06-10T01:45:11.994Z"
   },
   {
    "duration": 31,
    "start_time": "2024-06-10T01:45:24.556Z"
   },
   {
    "duration": 189,
    "start_time": "2024-06-10T01:45:39.957Z"
   },
   {
    "duration": 9,
    "start_time": "2024-06-10T01:45:42.846Z"
   },
   {
    "duration": 28,
    "start_time": "2024-06-10T01:45:43.367Z"
   },
   {
    "duration": 8,
    "start_time": "2024-06-10T01:45:44.706Z"
   },
   {
    "duration": 13,
    "start_time": "2024-06-10T01:45:45.530Z"
   },
   {
    "duration": 7,
    "start_time": "2024-06-10T01:45:45.993Z"
   },
   {
    "duration": 31,
    "start_time": "2024-06-10T01:45:46.855Z"
   },
   {
    "duration": 25,
    "start_time": "2024-06-10T01:45:47.744Z"
   },
   {
    "duration": 29,
    "start_time": "2024-06-10T01:45:48.511Z"
   },
   {
    "duration": 74,
    "start_time": "2024-06-10T01:45:50.861Z"
   },
   {
    "duration": 129,
    "start_time": "2024-06-10T01:45:55.869Z"
   },
   {
    "duration": 79,
    "start_time": "2024-06-10T01:46:01.475Z"
   },
   {
    "duration": 80,
    "start_time": "2024-06-10T01:46:10.738Z"
   },
   {
    "duration": 136,
    "start_time": "2024-06-10T01:46:14.726Z"
   },
   {
    "duration": 86,
    "start_time": "2024-06-10T01:46:31.822Z"
   },
   {
    "duration": 29,
    "start_time": "2024-06-10T01:46:36.070Z"
   },
   {
    "duration": 3,
    "start_time": "2024-06-10T01:46:55.321Z"
   },
   {
    "duration": 205,
    "start_time": "2024-06-10T01:46:56.359Z"
   },
   {
    "duration": 10,
    "start_time": "2024-06-10T01:46:57.210Z"
   },
   {
    "duration": 28,
    "start_time": "2024-06-10T01:46:58.038Z"
   },
   {
    "duration": 5,
    "start_time": "2024-06-10T01:46:59.489Z"
   },
   {
    "duration": 18,
    "start_time": "2024-06-10T01:47:00.064Z"
   },
   {
    "duration": 5,
    "start_time": "2024-06-10T01:47:00.759Z"
   },
   {
    "duration": 31,
    "start_time": "2024-06-10T01:47:01.118Z"
   },
   {
    "duration": 24,
    "start_time": "2024-06-10T01:47:01.866Z"
   },
   {
    "duration": 30,
    "start_time": "2024-06-10T01:47:02.570Z"
   },
   {
    "duration": 76,
    "start_time": "2024-06-10T01:47:03.250Z"
   },
   {
    "duration": 82,
    "start_time": "2024-06-10T01:47:03.913Z"
   },
   {
    "duration": 20,
    "start_time": "2024-06-10T01:47:04.954Z"
   },
   {
    "duration": 13,
    "start_time": "2024-06-10T01:47:12.306Z"
   },
   {
    "duration": 10,
    "start_time": "2024-06-10T01:47:20.790Z"
   },
   {
    "duration": 4,
    "start_time": "2024-06-10T01:47:37.085Z"
   },
   {
    "duration": 196,
    "start_time": "2024-06-10T01:47:37.663Z"
   },
   {
    "duration": 10,
    "start_time": "2024-06-10T01:47:38.259Z"
   },
   {
    "duration": 30,
    "start_time": "2024-06-10T01:47:39.260Z"
   },
   {
    "duration": 6,
    "start_time": "2024-06-10T01:47:40.097Z"
   },
   {
    "duration": 18,
    "start_time": "2024-06-10T01:47:40.546Z"
   },
   {
    "duration": 7,
    "start_time": "2024-06-10T01:47:41.280Z"
   },
   {
    "duration": 31,
    "start_time": "2024-06-10T01:47:42.460Z"
   },
   {
    "duration": 25,
    "start_time": "2024-06-10T01:47:42.784Z"
   },
   {
    "duration": 30,
    "start_time": "2024-06-10T01:47:52.143Z"
   },
   {
    "duration": 75,
    "start_time": "2024-06-10T01:47:53.236Z"
   },
   {
    "duration": 83,
    "start_time": "2024-06-10T01:47:54.275Z"
   },
   {
    "duration": 139,
    "start_time": "2024-06-10T01:48:19.386Z"
   },
   {
    "duration": 91,
    "start_time": "2024-06-10T01:48:25.589Z"
   },
   {
    "duration": 79,
    "start_time": "2024-06-10T01:52:06.977Z"
   },
   {
    "duration": 81,
    "start_time": "2024-06-10T01:52:30.920Z"
   },
   {
    "duration": 80,
    "start_time": "2024-06-10T01:54:43.756Z"
   },
   {
    "duration": 86,
    "start_time": "2024-06-10T01:55:00.795Z"
   },
   {
    "duration": 55,
    "start_time": "2024-06-10T01:55:10.821Z"
   },
   {
    "duration": 58,
    "start_time": "2024-06-10T01:55:52.448Z"
   },
   {
    "duration": 5,
    "start_time": "2024-06-10T02:00:29.631Z"
   },
   {
    "duration": 20,
    "start_time": "2024-06-10T02:00:31.654Z"
   },
   {
    "duration": 21,
    "start_time": "2024-06-10T02:00:59.768Z"
   },
   {
    "duration": 10,
    "start_time": "2024-06-10T02:01:02.561Z"
   },
   {
    "duration": 1163,
    "start_time": "2024-06-10T02:02:04.417Z"
   },
   {
    "duration": 480,
    "start_time": "2024-06-10T02:09:31.461Z"
   },
   {
    "duration": 45,
    "start_time": "2024-06-10T02:10:05.490Z"
   },
   {
    "duration": 34,
    "start_time": "2024-06-10T02:14:03.200Z"
   },
   {
    "duration": 37,
    "start_time": "2024-06-10T02:15:36.436Z"
   },
   {
    "duration": 50,
    "start_time": "2024-06-10T02:18:02.478Z"
   },
   {
    "duration": 11,
    "start_time": "2024-06-10T02:18:13.399Z"
   },
   {
    "duration": 35,
    "start_time": "2024-06-10T02:18:21.516Z"
   },
   {
    "duration": 33,
    "start_time": "2024-06-10T02:18:32.225Z"
   },
   {
    "duration": 39,
    "start_time": "2024-06-10T02:22:39.871Z"
   },
   {
    "duration": 37,
    "start_time": "2024-06-10T02:23:29.131Z"
   },
   {
    "duration": 38,
    "start_time": "2024-06-10T02:23:59.249Z"
   },
   {
    "duration": 16,
    "start_time": "2024-06-10T02:35:39.200Z"
   },
   {
    "duration": 23,
    "start_time": "2024-06-10T02:35:51.508Z"
   },
   {
    "duration": 28,
    "start_time": "2024-06-10T02:37:07.304Z"
   },
   {
    "duration": 30,
    "start_time": "2024-06-10T02:39:55.123Z"
   },
   {
    "duration": 32,
    "start_time": "2024-06-10T02:41:17.459Z"
   },
   {
    "duration": 16,
    "start_time": "2024-06-10T02:42:05.627Z"
   },
   {
    "duration": 58,
    "start_time": "2024-06-10T02:43:55.136Z"
   },
   {
    "duration": 42,
    "start_time": "2024-06-10T02:44:03.327Z"
   },
   {
    "duration": 34,
    "start_time": "2024-06-10T02:44:03.761Z"
   },
   {
    "duration": 31,
    "start_time": "2024-06-10T03:32:50.849Z"
   },
   {
    "duration": 28,
    "start_time": "2024-06-10T03:32:52.591Z"
   },
   {
    "duration": 5,
    "start_time": "2024-06-10T03:36:01.327Z"
   },
   {
    "duration": 11,
    "start_time": "2024-06-10T03:36:22.611Z"
   },
   {
    "duration": 7,
    "start_time": "2024-06-10T03:36:33.441Z"
   },
   {
    "duration": 8,
    "start_time": "2024-06-10T03:36:38.125Z"
   },
   {
    "duration": 9,
    "start_time": "2024-06-10T03:36:45.679Z"
   },
   {
    "duration": 7,
    "start_time": "2024-06-10T03:36:51.914Z"
   },
   {
    "duration": 16,
    "start_time": "2024-06-10T03:37:36.751Z"
   },
   {
    "duration": 28,
    "start_time": "2024-06-10T03:38:47.140Z"
   },
   {
    "duration": 302,
    "start_time": "2024-06-10T03:38:54.500Z"
   },
   {
    "duration": 60,
    "start_time": "2024-06-10T03:39:18.821Z"
   },
   {
    "duration": 19,
    "start_time": "2024-06-10T03:43:10.824Z"
   },
   {
    "duration": 33,
    "start_time": "2024-06-10T03:44:16.025Z"
   },
   {
    "duration": 36,
    "start_time": "2024-06-10T03:44:21.300Z"
   },
   {
    "duration": 39,
    "start_time": "2024-06-10T03:44:29.531Z"
   },
   {
    "duration": 44,
    "start_time": "2024-06-10T03:44:59.154Z"
   },
   {
    "duration": 10,
    "start_time": "2024-06-10T03:46:20.111Z"
   },
   {
    "duration": 35,
    "start_time": "2024-06-10T03:47:12.944Z"
   },
   {
    "duration": 38,
    "start_time": "2024-06-10T03:48:46.817Z"
   },
   {
    "duration": 32,
    "start_time": "2024-06-10T03:49:13.535Z"
   },
   {
    "duration": 40,
    "start_time": "2024-06-10T03:49:18.435Z"
   },
   {
    "duration": 24,
    "start_time": "2024-06-10T03:52:46.327Z"
   },
   {
    "duration": 29,
    "start_time": "2024-06-10T03:53:37.564Z"
   },
   {
    "duration": 8,
    "start_time": "2024-06-10T03:53:54.109Z"
   },
   {
    "duration": 14,
    "start_time": "2024-06-10T03:55:58.624Z"
   },
   {
    "duration": 10,
    "start_time": "2024-06-10T03:56:17.268Z"
   },
   {
    "duration": 34,
    "start_time": "2024-06-10T04:00:57.256Z"
   },
   {
    "duration": 43,
    "start_time": "2024-06-10T04:01:01.474Z"
   },
   {
    "duration": 8,
    "start_time": "2024-06-10T04:01:59.737Z"
   },
   {
    "duration": 9,
    "start_time": "2024-06-10T04:02:01.293Z"
   },
   {
    "duration": 6,
    "start_time": "2024-06-10T04:05:32.626Z"
   },
   {
    "duration": 33,
    "start_time": "2024-06-10T04:08:41.127Z"
   },
   {
    "duration": 127,
    "start_time": "2024-06-10T04:08:56.714Z"
   },
   {
    "duration": 189,
    "start_time": "2024-06-10T04:09:13.396Z"
   },
   {
    "duration": 98,
    "start_time": "2024-06-10T04:10:46.860Z"
   },
   {
    "duration": 137,
    "start_time": "2024-06-10T04:12:35.289Z"
   },
   {
    "duration": 100,
    "start_time": "2024-06-10T04:12:53.485Z"
   },
   {
    "duration": 95,
    "start_time": "2024-06-10T04:13:01.911Z"
   },
   {
    "duration": 85,
    "start_time": "2024-06-10T04:13:14.041Z"
   },
   {
    "duration": 4,
    "start_time": "2024-06-10T04:13:22.404Z"
   },
   {
    "duration": 203,
    "start_time": "2024-06-10T04:13:23.346Z"
   },
   {
    "duration": 10,
    "start_time": "2024-06-10T04:13:23.858Z"
   },
   {
    "duration": 44,
    "start_time": "2024-06-10T04:13:24.630Z"
   },
   {
    "duration": 7,
    "start_time": "2024-06-10T04:13:25.817Z"
   },
   {
    "duration": 13,
    "start_time": "2024-06-10T04:13:26.375Z"
   },
   {
    "duration": 6,
    "start_time": "2024-06-10T04:13:26.940Z"
   },
   {
    "duration": 56,
    "start_time": "2024-06-10T04:13:27.538Z"
   },
   {
    "duration": 24,
    "start_time": "2024-06-10T04:13:28.222Z"
   },
   {
    "duration": 37,
    "start_time": "2024-06-10T04:13:28.895Z"
   },
   {
    "duration": 83,
    "start_time": "2024-06-10T04:13:29.540Z"
   },
   {
    "duration": 89,
    "start_time": "2024-06-10T04:13:30.263Z"
   },
   {
    "duration": 118,
    "start_time": "2024-06-10T04:13:30.942Z"
   },
   {
    "duration": 102,
    "start_time": "2024-06-10T04:13:31.647Z"
   },
   {
    "duration": 55,
    "start_time": "2024-06-10T04:13:33.342Z"
   },
   {
    "duration": 4,
    "start_time": "2024-06-10T04:13:35.040Z"
   },
   {
    "duration": 21,
    "start_time": "2024-06-10T04:13:36.164Z"
   },
   {
    "duration": 10,
    "start_time": "2024-06-10T04:13:37.486Z"
   },
   {
    "duration": 52,
    "start_time": "2024-06-10T04:13:41.450Z"
   },
   {
    "duration": 36,
    "start_time": "2024-06-10T04:13:42.460Z"
   },
   {
    "duration": 9,
    "start_time": "2024-06-10T04:13:44.376Z"
   },
   {
    "duration": 11,
    "start_time": "2024-06-10T04:13:52.913Z"
   },
   {
    "duration": 19,
    "start_time": "2024-06-10T04:14:01.428Z"
   },
   {
    "duration": 8,
    "start_time": "2024-06-10T04:15:15.425Z"
   },
   {
    "duration": 9,
    "start_time": "2024-06-10T04:15:27.117Z"
   },
   {
    "duration": 30,
    "start_time": "2024-06-10T04:17:06.260Z"
   },
   {
    "duration": 45,
    "start_time": "2024-06-10T04:18:18.292Z"
   },
   {
    "duration": 26,
    "start_time": "2024-06-10T04:19:26.723Z"
   },
   {
    "duration": 36,
    "start_time": "2024-06-10T04:19:38.076Z"
   },
   {
    "duration": 481,
    "start_time": "2024-06-10T05:44:09.104Z"
   },
   {
    "duration": 233,
    "start_time": "2024-06-10T05:44:09.588Z"
   },
   {
    "duration": 12,
    "start_time": "2024-06-10T05:44:09.825Z"
   },
   {
    "duration": 35,
    "start_time": "2024-06-10T05:44:09.841Z"
   },
   {
    "duration": 30,
    "start_time": "2024-06-10T05:44:09.880Z"
   },
   {
    "duration": 13,
    "start_time": "2024-06-10T05:44:09.913Z"
   },
   {
    "duration": 9,
    "start_time": "2024-06-10T05:44:09.929Z"
   },
   {
    "duration": 66,
    "start_time": "2024-06-10T05:44:09.941Z"
   },
   {
    "duration": 26,
    "start_time": "2024-06-10T05:44:10.010Z"
   },
   {
    "duration": 28,
    "start_time": "2024-06-10T05:44:10.041Z"
   },
   {
    "duration": 99,
    "start_time": "2024-06-10T05:44:10.072Z"
   },
   {
    "duration": 93,
    "start_time": "2024-06-10T05:44:10.174Z"
   },
   {
    "duration": 92,
    "start_time": "2024-06-10T05:44:10.270Z"
   },
   {
    "duration": 82,
    "start_time": "2024-06-10T05:44:10.364Z"
   },
   {
    "duration": 62,
    "start_time": "2024-06-10T05:44:10.448Z"
   },
   {
    "duration": 8,
    "start_time": "2024-06-10T05:44:10.514Z"
   },
   {
    "duration": 21,
    "start_time": "2024-06-10T05:44:10.526Z"
   },
   {
    "duration": 12,
    "start_time": "2024-06-10T05:44:10.550Z"
   },
   {
    "duration": 73,
    "start_time": "2024-06-10T05:44:10.571Z"
   },
   {
    "duration": 29,
    "start_time": "2024-06-10T05:44:10.648Z"
   },
   {
    "duration": 33,
    "start_time": "2024-06-10T05:44:10.681Z"
   },
   {
    "duration": 8,
    "start_time": "2024-06-10T05:44:10.717Z"
   },
   {
    "duration": 13,
    "start_time": "2024-06-10T05:44:10.728Z"
   },
   {
    "duration": 65,
    "start_time": "2024-06-10T05:44:10.744Z"
   },
   {
    "duration": 465,
    "start_time": "2024-06-10T22:59:53.448Z"
   },
   {
    "duration": 239,
    "start_time": "2024-06-10T22:59:56.370Z"
   },
   {
    "duration": 11,
    "start_time": "2024-06-10T22:59:58.755Z"
   },
   {
    "duration": 29,
    "start_time": "2024-06-10T23:00:27.629Z"
   },
   {
    "duration": 19,
    "start_time": "2024-06-10T23:01:09.180Z"
   },
   {
    "duration": 18,
    "start_time": "2024-06-10T23:01:20.005Z"
   },
   {
    "duration": 24,
    "start_time": "2024-06-10T23:01:29.376Z"
   },
   {
    "duration": 30,
    "start_time": "2024-06-10T23:02:35.176Z"
   },
   {
    "duration": 35,
    "start_time": "2024-06-10T23:04:00.802Z"
   },
   {
    "duration": 5,
    "start_time": "2024-06-10T23:04:10.952Z"
   },
   {
    "duration": 11,
    "start_time": "2024-06-10T23:04:40.325Z"
   },
   {
    "duration": 6,
    "start_time": "2024-06-10T23:04:45.157Z"
   },
   {
    "duration": 31,
    "start_time": "2024-06-10T23:04:48.601Z"
   },
   {
    "duration": 31,
    "start_time": "2024-06-10T23:04:53.126Z"
   },
   {
    "duration": 28,
    "start_time": "2024-06-10T23:05:02.637Z"
   },
   {
    "duration": 74,
    "start_time": "2024-06-10T23:05:11.456Z"
   },
   {
    "duration": 92,
    "start_time": "2024-06-10T23:05:16.408Z"
   },
   {
    "duration": 87,
    "start_time": "2024-06-10T23:05:39.125Z"
   },
   {
    "duration": 90,
    "start_time": "2024-06-10T23:06:26.371Z"
   },
   {
    "duration": 105,
    "start_time": "2024-06-10T23:06:38.090Z"
   },
   {
    "duration": 74,
    "start_time": "2024-06-10T23:07:39.320Z"
   },
   {
    "duration": 69,
    "start_time": "2024-06-10T23:14:54.950Z"
   },
   {
    "duration": 56,
    "start_time": "2024-06-10T23:15:20.196Z"
   },
   {
    "duration": 61,
    "start_time": "2024-06-10T23:15:26.760Z"
   },
   {
    "duration": 3,
    "start_time": "2024-06-10T23:15:33.875Z"
   },
   {
    "duration": 20,
    "start_time": "2024-06-10T23:15:53.777Z"
   },
   {
    "duration": 20,
    "start_time": "2024-06-10T23:16:03.112Z"
   },
   {
    "duration": 9,
    "start_time": "2024-06-10T23:16:11.120Z"
   },
   {
    "duration": 9,
    "start_time": "2024-06-10T23:16:21.925Z"
   },
   {
    "duration": 35,
    "start_time": "2024-06-10T23:24:11.899Z"
   },
   {
    "duration": 37,
    "start_time": "2024-06-10T23:24:25.676Z"
   },
   {
    "duration": 29,
    "start_time": "2024-06-10T23:24:27.925Z"
   },
   {
    "duration": 52,
    "start_time": "2024-06-10T23:24:37.975Z"
   },
   {
    "duration": 52,
    "start_time": "2024-06-10T23:24:57.354Z"
   },
   {
    "duration": 8,
    "start_time": "2024-06-10T23:25:02.347Z"
   },
   {
    "duration": 9,
    "start_time": "2024-06-10T23:25:07.819Z"
   },
   {
    "duration": 7,
    "start_time": "2024-06-10T23:47:31.354Z"
   },
   {
    "duration": 52,
    "start_time": "2024-06-10T23:48:30.935Z"
   },
   {
    "duration": 8,
    "start_time": "2024-06-10T23:48:40.447Z"
   },
   {
    "duration": 9,
    "start_time": "2024-06-10T23:48:56.438Z"
   },
   {
    "duration": 8,
    "start_time": "2024-06-10T23:49:02.928Z"
   },
   {
    "duration": 7,
    "start_time": "2024-06-10T23:49:33.374Z"
   },
   {
    "duration": 7,
    "start_time": "2024-06-10T23:51:10.625Z"
   },
   {
    "duration": 31,
    "start_time": "2024-06-10T23:53:25.341Z"
   },
   {
    "duration": 3,
    "start_time": "2024-06-10T23:54:29.071Z"
   },
   {
    "duration": 201,
    "start_time": "2024-06-10T23:54:29.078Z"
   },
   {
    "duration": 20,
    "start_time": "2024-06-10T23:54:29.282Z"
   },
   {
    "duration": 52,
    "start_time": "2024-06-10T23:54:29.306Z"
   },
   {
    "duration": 6,
    "start_time": "2024-06-10T23:54:29.361Z"
   },
   {
    "duration": 15,
    "start_time": "2024-06-10T23:54:29.370Z"
   },
   {
    "duration": 7,
    "start_time": "2024-06-10T23:54:29.389Z"
   },
   {
    "duration": 30,
    "start_time": "2024-06-10T23:54:29.436Z"
   },
   {
    "duration": 23,
    "start_time": "2024-06-10T23:54:29.471Z"
   },
   {
    "duration": 67,
    "start_time": "2024-06-10T23:54:29.497Z"
   },
   {
    "duration": 100,
    "start_time": "2024-06-10T23:54:29.567Z"
   },
   {
    "duration": 119,
    "start_time": "2024-06-10T23:54:29.670Z"
   },
   {
    "duration": 79,
    "start_time": "2024-06-10T23:54:41.577Z"
   },
   {
    "duration": 81,
    "start_time": "2024-06-10T23:55:30.402Z"
   },
   {
    "duration": 72,
    "start_time": "2024-06-10T23:56:25.002Z"
   },
   {
    "duration": 3,
    "start_time": "2024-06-10T23:56:39.396Z"
   },
   {
    "duration": 215,
    "start_time": "2024-06-10T23:56:39.404Z"
   },
   {
    "duration": 22,
    "start_time": "2024-06-10T23:56:39.622Z"
   },
   {
    "duration": 36,
    "start_time": "2024-06-10T23:56:39.646Z"
   },
   {
    "duration": 6,
    "start_time": "2024-06-10T23:56:39.686Z"
   },
   {
    "duration": 46,
    "start_time": "2024-06-10T23:56:39.695Z"
   },
   {
    "duration": 6,
    "start_time": "2024-06-10T23:56:39.744Z"
   },
   {
    "duration": 30,
    "start_time": "2024-06-10T23:56:39.753Z"
   },
   {
    "duration": 67,
    "start_time": "2024-06-10T23:56:39.785Z"
   },
   {
    "duration": 27,
    "start_time": "2024-06-10T23:56:39.855Z"
   },
   {
    "duration": 73,
    "start_time": "2024-06-10T23:56:46.907Z"
   },
   {
    "duration": 77,
    "start_time": "2024-06-10T23:57:01.086Z"
   },
   {
    "duration": 75,
    "start_time": "2024-06-10T23:57:14.630Z"
   },
   {
    "duration": 106,
    "start_time": "2024-06-10T23:57:17.493Z"
   },
   {
    "duration": 94,
    "start_time": "2024-06-10T23:57:26.208Z"
   },
   {
    "duration": 4,
    "start_time": "2024-06-10T23:58:11.270Z"
   },
   {
    "duration": 199,
    "start_time": "2024-06-10T23:58:11.279Z"
   },
   {
    "duration": 17,
    "start_time": "2024-06-10T23:58:11.481Z"
   },
   {
    "duration": 50,
    "start_time": "2024-06-10T23:58:11.502Z"
   },
   {
    "duration": 5,
    "start_time": "2024-06-10T23:58:11.557Z"
   },
   {
    "duration": 13,
    "start_time": "2024-06-10T23:58:11.566Z"
   },
   {
    "duration": 6,
    "start_time": "2024-06-10T23:58:11.581Z"
   },
   {
    "duration": 33,
    "start_time": "2024-06-10T23:58:11.634Z"
   },
   {
    "duration": 24,
    "start_time": "2024-06-10T23:58:11.670Z"
   },
   {
    "duration": 55,
    "start_time": "2024-06-10T23:58:11.696Z"
   },
   {
    "duration": 96,
    "start_time": "2024-06-10T23:58:11.754Z"
   },
   {
    "duration": 120,
    "start_time": "2024-06-10T23:58:11.853Z"
   },
   {
    "duration": 90,
    "start_time": "2024-06-10T23:58:32.977Z"
   },
   {
    "duration": 80,
    "start_time": "2024-06-10T23:58:51.913Z"
   },
   {
    "duration": 71,
    "start_time": "2024-06-10T23:58:52.762Z"
   },
   {
    "duration": 56,
    "start_time": "2024-06-10T23:58:54.267Z"
   },
   {
    "duration": 4,
    "start_time": "2024-06-10T23:58:54.934Z"
   },
   {
    "duration": 20,
    "start_time": "2024-06-10T23:58:55.585Z"
   },
   {
    "duration": 9,
    "start_time": "2024-06-10T23:58:56.616Z"
   },
   {
    "duration": 45,
    "start_time": "2024-06-10T23:59:28.222Z"
   },
   {
    "duration": 42,
    "start_time": "2024-06-10T23:59:52.702Z"
   },
   {
    "duration": 55,
    "start_time": "2024-06-10T23:59:57.815Z"
   },
   {
    "duration": 9,
    "start_time": "2024-06-11T00:00:00.220Z"
   },
   {
    "duration": 7,
    "start_time": "2024-06-11T00:00:04.517Z"
   },
   {
    "duration": 4,
    "start_time": "2024-06-11T00:00:26.755Z"
   },
   {
    "duration": 192,
    "start_time": "2024-06-11T00:00:26.763Z"
   },
   {
    "duration": 17,
    "start_time": "2024-06-11T00:00:26.958Z"
   },
   {
    "duration": 59,
    "start_time": "2024-06-11T00:00:26.980Z"
   },
   {
    "duration": 6,
    "start_time": "2024-06-11T00:00:27.042Z"
   },
   {
    "duration": 13,
    "start_time": "2024-06-11T00:00:27.052Z"
   },
   {
    "duration": 7,
    "start_time": "2024-06-11T00:00:27.068Z"
   },
   {
    "duration": 74,
    "start_time": "2024-06-11T00:00:27.078Z"
   },
   {
    "duration": 26,
    "start_time": "2024-06-11T00:00:27.155Z"
   },
   {
    "duration": 50,
    "start_time": "2024-06-11T00:00:27.186Z"
   },
   {
    "duration": 94,
    "start_time": "2024-06-11T00:00:27.240Z"
   },
   {
    "duration": 119,
    "start_time": "2024-06-11T00:00:27.337Z"
   },
   {
    "duration": 98,
    "start_time": "2024-06-11T00:00:27.459Z"
   },
   {
    "duration": 86,
    "start_time": "2024-06-11T00:00:27.561Z"
   },
   {
    "duration": 52,
    "start_time": "2024-06-11T00:00:27.651Z"
   },
   {
    "duration": 4,
    "start_time": "2024-06-11T00:00:27.706Z"
   },
   {
    "duration": 20,
    "start_time": "2024-06-11T00:00:27.734Z"
   },
   {
    "duration": 9,
    "start_time": "2024-06-11T00:00:27.757Z"
   },
   {
    "duration": 70,
    "start_time": "2024-06-11T00:00:27.769Z"
   },
   {
    "duration": 57,
    "start_time": "2024-06-11T00:00:27.842Z"
   },
   {
    "duration": 32,
    "start_time": "2024-06-11T00:00:27.902Z"
   },
   {
    "duration": 7,
    "start_time": "2024-06-11T00:00:30.998Z"
   },
   {
    "duration": 8,
    "start_time": "2024-06-11T00:00:56.792Z"
   },
   {
    "duration": 55,
    "start_time": "2024-06-11T00:01:39.716Z"
   },
   {
    "duration": 53,
    "start_time": "2024-06-11T00:02:04.102Z"
   },
   {
    "duration": 31,
    "start_time": "2024-06-11T00:02:22.650Z"
   },
   {
    "duration": 3,
    "start_time": "2024-06-11T00:02:33.473Z"
   },
   {
    "duration": 192,
    "start_time": "2024-06-11T00:02:33.481Z"
   },
   {
    "duration": 18,
    "start_time": "2024-06-11T00:02:33.676Z"
   },
   {
    "duration": 53,
    "start_time": "2024-06-11T00:02:33.697Z"
   },
   {
    "duration": 5,
    "start_time": "2024-06-11T00:02:33.755Z"
   },
   {
    "duration": 13,
    "start_time": "2024-06-11T00:02:33.764Z"
   },
   {
    "duration": 6,
    "start_time": "2024-06-11T00:02:33.780Z"
   },
   {
    "duration": 72,
    "start_time": "2024-06-11T00:02:33.789Z"
   },
   {
    "duration": 25,
    "start_time": "2024-06-11T00:02:33.864Z"
   },
   {
    "duration": 57,
    "start_time": "2024-06-11T00:02:33.892Z"
   },
   {
    "duration": 109,
    "start_time": "2024-06-11T00:02:33.952Z"
   },
   {
    "duration": 127,
    "start_time": "2024-06-11T00:02:34.066Z"
   },
   {
    "duration": 112,
    "start_time": "2024-06-11T00:02:34.196Z"
   },
   {
    "duration": 79,
    "start_time": "2024-06-11T00:02:34.313Z"
   },
   {
    "duration": 69,
    "start_time": "2024-06-11T00:02:34.395Z"
   },
   {
    "duration": 4,
    "start_time": "2024-06-11T00:02:34.468Z"
   },
   {
    "duration": 20,
    "start_time": "2024-06-11T00:02:34.475Z"
   },
   {
    "duration": 10,
    "start_time": "2024-06-11T00:02:34.497Z"
   },
   {
    "duration": 38,
    "start_time": "2024-06-11T00:02:38.564Z"
   },
   {
    "duration": 41,
    "start_time": "2024-06-11T00:03:11.313Z"
   },
   {
    "duration": 3,
    "start_time": "2024-06-11T00:06:07.474Z"
   },
   {
    "duration": 200,
    "start_time": "2024-06-11T00:06:07.481Z"
   },
   {
    "duration": 18,
    "start_time": "2024-06-11T00:06:07.684Z"
   },
   {
    "duration": 58,
    "start_time": "2024-06-11T00:06:07.707Z"
   },
   {
    "duration": 6,
    "start_time": "2024-06-11T00:06:07.769Z"
   },
   {
    "duration": 15,
    "start_time": "2024-06-11T00:06:07.780Z"
   },
   {
    "duration": 38,
    "start_time": "2024-06-11T00:06:07.798Z"
   },
   {
    "duration": 34,
    "start_time": "2024-06-11T00:06:07.839Z"
   },
   {
    "duration": 26,
    "start_time": "2024-06-11T00:06:07.876Z"
   },
   {
    "duration": 30,
    "start_time": "2024-06-11T00:06:07.939Z"
   },
   {
    "duration": 104,
    "start_time": "2024-06-11T00:06:07.972Z"
   },
   {
    "duration": 122,
    "start_time": "2024-06-11T00:06:08.081Z"
   },
   {
    "duration": 102,
    "start_time": "2024-06-11T00:06:08.206Z"
   },
   {
    "duration": 87,
    "start_time": "2024-06-11T00:06:08.311Z"
   },
   {
    "duration": 73,
    "start_time": "2024-06-11T00:06:08.401Z"
   },
   {
    "duration": 4,
    "start_time": "2024-06-11T00:06:08.478Z"
   },
   {
    "duration": 52,
    "start_time": "2024-06-11T00:06:08.485Z"
   },
   {
    "duration": 9,
    "start_time": "2024-06-11T00:06:08.540Z"
   },
   {
    "duration": 3,
    "start_time": "2024-06-11T00:07:07.326Z"
   },
   {
    "duration": 208,
    "start_time": "2024-06-11T00:07:07.334Z"
   },
   {
    "duration": 17,
    "start_time": "2024-06-11T00:07:07.545Z"
   },
   {
    "duration": 40,
    "start_time": "2024-06-11T00:07:07.565Z"
   },
   {
    "duration": 6,
    "start_time": "2024-06-11T00:07:07.637Z"
   },
   {
    "duration": 14,
    "start_time": "2024-06-11T00:07:07.646Z"
   },
   {
    "duration": 7,
    "start_time": "2024-06-11T00:07:07.663Z"
   },
   {
    "duration": 69,
    "start_time": "2024-06-11T00:07:07.673Z"
   },
   {
    "duration": 26,
    "start_time": "2024-06-11T00:07:07.745Z"
   },
   {
    "duration": 64,
    "start_time": "2024-06-11T00:07:07.774Z"
   },
   {
    "duration": 95,
    "start_time": "2024-06-11T00:07:07.841Z"
   },
   {
    "duration": 128,
    "start_time": "2024-06-11T00:07:07.939Z"
   },
   {
    "duration": 108,
    "start_time": "2024-06-11T00:07:08.070Z"
   },
   {
    "duration": 90,
    "start_time": "2024-06-11T00:07:08.183Z"
   },
   {
    "duration": 66,
    "start_time": "2024-06-11T00:07:08.276Z"
   },
   {
    "duration": 5,
    "start_time": "2024-06-11T00:07:08.345Z"
   },
   {
    "duration": 20,
    "start_time": "2024-06-11T00:07:08.353Z"
   },
   {
    "duration": 8,
    "start_time": "2024-06-11T00:07:08.376Z"
   },
   {
    "duration": 17,
    "start_time": "2024-06-11T00:07:12.402Z"
   },
   {
    "duration": 42,
    "start_time": "2024-06-11T00:07:31.117Z"
   },
   {
    "duration": 7,
    "start_time": "2024-06-11T00:07:34.809Z"
   },
   {
    "duration": 8,
    "start_time": "2024-06-11T00:07:35.632Z"
   },
   {
    "duration": 14,
    "start_time": "2024-06-11T00:07:38.255Z"
   },
   {
    "duration": 22,
    "start_time": "2024-06-11T00:07:39.844Z"
   },
   {
    "duration": 33,
    "start_time": "2024-06-11T04:33:41.846Z"
   },
   {
    "duration": 462,
    "start_time": "2024-06-11T17:46:28.316Z"
   },
   {
    "duration": 232,
    "start_time": "2024-06-11T17:46:29.100Z"
   },
   {
    "duration": 31,
    "start_time": "2024-06-11T17:46:29.955Z"
   },
   {
    "duration": 44,
    "start_time": "2024-06-11T17:46:33.567Z"
   },
   {
    "duration": 7,
    "start_time": "2024-06-11T17:46:41.661Z"
   },
   {
    "duration": 14,
    "start_time": "2024-06-11T17:46:43.343Z"
   },
   {
    "duration": 6,
    "start_time": "2024-06-11T17:46:47.788Z"
   },
   {
    "duration": 31,
    "start_time": "2024-06-11T17:46:49.778Z"
   },
   {
    "duration": 26,
    "start_time": "2024-06-11T17:47:02.990Z"
   },
   {
    "duration": 29,
    "start_time": "2024-06-11T17:47:06.700Z"
   },
   {
    "duration": 77,
    "start_time": "2024-06-11T17:47:13.171Z"
   },
   {
    "duration": 72,
    "start_time": "2024-06-11T17:47:56.752Z"
   },
   {
    "duration": 111,
    "start_time": "2024-06-11T17:47:58.475Z"
   },
   {
    "duration": 111,
    "start_time": "2024-06-11T17:49:40.110Z"
   },
   {
    "duration": 86,
    "start_time": "2024-06-11T17:49:44.881Z"
   },
   {
    "duration": 85,
    "start_time": "2024-06-11T17:53:30.321Z"
   },
   {
    "duration": 83,
    "start_time": "2024-06-11T17:53:43.739Z"
   },
   {
    "duration": 75,
    "start_time": "2024-06-11T17:53:48.054Z"
   },
   {
    "duration": 53,
    "start_time": "2024-06-11T17:54:03.986Z"
   },
   {
    "duration": 55,
    "start_time": "2024-06-11T17:54:12.030Z"
   },
   {
    "duration": 4,
    "start_time": "2024-06-11T17:54:13.297Z"
   },
   {
    "duration": 4,
    "start_time": "2024-06-11T17:54:54.880Z"
   },
   {
    "duration": 20,
    "start_time": "2024-06-11T17:54:57.024Z"
   },
   {
    "duration": 9,
    "start_time": "2024-06-11T17:55:02.027Z"
   },
   {
    "duration": 10,
    "start_time": "2024-06-11T17:55:12.386Z"
   },
   {
    "duration": 16,
    "start_time": "2024-06-11T17:55:19.350Z"
   },
   {
    "duration": 19,
    "start_time": "2024-06-11T17:56:32.567Z"
   },
   {
    "duration": 422,
    "start_time": "2024-06-11T18:13:56.065Z"
   },
   {
    "duration": 125,
    "start_time": "2024-06-11T18:14:09.944Z"
   },
   {
    "duration": 111,
    "start_time": "2024-06-11T18:14:34.607Z"
   },
   {
    "duration": 95,
    "start_time": "2024-06-11T18:14:45.605Z"
   },
   {
    "duration": 80,
    "start_time": "2024-06-11T18:15:05.958Z"
   },
   {
    "duration": 66,
    "start_time": "2024-06-11T18:15:07.015Z"
   },
   {
    "duration": 54,
    "start_time": "2024-06-11T18:15:08.843Z"
   },
   {
    "duration": 3,
    "start_time": "2024-06-11T18:15:09.404Z"
   },
   {
    "duration": 19,
    "start_time": "2024-06-11T18:15:10.158Z"
   },
   {
    "duration": 9,
    "start_time": "2024-06-11T18:15:11.689Z"
   },
   {
    "duration": 19,
    "start_time": "2024-06-11T18:15:18.365Z"
   },
   {
    "duration": 930,
    "start_time": "2024-06-11T18:21:17.056Z"
   },
   {
    "duration": 14,
    "start_time": "2024-06-11T18:21:37.968Z"
   },
   {
    "duration": 73,
    "start_time": "2024-06-11T18:21:42.415Z"
   },
   {
    "duration": 9,
    "start_time": "2024-06-11T18:22:16.794Z"
   },
   {
    "duration": 77,
    "start_time": "2024-06-11T18:22:17.914Z"
   },
   {
    "duration": 28,
    "start_time": "2024-06-11T18:23:09.011Z"
   },
   {
    "duration": 29,
    "start_time": "2024-06-11T18:23:09.828Z"
   },
   {
    "duration": 16,
    "start_time": "2024-06-11T18:25:54.950Z"
   },
   {
    "duration": 31,
    "start_time": "2024-06-11T18:25:55.417Z"
   },
   {
    "duration": 46,
    "start_time": "2024-06-11T18:26:06.734Z"
   },
   {
    "duration": 46,
    "start_time": "2024-06-11T18:26:39.311Z"
   },
   {
    "duration": 7,
    "start_time": "2024-06-11T18:26:41.786Z"
   },
   {
    "duration": 8,
    "start_time": "2024-06-11T18:26:51.333Z"
   },
   {
    "duration": 9,
    "start_time": "2024-06-11T18:28:17.264Z"
   },
   {
    "duration": 7,
    "start_time": "2024-06-11T18:29:14.975Z"
   },
   {
    "duration": 7,
    "start_time": "2024-06-11T18:29:54.838Z"
   },
   {
    "duration": 14,
    "start_time": "2024-06-11T18:29:57.372Z"
   },
   {
    "duration": 15,
    "start_time": "2024-06-11T18:30:22.114Z"
   },
   {
    "duration": 15,
    "start_time": "2024-06-11T18:31:04.599Z"
   },
   {
    "duration": 33,
    "start_time": "2024-06-11T18:31:11.519Z"
   },
   {
    "duration": 76,
    "start_time": "2024-06-11T18:31:52.867Z"
   },
   {
    "duration": 33,
    "start_time": "2024-06-11T18:31:54.519Z"
   },
   {
    "duration": 72,
    "start_time": "2024-06-11T18:32:09.185Z"
   },
   {
    "duration": 3,
    "start_time": "2024-06-11T18:32:48.154Z"
   },
   {
    "duration": 211,
    "start_time": "2024-06-11T18:32:48.162Z"
   },
   {
    "duration": 18,
    "start_time": "2024-06-11T18:32:48.376Z"
   },
   {
    "duration": 35,
    "start_time": "2024-06-11T18:32:48.398Z"
   },
   {
    "duration": 36,
    "start_time": "2024-06-11T18:32:48.437Z"
   },
   {
    "duration": 14,
    "start_time": "2024-06-11T18:32:48.478Z"
   },
   {
    "duration": 6,
    "start_time": "2024-06-11T18:32:48.496Z"
   },
   {
    "duration": 30,
    "start_time": "2024-06-11T18:32:48.505Z"
   },
   {
    "duration": 26,
    "start_time": "2024-06-11T18:32:48.569Z"
   },
   {
    "duration": 29,
    "start_time": "2024-06-11T18:32:48.598Z"
   },
   {
    "duration": 108,
    "start_time": "2024-06-11T18:32:48.630Z"
   },
   {
    "duration": 133,
    "start_time": "2024-06-11T18:32:48.741Z"
   },
   {
    "duration": 95,
    "start_time": "2024-06-11T18:32:48.879Z"
   },
   {
    "duration": 72,
    "start_time": "2024-06-11T18:32:48.977Z"
   },
   {
    "duration": 55,
    "start_time": "2024-06-11T18:32:49.067Z"
   },
   {
    "duration": 6,
    "start_time": "2024-06-11T18:32:49.128Z"
   },
   {
    "duration": 40,
    "start_time": "2024-06-11T18:32:49.136Z"
   },
   {
    "duration": 9,
    "start_time": "2024-06-11T18:32:49.178Z"
   },
   {
    "duration": 16,
    "start_time": "2024-06-11T18:32:49.189Z"
   },
   {
    "duration": 65,
    "start_time": "2024-06-11T18:32:49.208Z"
   },
   {
    "duration": 44,
    "start_time": "2024-06-11T18:32:49.277Z"
   },
   {
    "duration": 12,
    "start_time": "2024-06-11T18:32:49.324Z"
   },
   {
    "duration": 34,
    "start_time": "2024-06-11T18:32:49.339Z"
   },
   {
    "duration": 14,
    "start_time": "2024-06-11T18:32:55.020Z"
   },
   {
    "duration": 33,
    "start_time": "2024-06-11T18:33:18.917Z"
   }
  ],
  "kernelspec": {
   "display_name": "Python 3 (ipykernel)",
   "language": "python",
   "name": "python3"
  },
  "language_info": {
   "codemirror_mode": {
    "name": "ipython",
    "version": 3
   },
   "file_extension": ".py",
   "mimetype": "text/x-python",
   "name": "python",
   "nbconvert_exporter": "python",
   "pygments_lexer": "ipython3",
   "version": "3.11.7"
  },
  "toc": {
   "base_numbering": 1,
   "nav_menu": {},
   "number_sections": true,
   "sideBar": true,
   "skip_h1_title": true,
   "title_cell": "Table of Contents",
   "title_sidebar": "Contents",
   "toc_cell": false,
   "toc_position": {},
   "toc_section_display": true,
   "toc_window_display": false
  }
 },
 "nbformat": 4,
 "nbformat_minor": 5
}
